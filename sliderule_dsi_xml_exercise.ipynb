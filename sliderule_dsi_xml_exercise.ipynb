{
 "cells": [
  {
   "cell_type": "markdown",
   "metadata": {},
   "source": [
    "# XML example and exercise\n",
    "****\n",
    "+ study examples of accessing nodes in XML tree structure  \n",
    "+ work on exercise to be completed and submitted\n",
    "****\n",
    "+ reference: https://docs.python.org/2.7/library/xml.etree.elementtree.html\n",
    "+ data source: http://www.dbis.informatik.uni-goettingen.de/Mondial\n",
    "****"
   ]
  },
  {
   "cell_type": "code",
   "execution_count": 4,
   "metadata": {
    "collapsed": true
   },
   "outputs": [],
   "source": [
    "from xml.etree import ElementTree as ET"
   ]
  },
  {
   "cell_type": "markdown",
   "metadata": {},
   "source": [
    "## XML example\n",
    "\n",
    "+ for details about tree traversal and iterators, see https://docs.python.org/2.7/library/xml.etree.elementtree.html"
   ]
  },
  {
   "cell_type": "code",
   "execution_count": 5,
   "metadata": {
    "collapsed": true
   },
   "outputs": [],
   "source": [
    "document_tree = ET.parse( './data/mondial_database_less.xml' )"
   ]
  },
  {
   "cell_type": "code",
   "execution_count": 7,
   "metadata": {
    "collapsed": false
   },
   "outputs": [
    {
     "name": "stdout",
     "output_type": "stream",
     "text": [
      "Albania\n",
      "Greece\n",
      "Macedonia\n",
      "Serbia\n",
      "Montenegro\n",
      "Kosovo\n",
      "Andorra\n"
     ]
    }
   ],
   "source": [
    "# print names of all countries\n",
    "for child in document_tree.getroot():\n",
    "    print(child.find('name').text)"
   ]
  },
  {
   "cell_type": "code",
   "execution_count": 12,
   "metadata": {
    "collapsed": false
   },
   "outputs": [
    {
     "name": "stdout",
     "output_type": "stream",
     "text": [
      "* Albania:\n",
      "Tirana, Shkodër, Durrës, Vlorë, Elbasan, Korçë\n",
      "* Greece:\n",
      "Komotini, Kavala, Athina, Peiraias, Peristeri, Acharnes, Patra, Kozani, Kerkyra, Ioannina, Thessaloniki, Iraklio, Chania, Ermoupoli, Rhodes, Tripoli, Lamia, Chalkida, Larissa, Volos, Mytilini, Karyes\n",
      "* Macedonia:\n",
      "Skopje, Kumanovo\n",
      "* Serbia:\n",
      "Beograd, Novi Sad, Niš\n",
      "* Montenegro:\n",
      "Podgorica\n",
      "* Kosovo:\n",
      "Prishtine\n",
      "* Andorra:\n",
      "Andorra la Vella\n"
     ]
    }
   ],
   "source": [
    "# print names of all countries and their cities\n",
    "for element in document_tree.iterfind('country'):\n",
    "    print('* ' + element.find('name').text + ':')\n",
    "    capitals_string = ''\n",
    "    for subelement in element.getiterator('city'):\n",
    "        capitals_string += subelement.find('name').text + ', '\n",
    "    print(capitals_string[:-2])"
   ]
  },
  {
   "cell_type": "markdown",
   "metadata": {},
   "source": [
    "****\n",
    "## XML exercise\n",
    "\n",
    "Using data in 'data/mondial_database.xml', the examples above, and refering to https://docs.python.org/2.7/library/xml.etree.elementtree.html, find\n",
    "\n",
    "1. 10 countries with the lowest infant mortality rates\n",
    "2. 10 cities with the largest population\n",
    "3. 10 ethnic groups with the largest overall populations (sum of best/latest estimates over all countries)\n",
    "4. name and country of a) longest river, b) largest lake and c) airport at highest elevation"
   ]
  },
  {
   "cell_type": "code",
   "execution_count": 13,
   "metadata": {
    "collapsed": true
   },
   "outputs": [],
   "source": [
    "document = ET.parse( './data/mondial_database.xml' )"
   ]
  },
  {
   "cell_type": "code",
   "execution_count": 211,
   "metadata": {
    "collapsed": false
   },
   "outputs": [],
   "source": [
    "for country in document.getroot().iterfind('country'):\n",
    "    if country.find('infant_mortality') == None:\n",
    "        continue\n",
    "    #print(country.find('name').text + \" \" + country.find('infant_mortality').text)"
   ]
  },
  {
   "cell_type": "code",
   "execution_count": 34,
   "metadata": {
    "collapsed": true
   },
   "outputs": [],
   "source": [
    "import pandas as pd"
   ]
  },
  {
   "cell_type": "code",
   "execution_count": 43,
   "metadata": {
    "collapsed": false
   },
   "outputs": [
    {
     "data": {
      "text/html": [
       "<div>\n",
       "<table border=\"1\" class=\"dataframe\">\n",
       "  <thead>\n",
       "    <tr style=\"text-align: right;\">\n",
       "      <th></th>\n",
       "      <th>Country</th>\n",
       "      <th>Infant Mortality</th>\n",
       "    </tr>\n",
       "  </thead>\n",
       "  <tbody>\n",
       "  </tbody>\n",
       "</table>\n",
       "</div>"
      ],
      "text/plain": [
       "Empty DataFrame\n",
       "Columns: [Country, Infant Mortality]\n",
       "Index: []"
      ]
     },
     "execution_count": 43,
     "metadata": {},
     "output_type": "execute_result"
    }
   ],
   "source": [
    "infant_mortality = pd.DataFrame(columns=['Country', 'Infant Mortality'])\n",
    "infant_mortality"
   ]
  },
  {
   "cell_type": "code",
   "execution_count": null,
   "metadata": {
    "collapsed": true
   },
   "outputs": [],
   "source": []
  },
  {
   "cell_type": "code",
   "execution_count": 63,
   "metadata": {
    "collapsed": false
   },
   "outputs": [],
   "source": [
    "\n",
    "for country in document.getroot().iterfind('country'):\n",
    "    if country.find('infant_mortality') == None:\n",
    "        continue\n",
    "    temp = pd.DataFrame([[country.find('name').text,country.find('infant_mortality').text]],columns=['Country','Infant Mortality'])\n",
    "    infant_mortality = infant_mortality.append(temp)"
   ]
  },
  {
   "cell_type": "code",
   "execution_count": 66,
   "metadata": {
    "collapsed": false
   },
   "outputs": [],
   "source": [
    "infant_mortality['Infant Mortality'] = infant_mortality['Infant Mortality'].astype(float)"
   ]
  },
  {
   "cell_type": "code",
   "execution_count": 71,
   "metadata": {
    "collapsed": false
   },
   "outputs": [
    {
     "data": {
      "text/html": [
       "<div>\n",
       "<table border=\"1\" class=\"dataframe\">\n",
       "  <thead>\n",
       "    <tr style=\"text-align: right;\">\n",
       "      <th></th>\n",
       "      <th>Country</th>\n",
       "      <th>Infant Mortality</th>\n",
       "    </tr>\n",
       "  </thead>\n",
       "  <tbody>\n",
       "    <tr>\n",
       "      <th>0</th>\n",
       "      <td>Western Sahara</td>\n",
       "      <td>145.82</td>\n",
       "    </tr>\n",
       "    <tr>\n",
       "      <th>0</th>\n",
       "      <td>Afghanistan</td>\n",
       "      <td>117.23</td>\n",
       "    </tr>\n",
       "    <tr>\n",
       "      <th>0</th>\n",
       "      <td>Mali</td>\n",
       "      <td>104.34</td>\n",
       "    </tr>\n",
       "    <tr>\n",
       "      <th>0</th>\n",
       "      <td>Somalia</td>\n",
       "      <td>100.14</td>\n",
       "    </tr>\n",
       "    <tr>\n",
       "      <th>0</th>\n",
       "      <td>Central African Republic</td>\n",
       "      <td>92.86</td>\n",
       "    </tr>\n",
       "    <tr>\n",
       "      <th>0</th>\n",
       "      <td>Guinea-Bissau</td>\n",
       "      <td>90.92</td>\n",
       "    </tr>\n",
       "    <tr>\n",
       "      <th>0</th>\n",
       "      <td>Chad</td>\n",
       "      <td>90.30</td>\n",
       "    </tr>\n",
       "    <tr>\n",
       "      <th>0</th>\n",
       "      <td>Niger</td>\n",
       "      <td>86.27</td>\n",
       "    </tr>\n",
       "    <tr>\n",
       "      <th>0</th>\n",
       "      <td>Angola</td>\n",
       "      <td>79.99</td>\n",
       "    </tr>\n",
       "    <tr>\n",
       "      <th>0</th>\n",
       "      <td>Burkina Faso</td>\n",
       "      <td>76.80</td>\n",
       "    </tr>\n",
       "  </tbody>\n",
       "</table>\n",
       "</div>"
      ],
      "text/plain": [
       "                    Country  Infant Mortality\n",
       "0            Western Sahara            145.82\n",
       "0               Afghanistan            117.23\n",
       "0                      Mali            104.34\n",
       "0                   Somalia            100.14\n",
       "0  Central African Republic             92.86\n",
       "0             Guinea-Bissau             90.92\n",
       "0                      Chad             90.30\n",
       "0                     Niger             86.27\n",
       "0                    Angola             79.99\n",
       "0              Burkina Faso             76.80"
      ]
     },
     "execution_count": 71,
     "metadata": {},
     "output_type": "execute_result"
    }
   ],
   "source": [
    "infant_mortality.sort_values('Infant Mortality', ascending=False).head(10)"
   ]
  },
  {
   "cell_type": "code",
   "execution_count": 86,
   "metadata": {
    "collapsed": false
   },
   "outputs": [
    {
     "data": {
      "text/html": [
       "<div>\n",
       "<table border=\"1\" class=\"dataframe\">\n",
       "  <thead>\n",
       "    <tr style=\"text-align: right;\">\n",
       "      <th></th>\n",
       "      <th>City</th>\n",
       "      <th>Population</th>\n",
       "    </tr>\n",
       "  </thead>\n",
       "  <tbody>\n",
       "  </tbody>\n",
       "</table>\n",
       "</div>"
      ],
      "text/plain": [
       "Empty DataFrame\n",
       "Columns: [City, Population]\n",
       "Index: []"
      ]
     },
     "execution_count": 86,
     "metadata": {},
     "output_type": "execute_result"
    }
   ],
   "source": [
    "city_population = pd.DataFrame(columns=['City', 'Population'])\n",
    "city_population"
   ]
  },
  {
   "cell_type": "code",
   "execution_count": 87,
   "metadata": {
    "collapsed": false
   },
   "outputs": [],
   "source": [
    "for country in document.getroot().iterfind('country'):\n",
    "    for city in country.iterfind('city'):\n",
    "        if city.find('population') == None:\n",
    "            continue\n",
    "        temp = pd.DataFrame([[city.find('name').text,city.findall('population')[len(city.findall('population'))-1].text]],columns=['City','Population'])\n",
    "        city_population = city_population.append(temp)\n",
    "        "
   ]
  },
  {
   "cell_type": "code",
   "execution_count": 91,
   "metadata": {
    "collapsed": false
   },
   "outputs": [
    {
     "data": {
      "text/html": [
       "<div>\n",
       "<table border=\"1\" class=\"dataframe\">\n",
       "  <thead>\n",
       "    <tr style=\"text-align: right;\">\n",
       "      <th></th>\n",
       "      <th>City</th>\n",
       "      <th>Population</th>\n",
       "    </tr>\n",
       "  </thead>\n",
       "  <tbody>\n",
       "    <tr>\n",
       "      <th>0</th>\n",
       "      <td>Seoul</td>\n",
       "      <td>9708483</td>\n",
       "    </tr>\n",
       "    <tr>\n",
       "      <th>0</th>\n",
       "      <td>Al Qahirah</td>\n",
       "      <td>8471859</td>\n",
       "    </tr>\n",
       "    <tr>\n",
       "      <th>0</th>\n",
       "      <td>Bangkok</td>\n",
       "      <td>7506700</td>\n",
       "    </tr>\n",
       "    <tr>\n",
       "      <th>0</th>\n",
       "      <td>Hong Kong</td>\n",
       "      <td>7055071</td>\n",
       "    </tr>\n",
       "    <tr>\n",
       "      <th>0</th>\n",
       "      <td>Ho Chi Minh</td>\n",
       "      <td>5968384</td>\n",
       "    </tr>\n",
       "    <tr>\n",
       "      <th>0</th>\n",
       "      <td>Singapore</td>\n",
       "      <td>5076700</td>\n",
       "    </tr>\n",
       "    <tr>\n",
       "      <th>0</th>\n",
       "      <td>Al Iskandariyah</td>\n",
       "      <td>4123869</td>\n",
       "    </tr>\n",
       "    <tr>\n",
       "      <th>0</th>\n",
       "      <td>New Taipei</td>\n",
       "      <td>3939305</td>\n",
       "    </tr>\n",
       "    <tr>\n",
       "      <th>0</th>\n",
       "      <td>Busan</td>\n",
       "      <td>3403135</td>\n",
       "    </tr>\n",
       "    <tr>\n",
       "      <th>0</th>\n",
       "      <td>Pyongyang</td>\n",
       "      <td>3255288</td>\n",
       "    </tr>\n",
       "  </tbody>\n",
       "</table>\n",
       "</div>"
      ],
      "text/plain": [
       "              City  Population\n",
       "0            Seoul     9708483\n",
       "0       Al Qahirah     8471859\n",
       "0          Bangkok     7506700\n",
       "0        Hong Kong     7055071\n",
       "0      Ho Chi Minh     5968384\n",
       "0        Singapore     5076700\n",
       "0  Al Iskandariyah     4123869\n",
       "0       New Taipei     3939305\n",
       "0            Busan     3403135\n",
       "0        Pyongyang     3255288"
      ]
     },
     "execution_count": 91,
     "metadata": {},
     "output_type": "execute_result"
    }
   ],
   "source": [
    "city_population['Population'] = city_population['Population'].astype(int)\n",
    "city_population.sort_values('Population', ascending=False).head(10)"
   ]
  },
  {
   "cell_type": "code",
   "execution_count": null,
   "metadata": {
    "collapsed": true
   },
   "outputs": [],
   "source": []
  },
  {
   "cell_type": "code",
   "execution_count": 104,
   "metadata": {
    "collapsed": false
   },
   "outputs": [
    {
     "data": {
      "text/plain": [
       "0.95"
      ]
     },
     "execution_count": 104,
     "metadata": {},
     "output_type": "execute_result"
    }
   ],
   "source": [
    "(int(document.getroot().find('country').find('ethnicgroup').attrib['percentage'])/100)"
   ]
  },
  {
   "cell_type": "code",
   "execution_count": 108,
   "metadata": {
    "collapsed": false
   },
   "outputs": [
    {
     "data": {
      "text/plain": [
       "2800138"
      ]
     },
     "execution_count": 108,
     "metadata": {},
     "output_type": "execute_result"
    }
   ],
   "source": [
    "int(document.getroot().find('country').findall('population')[len(document.getroot().find('country').findall('population'))-1].text)"
   ]
  },
  {
   "cell_type": "code",
   "execution_count": null,
   "metadata": {
    "collapsed": true
   },
   "outputs": [],
   "source": []
  },
  {
   "cell_type": "code",
   "execution_count": 113,
   "metadata": {
    "collapsed": false
   },
   "outputs": [
    {
     "data": {
      "text/html": [
       "<div>\n",
       "<table border=\"1\" class=\"dataframe\">\n",
       "  <thead>\n",
       "    <tr style=\"text-align: right;\">\n",
       "      <th></th>\n",
       "      <th>Ethnicity</th>\n",
       "      <th>Percentage</th>\n",
       "      <th>Country Population</th>\n",
       "    </tr>\n",
       "  </thead>\n",
       "  <tbody>\n",
       "  </tbody>\n",
       "</table>\n",
       "</div>"
      ],
      "text/plain": [
       "Empty DataFrame\n",
       "Columns: [Ethnicity, Percentage, Country Population]\n",
       "Index: []"
      ]
     },
     "execution_count": 113,
     "metadata": {},
     "output_type": "execute_result"
    }
   ],
   "source": [
    "ethnic_groups = pd.DataFrame(columns=['Ethnicity','Percentage','Country Population'])\n",
    "ethnic_groups"
   ]
  },
  {
   "cell_type": "code",
   "execution_count": 119,
   "metadata": {
    "collapsed": false
   },
   "outputs": [],
   "source": [
    "for country in document.getroot().iterfind('country'):\n",
    "    for ethnicity in country.iterfind('ethnicgroup'):\n",
    "        if country.find('population') == None:\n",
    "            continue\n",
    "        temp = pd.DataFrame([[ethnicity.text,float(ethnicity.attrib['percentage'])/100,country.findall('population')[len(country.findall('population'))-1].text]],\n",
    "                           columns=['Ethnicity','Percentage','Country Population'])\n",
    "        ethnic_groups = ethnic_groups.append(temp)\n"
   ]
  },
  {
   "cell_type": "code",
   "execution_count": 123,
   "metadata": {
    "collapsed": false
   },
   "outputs": [],
   "source": [
    "ethnic_groups['Percentage'] = ethnic_groups['Percentage'].astype(float)\n",
    "ethnic_groups['Country Population'] = ethnic_groups['Country Population'].astype(int)\n",
    "ethnic_groups['Ethnic Population'] = ethnic_groups['Percentage']*ethnic_groups['Country Population']"
   ]
  },
  {
   "cell_type": "code",
   "execution_count": 135,
   "metadata": {
    "collapsed": true
   },
   "outputs": [
    {
     "data": {
      "text/html": [
       "<div>\n",
       "<table border=\"1\" class=\"dataframe\">\n",
       "  <thead>\n",
       "    <tr style=\"text-align: right;\">\n",
       "      <th></th>\n",
       "      <th>Ethnicity</th>\n",
       "      <th>Percentage</th>\n",
       "      <th>Country Population</th>\n",
       "      <th>Ethnic Population</th>\n",
       "    </tr>\n",
       "  </thead>\n",
       "  <tbody>\n",
       "    <tr>\n",
       "      <th>0</th>\n",
       "      <td>Albanian</td>\n",
       "      <td>0.9500</td>\n",
       "      <td>2800138</td>\n",
       "      <td>2660131</td>\n",
       "    </tr>\n",
       "    <tr>\n",
       "      <th>0</th>\n",
       "      <td>Greek</td>\n",
       "      <td>0.0300</td>\n",
       "      <td>2800138</td>\n",
       "      <td>84004</td>\n",
       "    </tr>\n",
       "    <tr>\n",
       "      <th>0</th>\n",
       "      <td>Greek</td>\n",
       "      <td>0.9300</td>\n",
       "      <td>7632801</td>\n",
       "      <td>7098504</td>\n",
       "    </tr>\n",
       "    <tr>\n",
       "      <th>0</th>\n",
       "      <td>Macedonian</td>\n",
       "      <td>0.6420</td>\n",
       "      <td>1935034</td>\n",
       "      <td>1242291</td>\n",
       "    </tr>\n",
       "    <tr>\n",
       "      <th>0</th>\n",
       "      <td>Albanian</td>\n",
       "      <td>0.2520</td>\n",
       "      <td>1935034</td>\n",
       "      <td>487628</td>\n",
       "    </tr>\n",
       "    <tr>\n",
       "      <th>0</th>\n",
       "      <td>Turkish</td>\n",
       "      <td>0.0390</td>\n",
       "      <td>1935034</td>\n",
       "      <td>75466</td>\n",
       "    </tr>\n",
       "    <tr>\n",
       "      <th>0</th>\n",
       "      <td>Gypsy</td>\n",
       "      <td>0.0270</td>\n",
       "      <td>1935034</td>\n",
       "      <td>52245</td>\n",
       "    </tr>\n",
       "    <tr>\n",
       "      <th>0</th>\n",
       "      <td>Serb</td>\n",
       "      <td>0.0180</td>\n",
       "      <td>1935034</td>\n",
       "      <td>34830</td>\n",
       "    </tr>\n",
       "    <tr>\n",
       "      <th>0</th>\n",
       "      <td>Albanian</td>\n",
       "      <td>0.9500</td>\n",
       "      <td>2800138</td>\n",
       "      <td>2660131</td>\n",
       "    </tr>\n",
       "    <tr>\n",
       "      <th>0</th>\n",
       "      <td>Greek</td>\n",
       "      <td>0.0300</td>\n",
       "      <td>2800138</td>\n",
       "      <td>84004</td>\n",
       "    </tr>\n",
       "    <tr>\n",
       "      <th>0</th>\n",
       "      <td>Greek</td>\n",
       "      <td>0.9300</td>\n",
       "      <td>7632801</td>\n",
       "      <td>7098504</td>\n",
       "    </tr>\n",
       "    <tr>\n",
       "      <th>0</th>\n",
       "      <td>Macedonian</td>\n",
       "      <td>0.6420</td>\n",
       "      <td>1935034</td>\n",
       "      <td>1242291</td>\n",
       "    </tr>\n",
       "    <tr>\n",
       "      <th>0</th>\n",
       "      <td>Albanian</td>\n",
       "      <td>0.2520</td>\n",
       "      <td>1935034</td>\n",
       "      <td>487628</td>\n",
       "    </tr>\n",
       "    <tr>\n",
       "      <th>0</th>\n",
       "      <td>Turkish</td>\n",
       "      <td>0.0390</td>\n",
       "      <td>1935034</td>\n",
       "      <td>75466</td>\n",
       "    </tr>\n",
       "    <tr>\n",
       "      <th>0</th>\n",
       "      <td>Gypsy</td>\n",
       "      <td>0.0270</td>\n",
       "      <td>1935034</td>\n",
       "      <td>52245</td>\n",
       "    </tr>\n",
       "    <tr>\n",
       "      <th>0</th>\n",
       "      <td>Serb</td>\n",
       "      <td>0.0180</td>\n",
       "      <td>1935034</td>\n",
       "      <td>34830</td>\n",
       "    </tr>\n",
       "    <tr>\n",
       "      <th>0</th>\n",
       "      <td>Albanian</td>\n",
       "      <td>0.9500</td>\n",
       "      <td>2800138</td>\n",
       "      <td>2660131</td>\n",
       "    </tr>\n",
       "    <tr>\n",
       "      <th>0</th>\n",
       "      <td>Greek</td>\n",
       "      <td>0.0300</td>\n",
       "      <td>2800138</td>\n",
       "      <td>84004</td>\n",
       "    </tr>\n",
       "    <tr>\n",
       "      <th>0</th>\n",
       "      <td>Greek</td>\n",
       "      <td>0.9300</td>\n",
       "      <td>10816286</td>\n",
       "      <td>10059145</td>\n",
       "    </tr>\n",
       "    <tr>\n",
       "      <th>0</th>\n",
       "      <td>Macedonian</td>\n",
       "      <td>0.6420</td>\n",
       "      <td>2059794</td>\n",
       "      <td>1322387</td>\n",
       "    </tr>\n",
       "    <tr>\n",
       "      <th>0</th>\n",
       "      <td>Albanian</td>\n",
       "      <td>0.2520</td>\n",
       "      <td>2059794</td>\n",
       "      <td>519068</td>\n",
       "    </tr>\n",
       "    <tr>\n",
       "      <th>0</th>\n",
       "      <td>Turkish</td>\n",
       "      <td>0.0390</td>\n",
       "      <td>2059794</td>\n",
       "      <td>80331</td>\n",
       "    </tr>\n",
       "    <tr>\n",
       "      <th>0</th>\n",
       "      <td>Gypsy</td>\n",
       "      <td>0.0270</td>\n",
       "      <td>2059794</td>\n",
       "      <td>55614</td>\n",
       "    </tr>\n",
       "    <tr>\n",
       "      <th>0</th>\n",
       "      <td>Serb</td>\n",
       "      <td>0.0180</td>\n",
       "      <td>2059794</td>\n",
       "      <td>37076</td>\n",
       "    </tr>\n",
       "    <tr>\n",
       "      <th>0</th>\n",
       "      <td>Serb</td>\n",
       "      <td>0.8290</td>\n",
       "      <td>7120666</td>\n",
       "      <td>5903032</td>\n",
       "    </tr>\n",
       "    <tr>\n",
       "      <th>0</th>\n",
       "      <td>Montenegrin</td>\n",
       "      <td>0.0090</td>\n",
       "      <td>7120666</td>\n",
       "      <td>64085</td>\n",
       "    </tr>\n",
       "    <tr>\n",
       "      <th>0</th>\n",
       "      <td>Hungarian</td>\n",
       "      <td>0.0390</td>\n",
       "      <td>7120666</td>\n",
       "      <td>277705</td>\n",
       "    </tr>\n",
       "    <tr>\n",
       "      <th>0</th>\n",
       "      <td>Roma</td>\n",
       "      <td>0.0140</td>\n",
       "      <td>7120666</td>\n",
       "      <td>99689</td>\n",
       "    </tr>\n",
       "    <tr>\n",
       "      <th>0</th>\n",
       "      <td>Bosniak</td>\n",
       "      <td>0.0180</td>\n",
       "      <td>7120666</td>\n",
       "      <td>128171</td>\n",
       "    </tr>\n",
       "    <tr>\n",
       "      <th>0</th>\n",
       "      <td>Croat</td>\n",
       "      <td>0.0110</td>\n",
       "      <td>7120666</td>\n",
       "      <td>78327</td>\n",
       "    </tr>\n",
       "    <tr>\n",
       "      <th>...</th>\n",
       "      <td>...</td>\n",
       "      <td>...</td>\n",
       "      <td>...</td>\n",
       "      <td>...</td>\n",
       "    </tr>\n",
       "    <tr>\n",
       "      <th>0</th>\n",
       "      <td>African</td>\n",
       "      <td>0.9900</td>\n",
       "      <td>1586624</td>\n",
       "      <td>1570757</td>\n",
       "    </tr>\n",
       "    <tr>\n",
       "      <th>0</th>\n",
       "      <td>Asian</td>\n",
       "      <td>0.0100</td>\n",
       "      <td>5751976</td>\n",
       "      <td>57519</td>\n",
       "    </tr>\n",
       "    <tr>\n",
       "      <th>0</th>\n",
       "      <td>African</td>\n",
       "      <td>0.9900</td>\n",
       "      <td>5751976</td>\n",
       "      <td>5694456</td>\n",
       "    </tr>\n",
       "    <tr>\n",
       "      <th>0</th>\n",
       "      <td>Rwanda</td>\n",
       "      <td>0.0600</td>\n",
       "      <td>34856813</td>\n",
       "      <td>2091408</td>\n",
       "    </tr>\n",
       "    <tr>\n",
       "      <th>0</th>\n",
       "      <td>Arab</td>\n",
       "      <td>0.0100</td>\n",
       "      <td>34856813</td>\n",
       "      <td>348568</td>\n",
       "    </tr>\n",
       "    <tr>\n",
       "      <th>0</th>\n",
       "      <td>Baganda</td>\n",
       "      <td>0.1700</td>\n",
       "      <td>34856813</td>\n",
       "      <td>5925658</td>\n",
       "    </tr>\n",
       "    <tr>\n",
       "      <th>0</th>\n",
       "      <td>Karamojong</td>\n",
       "      <td>0.1200</td>\n",
       "      <td>34856813</td>\n",
       "      <td>4182817</td>\n",
       "    </tr>\n",
       "    <tr>\n",
       "      <th>0</th>\n",
       "      <td>Basogo</td>\n",
       "      <td>0.0800</td>\n",
       "      <td>34856813</td>\n",
       "      <td>2788545</td>\n",
       "    </tr>\n",
       "    <tr>\n",
       "      <th>0</th>\n",
       "      <td>Iteso</td>\n",
       "      <td>0.0800</td>\n",
       "      <td>34856813</td>\n",
       "      <td>2788545</td>\n",
       "    </tr>\n",
       "    <tr>\n",
       "      <th>0</th>\n",
       "      <td>Langi</td>\n",
       "      <td>0.0600</td>\n",
       "      <td>34856813</td>\n",
       "      <td>2091408</td>\n",
       "    </tr>\n",
       "    <tr>\n",
       "      <th>0</th>\n",
       "      <td>Bagisu</td>\n",
       "      <td>0.0500</td>\n",
       "      <td>34856813</td>\n",
       "      <td>1742840</td>\n",
       "    </tr>\n",
       "    <tr>\n",
       "      <th>0</th>\n",
       "      <td>Acholi</td>\n",
       "      <td>0.0400</td>\n",
       "      <td>34856813</td>\n",
       "      <td>1394272</td>\n",
       "    </tr>\n",
       "    <tr>\n",
       "      <th>0</th>\n",
       "      <td>Lugbara</td>\n",
       "      <td>0.0400</td>\n",
       "      <td>34856813</td>\n",
       "      <td>1394272</td>\n",
       "    </tr>\n",
       "    <tr>\n",
       "      <th>0</th>\n",
       "      <td>Bunyoro</td>\n",
       "      <td>0.0300</td>\n",
       "      <td>34856813</td>\n",
       "      <td>1045704</td>\n",
       "    </tr>\n",
       "    <tr>\n",
       "      <th>0</th>\n",
       "      <td>Batobo</td>\n",
       "      <td>0.0300</td>\n",
       "      <td>34856813</td>\n",
       "      <td>1045704</td>\n",
       "    </tr>\n",
       "    <tr>\n",
       "      <th>0</th>\n",
       "      <td>Sotho</td>\n",
       "      <td>0.9970</td>\n",
       "      <td>2008921</td>\n",
       "      <td>2002894</td>\n",
       "    </tr>\n",
       "    <tr>\n",
       "      <th>0</th>\n",
       "      <td>European</td>\n",
       "      <td>0.0006</td>\n",
       "      <td>23700715</td>\n",
       "      <td>14220</td>\n",
       "    </tr>\n",
       "    <tr>\n",
       "      <th>0</th>\n",
       "      <td>Indian</td>\n",
       "      <td>0.0008</td>\n",
       "      <td>23700715</td>\n",
       "      <td>18960</td>\n",
       "    </tr>\n",
       "    <tr>\n",
       "      <th>0</th>\n",
       "      <td>Euro-African</td>\n",
       "      <td>0.0020</td>\n",
       "      <td>23700715</td>\n",
       "      <td>47401</td>\n",
       "    </tr>\n",
       "    <tr>\n",
       "      <th>0</th>\n",
       "      <td>Creole</td>\n",
       "      <td>0.2700</td>\n",
       "      <td>1237091</td>\n",
       "      <td>334014</td>\n",
       "    </tr>\n",
       "    <tr>\n",
       "      <th>0</th>\n",
       "      <td>Indo-Mauritian</td>\n",
       "      <td>0.6800</td>\n",
       "      <td>1237091</td>\n",
       "      <td>841221</td>\n",
       "    </tr>\n",
       "    <tr>\n",
       "      <th>0</th>\n",
       "      <td>Sino-Mauritian</td>\n",
       "      <td>0.0300</td>\n",
       "      <td>1237091</td>\n",
       "      <td>37112</td>\n",
       "    </tr>\n",
       "    <tr>\n",
       "      <th>0</th>\n",
       "      <td>Franco-Mauritian</td>\n",
       "      <td>0.0200</td>\n",
       "      <td>1237091</td>\n",
       "      <td>24741</td>\n",
       "    </tr>\n",
       "    <tr>\n",
       "      <th>0</th>\n",
       "      <td>European</td>\n",
       "      <td>0.0300</td>\n",
       "      <td>1193148</td>\n",
       "      <td>35794</td>\n",
       "    </tr>\n",
       "    <tr>\n",
       "      <th>0</th>\n",
       "      <td>African</td>\n",
       "      <td>0.9700</td>\n",
       "      <td>1193148</td>\n",
       "      <td>1157353</td>\n",
       "    </tr>\n",
       "    <tr>\n",
       "      <th>0</th>\n",
       "      <td>African descent</td>\n",
       "      <td>0.5000</td>\n",
       "      <td>5663</td>\n",
       "      <td>2831</td>\n",
       "    </tr>\n",
       "    <tr>\n",
       "      <th>0</th>\n",
       "      <td>White</td>\n",
       "      <td>0.2500</td>\n",
       "      <td>5663</td>\n",
       "      <td>1415</td>\n",
       "    </tr>\n",
       "    <tr>\n",
       "      <th>0</th>\n",
       "      <td>Chinese</td>\n",
       "      <td>0.2500</td>\n",
       "      <td>5663</td>\n",
       "      <td>1415</td>\n",
       "    </tr>\n",
       "    <tr>\n",
       "      <th>0</th>\n",
       "      <td>European</td>\n",
       "      <td>1.0000</td>\n",
       "      <td>187356</td>\n",
       "      <td>187356</td>\n",
       "    </tr>\n",
       "    <tr>\n",
       "      <th>0</th>\n",
       "      <td>Seychellois</td>\n",
       "      <td>1.0000</td>\n",
       "      <td>90945</td>\n",
       "      <td>90945</td>\n",
       "    </tr>\n",
       "  </tbody>\n",
       "</table>\n",
       "<p>644 rows × 4 columns</p>\n",
       "</div>"
      ],
      "text/plain": [
       "           Ethnicity  Percentage  Country Population  Ethnic Population\n",
       "0           Albanian      0.9500             2800138            2660131\n",
       "0              Greek      0.0300             2800138              84004\n",
       "0              Greek      0.9300             7632801            7098504\n",
       "0         Macedonian      0.6420             1935034            1242291\n",
       "0           Albanian      0.2520             1935034             487628\n",
       "0            Turkish      0.0390             1935034              75466\n",
       "0              Gypsy      0.0270             1935034              52245\n",
       "0               Serb      0.0180             1935034              34830\n",
       "0           Albanian      0.9500             2800138            2660131\n",
       "0              Greek      0.0300             2800138              84004\n",
       "0              Greek      0.9300             7632801            7098504\n",
       "0         Macedonian      0.6420             1935034            1242291\n",
       "0           Albanian      0.2520             1935034             487628\n",
       "0            Turkish      0.0390             1935034              75466\n",
       "0              Gypsy      0.0270             1935034              52245\n",
       "0               Serb      0.0180             1935034              34830\n",
       "0           Albanian      0.9500             2800138            2660131\n",
       "0              Greek      0.0300             2800138              84004\n",
       "0              Greek      0.9300            10816286           10059145\n",
       "0         Macedonian      0.6420             2059794            1322387\n",
       "0           Albanian      0.2520             2059794             519068\n",
       "0            Turkish      0.0390             2059794              80331\n",
       "0              Gypsy      0.0270             2059794              55614\n",
       "0               Serb      0.0180             2059794              37076\n",
       "0               Serb      0.8290             7120666            5903032\n",
       "0        Montenegrin      0.0090             7120666              64085\n",
       "0          Hungarian      0.0390             7120666             277705\n",
       "0               Roma      0.0140             7120666              99689\n",
       "0            Bosniak      0.0180             7120666             128171\n",
       "0              Croat      0.0110             7120666              78327\n",
       "..               ...         ...                 ...                ...\n",
       "0            African      0.9900             1586624            1570757\n",
       "0              Asian      0.0100             5751976              57519\n",
       "0            African      0.9900             5751976            5694456\n",
       "0             Rwanda      0.0600            34856813            2091408\n",
       "0               Arab      0.0100            34856813             348568\n",
       "0            Baganda      0.1700            34856813            5925658\n",
       "0         Karamojong      0.1200            34856813            4182817\n",
       "0             Basogo      0.0800            34856813            2788545\n",
       "0              Iteso      0.0800            34856813            2788545\n",
       "0              Langi      0.0600            34856813            2091408\n",
       "0             Bagisu      0.0500            34856813            1742840\n",
       "0             Acholi      0.0400            34856813            1394272\n",
       "0            Lugbara      0.0400            34856813            1394272\n",
       "0            Bunyoro      0.0300            34856813            1045704\n",
       "0             Batobo      0.0300            34856813            1045704\n",
       "0              Sotho      0.9970             2008921            2002894\n",
       "0           European      0.0006            23700715              14220\n",
       "0             Indian      0.0008            23700715              18960\n",
       "0       Euro-African      0.0020            23700715              47401\n",
       "0             Creole      0.2700             1237091             334014\n",
       "0     Indo-Mauritian      0.6800             1237091             841221\n",
       "0     Sino-Mauritian      0.0300             1237091              37112\n",
       "0   Franco-Mauritian      0.0200             1237091              24741\n",
       "0           European      0.0300             1193148              35794\n",
       "0            African      0.9700             1193148            1157353\n",
       "0    African descent      0.5000                5663               2831\n",
       "0              White      0.2500                5663               1415\n",
       "0            Chinese      0.2500                5663               1415\n",
       "0           European      1.0000              187356             187356\n",
       "0        Seychellois      1.0000               90945              90945\n",
       "\n",
       "[644 rows x 4 columns]"
      ]
     },
     "execution_count": 135,
     "metadata": {},
     "output_type": "execute_result"
    }
   ],
   "source": [
    "ethnic_groups['Ethnic Population'] = ethnic_groups['Ethnic Population'].astype(int)\n",
    "ethnic_groups"
   ]
  },
  {
   "cell_type": "code",
   "execution_count": 210,
   "metadata": {
    "collapsed": false
   },
   "outputs": [
    {
     "data": {
      "text/html": [
       "<div>\n",
       "<table border=\"1\" class=\"dataframe\">\n",
       "  <thead>\n",
       "    <tr style=\"text-align: right;\">\n",
       "      <th></th>\n",
       "      <th>Percentage</th>\n",
       "      <th>Country Population</th>\n",
       "      <th>Ethnic Population</th>\n",
       "    </tr>\n",
       "    <tr>\n",
       "      <th>Ethnicity</th>\n",
       "      <th></th>\n",
       "      <th></th>\n",
       "      <th></th>\n",
       "    </tr>\n",
       "  </thead>\n",
       "  <tbody>\n",
       "    <tr>\n",
       "      <th>Han Chinese</th>\n",
       "      <td>0.9150</td>\n",
       "      <td>1360720000</td>\n",
       "      <td>1245058800</td>\n",
       "    </tr>\n",
       "    <tr>\n",
       "      <th>Indo-Aryan</th>\n",
       "      <td>0.7200</td>\n",
       "      <td>1210854977</td>\n",
       "      <td>871815583</td>\n",
       "    </tr>\n",
       "    <tr>\n",
       "      <th>European</th>\n",
       "      <td>9.7082</td>\n",
       "      <td>1157295639</td>\n",
       "      <td>494872201</td>\n",
       "    </tr>\n",
       "    <tr>\n",
       "      <th>African</th>\n",
       "      <td>18.6855</td>\n",
       "      <td>975352746</td>\n",
       "      <td>318325104</td>\n",
       "    </tr>\n",
       "    <tr>\n",
       "      <th>Dravidian</th>\n",
       "      <td>0.2500</td>\n",
       "      <td>1210854977</td>\n",
       "      <td>302713744</td>\n",
       "    </tr>\n",
       "    <tr>\n",
       "      <th>Mestizo</th>\n",
       "      <td>8.7070</td>\n",
       "      <td>279743964</td>\n",
       "      <td>157734349</td>\n",
       "    </tr>\n",
       "    <tr>\n",
       "      <th>Bengali</th>\n",
       "      <td>0.9800</td>\n",
       "      <td>149772364</td>\n",
       "      <td>146776916</td>\n",
       "    </tr>\n",
       "    <tr>\n",
       "      <th>Russian</th>\n",
       "      <td>2.2410</td>\n",
       "      <td>322438406</td>\n",
       "      <td>131856989</td>\n",
       "    </tr>\n",
       "    <tr>\n",
       "      <th>Japanese</th>\n",
       "      <td>0.9940</td>\n",
       "      <td>127298000</td>\n",
       "      <td>126534212</td>\n",
       "    </tr>\n",
       "    <tr>\n",
       "      <th>Malay</th>\n",
       "      <td>2.4230</td>\n",
       "      <td>377500275</td>\n",
       "      <td>121993548</td>\n",
       "    </tr>\n",
       "  </tbody>\n",
       "</table>\n",
       "</div>"
      ],
      "text/plain": [
       "             Percentage  Country Population  Ethnic Population\n",
       "Ethnicity                                                     \n",
       "Han Chinese      0.9150          1360720000         1245058800\n",
       "Indo-Aryan       0.7200          1210854977          871815583\n",
       "European         9.7082          1157295639          494872201\n",
       "African         18.6855           975352746          318325104\n",
       "Dravidian        0.2500          1210854977          302713744\n",
       "Mestizo          8.7070           279743964          157734349\n",
       "Bengali          0.9800           149772364          146776916\n",
       "Russian          2.2410           322438406          131856989\n",
       "Japanese         0.9940           127298000          126534212\n",
       "Malay            2.4230           377500275          121993548"
      ]
     },
     "execution_count": 210,
     "metadata": {},
     "output_type": "execute_result"
    }
   ],
   "source": [
    "ethnic_groups.groupby(['Ethnicity',]).sum().sort_values('Ethnic Population',ascending=False).head(10)"
   ]
  },
  {
   "cell_type": "code",
   "execution_count": 138,
   "metadata": {
    "collapsed": false
   },
   "outputs": [
    {
     "data": {
      "text/plain": [
       "5983854907"
      ]
     },
     "execution_count": 138,
     "metadata": {},
     "output_type": "execute_result"
    }
   ],
   "source": [
    "ethnic_groups['Ethnic Population'].sum()"
   ]
  },
  {
   "cell_type": "code",
   "execution_count": null,
   "metadata": {
    "collapsed": true
   },
   "outputs": [],
   "source": []
  },
  {
   "cell_type": "code",
   "execution_count": 160,
   "metadata": {
    "collapsed": false
   },
   "outputs": [
    {
     "name": "stdout",
     "output_type": "stream",
     "text": [
      "Thjorsa\n",
      "230\n",
      "Iceland\n"
     ]
    }
   ],
   "source": [
    "print(document.getroot().find('river').find('name').text)\n",
    "country_abbrev = document.getroot().find('river').find('source').attrib['country']\n",
    "print(int(document.getroot().find('river').find('length').text))\n",
    "\n",
    "for country in document.getroot().iterfind('country'):\n",
    "    if country.attrib['car_code'] == country_abbrev:\n",
    "        print(country.find('name').text)"
   ]
  },
  {
   "cell_type": "code",
   "execution_count": 162,
   "metadata": {
    "collapsed": false
   },
   "outputs": [
    {
     "data": {
      "text/html": [
       "<div>\n",
       "<table border=\"1\" class=\"dataframe\">\n",
       "  <thead>\n",
       "    <tr style=\"text-align: right;\">\n",
       "      <th></th>\n",
       "      <th>Country</th>\n",
       "      <th>River Name</th>\n",
       "      <th>Length</th>\n",
       "    </tr>\n",
       "  </thead>\n",
       "  <tbody>\n",
       "  </tbody>\n",
       "</table>\n",
       "</div>"
      ],
      "text/plain": [
       "Empty DataFrame\n",
       "Columns: [Country, River Name, Length]\n",
       "Index: []"
      ]
     },
     "execution_count": 162,
     "metadata": {},
     "output_type": "execute_result"
    }
   ],
   "source": [
    "rivers = pd.DataFrame(columns=['Country','River Name','Length'])\n",
    "rivers"
   ]
  },
  {
   "cell_type": "code",
   "execution_count": 166,
   "metadata": {
    "collapsed": false
   },
   "outputs": [],
   "source": [
    "for river in document.getroot().iterfind('river'):\n",
    "    if river.find('length')==None:\n",
    "        continue\n",
    "    country_abbrev = river.find('source').attrib['country']\n",
    "    river_name = river.find('name').text\n",
    "    length = float(river.find('length').text)\n",
    "    for country in document.getroot().iterfind('country'):\n",
    "        if country.attrib['car_code'] == country_abbrev:\n",
    "            country_name = country.find('name').text\n",
    "    temp = pd.DataFrame([[country_name,river_name,length]],columns=['Country','River Name','Length'])\n",
    "    rivers = rivers.append(temp)"
   ]
  },
  {
   "cell_type": "code",
   "execution_count": 170,
   "metadata": {
    "collapsed": false
   },
   "outputs": [
    {
     "data": {
      "text/html": [
       "<div>\n",
       "<table border=\"1\" class=\"dataframe\">\n",
       "  <thead>\n",
       "    <tr style=\"text-align: right;\">\n",
       "      <th></th>\n",
       "      <th>Country</th>\n",
       "      <th>River Name</th>\n",
       "      <th>Length</th>\n",
       "    </tr>\n",
       "  </thead>\n",
       "  <tbody>\n",
       "    <tr>\n",
       "      <th>0</th>\n",
       "      <td>Peru</td>\n",
       "      <td>Amazonas</td>\n",
       "      <td>6448.0</td>\n",
       "    </tr>\n",
       "  </tbody>\n",
       "</table>\n",
       "</div>"
      ],
      "text/plain": [
       "  Country River Name  Length\n",
       "0    Peru   Amazonas  6448.0"
      ]
     },
     "execution_count": 170,
     "metadata": {},
     "output_type": "execute_result"
    }
   ],
   "source": [
    "rivers.sort_values('Length',ascending=False).head(1)"
   ]
  },
  {
   "cell_type": "code",
   "execution_count": null,
   "metadata": {
    "collapsed": true
   },
   "outputs": [],
   "source": []
  },
  {
   "cell_type": "code",
   "execution_count": 177,
   "metadata": {
    "collapsed": false
   },
   "outputs": [
    {
     "name": "stdout",
     "output_type": "stream",
     "text": [
      "Inari\n",
      "1040\n",
      "Finland\n"
     ]
    }
   ],
   "source": [
    "print(document.getroot().find('lake').find('name').text)\n",
    "print(document.getroot().find('lake').find('area').text)\n",
    "country_abbrev = document.getroot().find('lake').attrib['country']\n",
    "for country in document.getroot().iterfind('country'):\n",
    "    if country.attrib['car_code'] == country_abbrev:\n",
    "        print(country.find('name').text)"
   ]
  },
  {
   "cell_type": "code",
   "execution_count": 190,
   "metadata": {
    "collapsed": false
   },
   "outputs": [
    {
     "data": {
      "text/html": [
       "<div>\n",
       "<table border=\"1\" class=\"dataframe\">\n",
       "  <thead>\n",
       "    <tr style=\"text-align: right;\">\n",
       "      <th></th>\n",
       "      <th>Country</th>\n",
       "      <th>Lake</th>\n",
       "      <th>Area</th>\n",
       "    </tr>\n",
       "  </thead>\n",
       "  <tbody>\n",
       "  </tbody>\n",
       "</table>\n",
       "</div>"
      ],
      "text/plain": [
       "Empty DataFrame\n",
       "Columns: [Country, Lake, Area]\n",
       "Index: []"
      ]
     },
     "execution_count": 190,
     "metadata": {},
     "output_type": "execute_result"
    }
   ],
   "source": [
    "lakes_df1 = pd.DataFrame(columns=['Country','Lake','Area'])\n",
    "lakes_df1"
   ]
  },
  {
   "cell_type": "code",
   "execution_count": 191,
   "metadata": {
    "collapsed": false
   },
   "outputs": [],
   "source": [
    "for lake in document.getroot().iterfind('lake'):\n",
    "    if lake.find('area') == None:\n",
    "        continue\n",
    "    lake_name = lake.find('name').text\n",
    "    lake_area = float(lake.find('area').text)\n",
    "    country_abbrev = lake.attrib['country']\n",
    "    for country in document.getroot().iterfind('country'):\n",
    "        if country.attrib['car_code'] == country_abbrev:\n",
    "            country_name = country.find('name').text\n",
    "    temp = pd.DataFrame([[country_name,lake_name,lake_area]],columns=['Country','Lake','Area'])\n",
    "    lakes_df1 = lakes_df1.append(temp)"
   ]
  },
  {
   "cell_type": "code",
   "execution_count": 194,
   "metadata": {
    "collapsed": false
   },
   "outputs": [
    {
     "data": {
      "text/html": [
       "<div>\n",
       "<table border=\"1\" class=\"dataframe\">\n",
       "  <thead>\n",
       "    <tr style=\"text-align: right;\">\n",
       "      <th></th>\n",
       "      <th>Country</th>\n",
       "      <th>Lake</th>\n",
       "      <th>Area</th>\n",
       "    </tr>\n",
       "  </thead>\n",
       "  <tbody>\n",
       "    <tr>\n",
       "      <th>0</th>\n",
       "      <td>Iran</td>\n",
       "      <td>Caspian Sea</td>\n",
       "      <td>386400.0</td>\n",
       "    </tr>\n",
       "  </tbody>\n",
       "</table>\n",
       "</div>"
      ],
      "text/plain": [
       "  Country         Lake      Area\n",
       "0    Iran  Caspian Sea  386400.0"
      ]
     },
     "execution_count": 194,
     "metadata": {},
     "output_type": "execute_result"
    }
   ],
   "source": [
    "lakes_df1.sort_values('Area',ascending=False).head(1)"
   ]
  },
  {
   "cell_type": "code",
   "execution_count": null,
   "metadata": {
    "collapsed": true
   },
   "outputs": [],
   "source": []
  },
  {
   "cell_type": "code",
   "execution_count": 198,
   "metadata": {
    "collapsed": false
   },
   "outputs": [
    {
     "name": "stdout",
     "output_type": "stream",
     "text": [
      "Herat\n",
      "977\n",
      "AFG\n"
     ]
    }
   ],
   "source": [
    "print(document.getroot().find('airport').find('name').text)\n",
    "print(document.getroot().find('airport').find('elevation').text)\n",
    "print(document.getroot().find('airport').attrib['country'])"
   ]
  },
  {
   "cell_type": "code",
   "execution_count": 199,
   "metadata": {
    "collapsed": false
   },
   "outputs": [
    {
     "data": {
      "text/html": [
       "<div>\n",
       "<table border=\"1\" class=\"dataframe\">\n",
       "  <thead>\n",
       "    <tr style=\"text-align: right;\">\n",
       "      <th></th>\n",
       "      <th>Country</th>\n",
       "      <th>Airport</th>\n",
       "      <th>Elevation</th>\n",
       "    </tr>\n",
       "  </thead>\n",
       "  <tbody>\n",
       "  </tbody>\n",
       "</table>\n",
       "</div>"
      ],
      "text/plain": [
       "Empty DataFrame\n",
       "Columns: [Country, Airport, Elevation]\n",
       "Index: []"
      ]
     },
     "execution_count": 199,
     "metadata": {},
     "output_type": "execute_result"
    }
   ],
   "source": [
    "airports = pd.DataFrame(columns=['Country','Airport','Elevation'])\n",
    "airports"
   ]
  },
  {
   "cell_type": "code",
   "execution_count": 204,
   "metadata": {
    "collapsed": false
   },
   "outputs": [],
   "source": [
    "for airport in document.getroot().iterfind('airport'):\n",
    "    if airport.find('elevation')==None:\n",
    "        continue\n",
    "    airport_name = airport.find('name').text\n",
    "    elevation = airport.find('elevation').text\n",
    "    country_abbrev = airport.attrib['country']\n",
    "    for country in document.getroot().iterfind('country'):\n",
    "        if country.attrib['car_code'] == country_abbrev:\n",
    "            country_name = country.find('name').text\n",
    "    temp = pd.DataFrame([[country_name,airport_name,elevation]],columns=['Country','Airport','Elevation'])\n",
    "    airports = airports.append(temp)\n",
    "            "
   ]
  },
  {
   "cell_type": "code",
   "execution_count": 206,
   "metadata": {
    "collapsed": false
   },
   "outputs": [],
   "source": [
    "airports['Elevation'] = airports['Elevation'].astype(float)"
   ]
  },
  {
   "cell_type": "code",
   "execution_count": 209,
   "metadata": {
    "collapsed": false
   },
   "outputs": [
    {
     "data": {
      "text/html": [
       "<div>\n",
       "<table border=\"1\" class=\"dataframe\">\n",
       "  <thead>\n",
       "    <tr style=\"text-align: right;\">\n",
       "      <th></th>\n",
       "      <th>Country</th>\n",
       "      <th>Airport</th>\n",
       "      <th>Elevation</th>\n",
       "    </tr>\n",
       "  </thead>\n",
       "  <tbody>\n",
       "    <tr>\n",
       "      <th>0</th>\n",
       "      <td>Bolivia</td>\n",
       "      <td>El Alto Intl</td>\n",
       "      <td>4063.0</td>\n",
       "    </tr>\n",
       "  </tbody>\n",
       "</table>\n",
       "</div>"
      ],
      "text/plain": [
       "   Country       Airport  Elevation\n",
       "0  Bolivia  El Alto Intl     4063.0"
      ]
     },
     "execution_count": 209,
     "metadata": {},
     "output_type": "execute_result"
    }
   ],
   "source": [
    "airports.sort_values('Elevation',ascending=False).head(1)"
   ]
  },
  {
   "cell_type": "code",
   "execution_count": null,
   "metadata": {
    "collapsed": true
   },
   "outputs": [],
   "source": []
  },
  {
   "cell_type": "code",
   "execution_count": null,
   "metadata": {
    "collapsed": true
   },
   "outputs": [],
   "source": []
  }
 ],
 "metadata": {
  "kernelspec": {
   "display_name": "Python 3",
   "language": "python",
   "name": "python3"
  },
  "language_info": {
   "codemirror_mode": {
    "name": "ipython",
    "version": 3
   },
   "file_extension": ".py",
   "mimetype": "text/x-python",
   "name": "python",
   "nbconvert_exporter": "python",
   "pygments_lexer": "ipython3",
   "version": "3.6.0"
  }
 },
 "nbformat": 4,
 "nbformat_minor": 0
}
