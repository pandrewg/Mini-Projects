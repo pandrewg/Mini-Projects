{
 "cells": [
  {
   "cell_type": "code",
   "execution_count": 1,
   "metadata": {
    "collapsed": true
   },
   "outputs": [],
   "source": [
    "import numpy as np\n",
    "import pandas as pd\n",
    "import matplotlib.pyplot as plt\n",
    "import seaborn as sns\n",
    "import os.path\n",
    "\n",
    "%matplotlib inline"
   ]
  },
  {
   "cell_type": "code",
   "execution_count": 2,
   "metadata": {
    "collapsed": true
   },
   "outputs": [],
   "source": [
    "users = pd.read_csv(\"./takehome_users.csv\",encoding='latin-1')\n",
    "engagement = pd.read_csv(\"./takehome_user_engagement.csv\",encoding='latin-1')\n",
    "\n",
    "users.creation_time = pd.to_datetime(users.creation_time)\n",
    "engagement.time_stamp = pd.to_datetime(engagement.time_stamp)"
   ]
  },
  {
   "cell_type": "code",
   "execution_count": 3,
   "metadata": {
    "collapsed": true
   },
   "outputs": [],
   "source": [
    "# users with at least 3 logins. need to further filter to those which logged in 3 times within a week\n",
    "# instantiating the extra variable may not be necessary, but makes the code a bit more readable\n",
    "\n",
    "potential_adopted = list(engagement.groupby('user_id').count()[engagement.groupby('user_id').count().time_stamp > 2].index)\n",
    "engagement_of_potentials = engagement[engagement.user_id.isin(potential_adopted)].copy()"
   ]
  },
  {
   "cell_type": "code",
   "execution_count": 4,
   "metadata": {
    "collapsed": true
   },
   "outputs": [],
   "source": [
    "# note, this approach would not work if the dataset were much larger..this is computationally expensive\n",
    "\n",
    "adopted_users = []\n",
    "\n",
    "for user in potential_adopted:\n",
    "    user_logins = engagement_of_potentials[engagement_of_potentials.user_id==user].copy()\n",
    "    for index in user_logins.index:\n",
    "        window_min = user_logins.loc[index,'time_stamp']\n",
    "        window_max = user_logins.loc[index,'time_stamp'] + np.timedelta64(7,'D')\n",
    "        \n",
    "        if len(user_logins[(user_logins.time_stamp >= window_min) & (user_logins.time_stamp <= window_max)]) >= 3:\n",
    "            adopted_users.append(user)\n",
    "            break\n",
    "        "
   ]
  },
  {
   "cell_type": "code",
   "execution_count": 5,
   "metadata": {},
   "outputs": [],
   "source": [
    "users['adopted'] = users.object_id.isin(adopted_users).astype(int)"
   ]
  },
  {
   "cell_type": "code",
   "execution_count": 6,
   "metadata": {
    "collapsed": true
   },
   "outputs": [],
   "source": [
    "# this is not really necessary to separate adopted/unadopted into two dataframes\n",
    "\n",
    "adopted_user_info = users[users.object_id.isin(adopted_users)].copy()\n",
    "unadopted_user_info = users[~users.object_id.isin(adopted_users)].copy()"
   ]
  },
  {
   "cell_type": "code",
   "execution_count": 7,
   "metadata": {},
   "outputs": [
    {
     "name": "stdout",
     "output_type": "stream",
     "text": [
      "1656\n",
      "10344\n"
     ]
    }
   ],
   "source": [
    "# there are much more unadopted users than adopted\n",
    "\n",
    "print(len(adopted_user_info))\n",
    "print(len(unadopted_user_info))"
   ]
  },
  {
   "cell_type": "code",
   "execution_count": 8,
   "metadata": {},
   "outputs": [
    {
     "name": "stdout",
     "output_type": "stream",
     "text": [
      "creation_source\n",
      "GUEST_INVITE          0.222826\n",
      "ORG_INVITE            0.346618\n",
      "PERSONAL_PROJECTS     0.103865\n",
      "SIGNUP                0.182367\n",
      "SIGNUP_GOOGLE_AUTH    0.144324\n",
      "Name: object_id, dtype: float64\n",
      "\n",
      "creation_source\n",
      "GUEST_INVITE          0.173434\n",
      "ORG_INVITE            0.355762\n",
      "PERSONAL_PROJECTS     0.187452\n",
      "SIGNUP                0.172564\n",
      "SIGNUP_GOOGLE_AUTH    0.110789\n",
      "Name: object_id, dtype: float64\n"
     ]
    }
   ],
   "source": [
    "# a greater proportion of adopted users create their account through a guest invite or through their google account\n",
    "# conversely, a relatively greater proportion of users end up not adopting the product when signing up through\n",
    "# personal projects\n",
    "\n",
    "print((adopted_user_info.groupby('creation_source').count()/len(adopted_user_info))['object_id'])\n",
    "print('')\n",
    "print((unadopted_user_info.groupby('creation_source').count()/len(unadopted_user_info))['object_id'])"
   ]
  },
  {
   "cell_type": "code",
   "execution_count": 9,
   "metadata": {},
   "outputs": [
    {
     "name": "stdout",
     "output_type": "stream",
     "text": [
      "0.25905797101449274\n",
      "0.24796983758700697\n"
     ]
    }
   ],
   "source": [
    "# frequency of opting into mailing list is about the same for adopted and unadopted users. not predictive\n",
    "\n",
    "print(adopted_user_info.opted_in_to_mailing_list.mean())\n",
    "print(unadopted_user_info.opted_in_to_mailing_list.mean())"
   ]
  },
  {
   "cell_type": "code",
   "execution_count": 10,
   "metadata": {},
   "outputs": [
    {
     "name": "stdout",
     "output_type": "stream",
     "text": [
      "0.15519323671497584\n",
      "0.1483952049497293\n"
     ]
    }
   ],
   "source": [
    "# about equal frequency of enabling marketing email drop as well. not predictive\n",
    "\n",
    "print(adopted_user_info.enabled_for_marketing_drip.mean())\n",
    "print(unadopted_user_info.enabled_for_marketing_drip.mean())"
   ]
  },
  {
   "cell_type": "code",
   "execution_count": 11,
   "metadata": {},
   "outputs": [
    {
     "name": "stdout",
     "output_type": "stream",
     "text": [
      "4.129675810473816\n",
      "24.805755395683452\n"
     ]
    }
   ],
   "source": [
    "# it is difficult to get users who create an account with an organization to adopt the product..\n",
    "# on average, much more users who create an account with an organization tend not to adopt the product than do (about 6 fold)\n",
    "\n",
    "# about 4 users adopt per organizational invite; about 24 users do not adopt per organizational invite\n",
    "\n",
    "print(adopted_user_info.groupby('org_id')['object_id'].count().mean())\n",
    "print(unadopted_user_info.groupby('org_id')['object_id'].count().mean())"
   ]
  },
  {
   "cell_type": "code",
   "execution_count": 12,
   "metadata": {},
   "outputs": [
    {
     "name": "stdout",
     "output_type": "stream",
     "text": [
      "1.2278645833333333\n",
      "2.2884615384615383\n"
     ]
    }
   ],
   "source": [
    "# almost twice as often, users who are invited by another user end up not adopting the product. this is not necessarily\n",
    "# because invitations dissuade users from adopting the product..it's more likely an instrinsic cause of users tending\n",
    "# not to adopt the product\n",
    "\n",
    "print(adopted_user_info.groupby('invited_by_user_id')['object_id'].count().mean())\n",
    "print(unadopted_user_info.groupby('invited_by_user_id')['object_id'].count().mean())"
   ]
  },
  {
   "cell_type": "code",
   "execution_count": 13,
   "metadata": {},
   "outputs": [
    {
     "name": "stdout",
     "output_type": "stream",
     "text": [
      "time_stamp    119.762681\n",
      "visited       119.762681\n",
      "dtype: float64\n",
      "\n",
      "time_stamp    1.338077\n",
      "visited       1.338077\n",
      "dtype: float64\n"
     ]
    }
   ],
   "source": [
    "# on average, in total, adopted users log in far more often than unadopted users (close to 100 fold)..regardless of whether\n",
    "# the logins were contained in a 7 day period\n",
    "\n",
    "print(engagement[engagement.user_id.isin(adopted_users)].groupby('user_id').count().mean())\n",
    "print('')\n",
    "print(engagement[~engagement.user_id.isin(adopted_users)].groupby('user_id').count().mean())"
   ]
  },
  {
   "cell_type": "code",
   "execution_count": 14,
   "metadata": {},
   "outputs": [
    {
     "data": {
      "text/plain": [
       "Text(0.5,0,'User ID')"
      ]
     },
     "execution_count": 14,
     "metadata": {},
     "output_type": "execute_result"
    },
    {
     "data": {
      "image/png": "[encoded data removed]",
      "text/plain": [
       "<matplotlib.figure.Figure at 0x1bd4cdc6898>"
      ]
     },
     "metadata": {},
     "output_type": "display_data"
    }
   ],
   "source": [
    "# varying across the x-axis is somewhat nonsensical..those are IDs, not numerical values.\n",
    "# however, we can see that unadopted users (in black) have login counts all close to 0 relative to the spread of login\n",
    "# counts we see on the adopted users (in blue)\n",
    "\n",
    "# we greatly reduce the opacity of the unadopted users because of their greater count and density near the y = 0 line\n",
    "\n",
    "# any user with a login count in the area dominated by blue data points will most likely be an adopted user\n",
    "# (this is intuitive..with more logins, there is more likelihood of a triplet of logins within a week)\n",
    "\n",
    "sns.set_style('whitegrid')\n",
    "\n",
    "fig, ax = plt.subplots(1,1,figsize=(12,8))\n",
    "\n",
    "ax.scatter(engagement[engagement.user_id.isin(adopted_users)].groupby('user_id').count().index,\\\n",
    "            engagement[engagement.user_id.isin(adopted_users)].groupby('user_id').count().visited,alpha=0.4,facecolor='b')\n",
    "ax.scatter(engagement[~engagement.user_id.isin(adopted_users)].groupby('user_id').count().index,\\\n",
    "            engagement[~engagement.user_id.isin(adopted_users)].groupby('user_id').count().visited,alpha=0.01,facecolor='k')\n",
    "ax.set_ylabel('Login Count',fontsize=16)\n",
    "ax.set_xlabel('User ID',fontsize=16)"
   ]
  },
  {
   "cell_type": "code",
   "execution_count": 15,
   "metadata": {},
   "outputs": [],
   "source": [
    "# consolidating aggregated information from engagements df to users df\n",
    "\n",
    "users = users.set_index('object_id')\n",
    "\n",
    "users['login_counts'] = 0\n",
    "users['last_login'] = np.NaN\n",
    "\n",
    "users.loc[engagement.user_id.unique(),'login_counts'] = engagement.groupby('user_id').count()['visited']\n",
    "users.loc[engagement.user_id.unique(),'last_login'] = engagement.groupby('user_id').max()['time_stamp']"
   ]
  },
  {
   "cell_type": "code",
   "execution_count": 16,
   "metadata": {},
   "outputs": [],
   "source": [
    "# converting unix timestamp to datetime. seems this column has the same information as 'last_login' \n",
    "# although, some datapoints are off by a day\n",
    "\n",
    "import datetime\n",
    "\n",
    "users.loc[users.last_session_creation_time.notnull().index,'last_session_creation_time'] = \\\n",
    "    users[users.last_session_creation_time.notnull()].last_session_creation_time\\\n",
    "    .apply(lambda x: datetime.datetime.fromtimestamp(int(x)).strftime('%Y-%m-%d %H:%M:%S'))\n",
    "\n",
    "users.last_session_creation_time = pd.to_datetime(users.last_session_creation_time)"
   ]
  },
  {
   "cell_type": "code",
   "execution_count": 17,
   "metadata": {},
   "outputs": [],
   "source": [
    "# using last_session_creation_time results in some negative time values.. we'll use 'last_login'\n",
    "# days_since_creation is the number of days passed between creation and last login\n",
    "\n",
    "users['days_since_creation'] = (users.last_login - users.creation_time).apply(lambda x: x.days)"
   ]
  },
  {
   "cell_type": "code",
   "execution_count": 18,
   "metadata": {},
   "outputs": [],
   "source": [
    "model_input = users.drop(['name','email','creation_time','last_session_creation_time','org_id',\n",
    "                         'invited_by_user_id','last_login'],axis=1)"
   ]
  },
  {
   "cell_type": "code",
   "execution_count": 19,
   "metadata": {},
   "outputs": [],
   "source": [
    "model_input = model_input.merge(pd.get_dummies(model_input.creation_source),left_index=True,right_index=True)\\\n",
    "                .drop('creation_source',axis=1)"
   ]
  },
  {
   "cell_type": "code",
   "execution_count": 24,
   "metadata": {},
   "outputs": [],
   "source": [
    "# the only NaN values are in days_since_creation, for data points with no 'last_login'\n",
    "# filling the values with 0 makes sense, since this implies the user did not login again after creation\n",
    "\n",
    "model_input = model_input.fillna(0)"
   ]
  },
  {
   "cell_type": "code",
   "execution_count": 27,
   "metadata": {},
   "outputs": [
    {
     "data": {
      "text/plain": [
       "KMeans(algorithm='auto', copy_x=True, init='k-means++', max_iter=300,\n",
       "    n_clusters=10, n_init=10, n_jobs=1, precompute_distances='auto',\n",
       "    random_state=None, tol=0.0001, verbose=0)"
      ]
     },
     "execution_count": 27,
     "metadata": {},
     "output_type": "execute_result"
    }
   ],
   "source": [
    "from sklearn.cluster import KMeans\n",
    "\n",
    "clus = KMeans(n_clusters=10)\n",
    "clus.fit(model_input)\n",
    "model_input['cluster'] = clus.labels_"
   ]
  },
  {
   "cell_type": "code",
   "execution_count": 36,
   "metadata": {},
   "outputs": [
    {
     "name": "stdout",
     "output_type": "stream",
     "text": [
      "[0 9 4]\n",
      "[4 7 9 6 3 2 5 8 1 0]\n"
     ]
    }
   ],
   "source": [
    "# unadopted users exist in only 3 clusters, whereas adopted users exist in all clusters\n",
    "\n",
    "print(model_input[model_input.adopted==0].cluster.unique())\n",
    "print(model_input[model_input.adopted==1].cluster.unique())"
   ]
  },
  {
   "cell_type": "code",
   "execution_count": 38,
   "metadata": {},
   "outputs": [
    {
     "data": {
      "text/html": [
       "<div>\n",
       "<style>\n",
       "    .dataframe thead tr:only-child th {\n",
       "        text-align: right;\n",
       "    }\n",
       "\n",
       "    .dataframe thead th {\n",
       "        text-align: left;\n",
       "    }\n",
       "\n",
       "    .dataframe tbody tr th {\n",
       "        vertical-align: top;\n",
       "    }\n",
       "</style>\n",
       "<table border=\"1\" class=\"dataframe\">\n",
       "  <thead>\n",
       "    <tr style=\"text-align: right;\">\n",
       "      <th></th>\n",
       "      <th>opted_in_to_mailing_list</th>\n",
       "      <th>enabled_for_marketing_drip</th>\n",
       "      <th>adopted</th>\n",
       "      <th>login_counts</th>\n",
       "      <th>days_since_creation</th>\n",
       "      <th>GUEST_INVITE</th>\n",
       "      <th>ORG_INVITE</th>\n",
       "      <th>PERSONAL_PROJECTS</th>\n",
       "      <th>SIGNUP</th>\n",
       "      <th>SIGNUP_GOOGLE_AUTH</th>\n",
       "      <th>cluster</th>\n",
       "    </tr>\n",
       "  </thead>\n",
       "  <tbody>\n",
       "    <tr>\n",
       "      <th>count</th>\n",
       "      <td>10989.000000</td>\n",
       "      <td>10989.000000</td>\n",
       "      <td>10989.000000</td>\n",
       "      <td>10989.000000</td>\n",
       "      <td>10989.000000</td>\n",
       "      <td>10989.000000</td>\n",
       "      <td>10989.000000</td>\n",
       "      <td>10989.000000</td>\n",
       "      <td>10989.000000</td>\n",
       "      <td>10989.000000</td>\n",
       "      <td>10989.000000</td>\n",
       "    </tr>\n",
       "    <tr>\n",
       "      <th>mean</th>\n",
       "      <td>0.247520</td>\n",
       "      <td>0.148876</td>\n",
       "      <td>0.058695</td>\n",
       "      <td>1.887433</td>\n",
       "      <td>8.942761</td>\n",
       "      <td>0.176267</td>\n",
       "      <td>0.355719</td>\n",
       "      <td>0.183001</td>\n",
       "      <td>0.172900</td>\n",
       "      <td>0.112112</td>\n",
       "      <td>0.581764</td>\n",
       "    </tr>\n",
       "    <tr>\n",
       "      <th>std</th>\n",
       "      <td>0.431591</td>\n",
       "      <td>0.355983</td>\n",
       "      <td>0.235064</td>\n",
       "      <td>4.985324</td>\n",
       "      <td>27.015516</td>\n",
       "      <td>0.381065</td>\n",
       "      <td>0.478752</td>\n",
       "      <td>0.386685</td>\n",
       "      <td>0.378178</td>\n",
       "      <td>0.315519</td>\n",
       "      <td>2.070336</td>\n",
       "    </tr>\n",
       "    <tr>\n",
       "      <th>min</th>\n",
       "      <td>0.000000</td>\n",
       "      <td>0.000000</td>\n",
       "      <td>0.000000</td>\n",
       "      <td>0.000000</td>\n",
       "      <td>0.000000</td>\n",
       "      <td>0.000000</td>\n",
       "      <td>0.000000</td>\n",
       "      <td>0.000000</td>\n",
       "      <td>0.000000</td>\n",
       "      <td>0.000000</td>\n",
       "      <td>0.000000</td>\n",
       "    </tr>\n",
       "    <tr>\n",
       "      <th>25%</th>\n",
       "      <td>0.000000</td>\n",
       "      <td>0.000000</td>\n",
       "      <td>0.000000</td>\n",
       "      <td>0.000000</td>\n",
       "      <td>0.000000</td>\n",
       "      <td>0.000000</td>\n",
       "      <td>0.000000</td>\n",
       "      <td>0.000000</td>\n",
       "      <td>0.000000</td>\n",
       "      <td>0.000000</td>\n",
       "      <td>0.000000</td>\n",
       "    </tr>\n",
       "    <tr>\n",
       "      <th>50%</th>\n",
       "      <td>0.000000</td>\n",
       "      <td>0.000000</td>\n",
       "      <td>0.000000</td>\n",
       "      <td>1.000000</td>\n",
       "      <td>0.000000</td>\n",
       "      <td>0.000000</td>\n",
       "      <td>0.000000</td>\n",
       "      <td>0.000000</td>\n",
       "      <td>0.000000</td>\n",
       "      <td>0.000000</td>\n",
       "      <td>0.000000</td>\n",
       "    </tr>\n",
       "    <tr>\n",
       "      <th>75%</th>\n",
       "      <td>0.000000</td>\n",
       "      <td>0.000000</td>\n",
       "      <td>0.000000</td>\n",
       "      <td>1.000000</td>\n",
       "      <td>2.000000</td>\n",
       "      <td>0.000000</td>\n",
       "      <td>1.000000</td>\n",
       "      <td>0.000000</td>\n",
       "      <td>0.000000</td>\n",
       "      <td>0.000000</td>\n",
       "      <td>0.000000</td>\n",
       "    </tr>\n",
       "    <tr>\n",
       "      <th>max</th>\n",
       "      <td>1.000000</td>\n",
       "      <td>1.000000</td>\n",
       "      <td>1.000000</td>\n",
       "      <td>76.000000</td>\n",
       "      <td>189.000000</td>\n",
       "      <td>1.000000</td>\n",
       "      <td>1.000000</td>\n",
       "      <td>1.000000</td>\n",
       "      <td>1.000000</td>\n",
       "      <td>1.000000</td>\n",
       "      <td>9.000000</td>\n",
       "    </tr>\n",
       "  </tbody>\n",
       "</table>\n",
       "</div>"
      ],
      "text/plain": [
       "       opted_in_to_mailing_list  enabled_for_marketing_drip       adopted  \\\n",
       "count              10989.000000                10989.000000  10989.000000   \n",
       "mean                   0.247520                    0.148876      0.058695   \n",
       "std                    0.431591                    0.355983      0.235064   \n",
       "min                    0.000000                    0.000000      0.000000   \n",
       "25%                    0.000000                    0.000000      0.000000   \n",
       "50%                    0.000000                    0.000000      0.000000   \n",
       "75%                    0.000000                    0.000000      0.000000   \n",
       "max                    1.000000                    1.000000      1.000000   \n",
       "\n",
       "       login_counts  days_since_creation  GUEST_INVITE    ORG_INVITE  \\\n",
       "count  10989.000000         10989.000000  10989.000000  10989.000000   \n",
       "mean       1.887433             8.942761      0.176267      0.355719   \n",
       "std        4.985324            27.015516      0.381065      0.478752   \n",
       "min        0.000000             0.000000      0.000000      0.000000   \n",
       "25%        0.000000             0.000000      0.000000      0.000000   \n",
       "50%        1.000000             0.000000      0.000000      0.000000   \n",
       "75%        1.000000             2.000000      0.000000      1.000000   \n",
       "max       76.000000           189.000000      1.000000      1.000000   \n",
       "\n",
       "       PERSONAL_PROJECTS        SIGNUP  SIGNUP_GOOGLE_AUTH       cluster  \n",
       "count       10989.000000  10989.000000        10989.000000  10989.000000  \n",
       "mean            0.183001      0.172900            0.112112      0.581764  \n",
       "std             0.386685      0.378178            0.315519      2.070336  \n",
       "min             0.000000      0.000000            0.000000      0.000000  \n",
       "25%             0.000000      0.000000            0.000000      0.000000  \n",
       "50%             0.000000      0.000000            0.000000      0.000000  \n",
       "75%             0.000000      0.000000            0.000000      0.000000  \n",
       "max             1.000000      1.000000            1.000000      9.000000  "
      ]
     },
     "execution_count": 38,
     "metadata": {},
     "output_type": "execute_result"
    }
   ],
   "source": [
    "model_input[model_input.cluster.isin([0,9,4])].describe()"
   ]
  },
  {
   "cell_type": "code",
   "execution_count": 39,
   "metadata": {},
   "outputs": [
    {
     "data": {
      "text/html": [
       "<div>\n",
       "<style>\n",
       "    .dataframe thead tr:only-child th {\n",
       "        text-align: right;\n",
       "    }\n",
       "\n",
       "    .dataframe thead th {\n",
       "        text-align: left;\n",
       "    }\n",
       "\n",
       "    .dataframe tbody tr th {\n",
       "        vertical-align: top;\n",
       "    }\n",
       "</style>\n",
       "<table border=\"1\" class=\"dataframe\">\n",
       "  <thead>\n",
       "    <tr style=\"text-align: right;\">\n",
       "      <th></th>\n",
       "      <th>opted_in_to_mailing_list</th>\n",
       "      <th>enabled_for_marketing_drip</th>\n",
       "      <th>adopted</th>\n",
       "      <th>login_counts</th>\n",
       "      <th>days_since_creation</th>\n",
       "      <th>GUEST_INVITE</th>\n",
       "      <th>ORG_INVITE</th>\n",
       "      <th>PERSONAL_PROJECTS</th>\n",
       "      <th>SIGNUP</th>\n",
       "      <th>SIGNUP_GOOGLE_AUTH</th>\n",
       "      <th>cluster</th>\n",
       "    </tr>\n",
       "  </thead>\n",
       "  <tbody>\n",
       "    <tr>\n",
       "      <th>count</th>\n",
       "      <td>12000.000000</td>\n",
       "      <td>12000.000000</td>\n",
       "      <td>12000.000000</td>\n",
       "      <td>12000.000000</td>\n",
       "      <td>12000.000000</td>\n",
       "      <td>12000.000000</td>\n",
       "      <td>12000.000000</td>\n",
       "      <td>12000.000000</td>\n",
       "      <td>12000.000000</td>\n",
       "      <td>12000.000000</td>\n",
       "      <td>12000.000000</td>\n",
       "    </tr>\n",
       "    <tr>\n",
       "      <th>mean</th>\n",
       "      <td>0.249500</td>\n",
       "      <td>0.149333</td>\n",
       "      <td>0.138000</td>\n",
       "      <td>17.326417</td>\n",
       "      <td>43.543083</td>\n",
       "      <td>0.180250</td>\n",
       "      <td>0.354500</td>\n",
       "      <td>0.175917</td>\n",
       "      <td>0.173917</td>\n",
       "      <td>0.115417</td>\n",
       "      <td>0.904417</td>\n",
       "    </tr>\n",
       "    <tr>\n",
       "      <th>std</th>\n",
       "      <td>0.432742</td>\n",
       "      <td>0.356432</td>\n",
       "      <td>0.344914</td>\n",
       "      <td>64.287839</td>\n",
       "      <td>126.352426</td>\n",
       "      <td>0.384412</td>\n",
       "      <td>0.478381</td>\n",
       "      <td>0.380765</td>\n",
       "      <td>0.379054</td>\n",
       "      <td>0.319537</td>\n",
       "      <td>2.353241</td>\n",
       "    </tr>\n",
       "    <tr>\n",
       "      <th>min</th>\n",
       "      <td>0.000000</td>\n",
       "      <td>0.000000</td>\n",
       "      <td>0.000000</td>\n",
       "      <td>0.000000</td>\n",
       "      <td>0.000000</td>\n",
       "      <td>0.000000</td>\n",
       "      <td>0.000000</td>\n",
       "      <td>0.000000</td>\n",
       "      <td>0.000000</td>\n",
       "      <td>0.000000</td>\n",
       "      <td>0.000000</td>\n",
       "    </tr>\n",
       "    <tr>\n",
       "      <th>25%</th>\n",
       "      <td>0.000000</td>\n",
       "      <td>0.000000</td>\n",
       "      <td>0.000000</td>\n",
       "      <td>0.000000</td>\n",
       "      <td>0.000000</td>\n",
       "      <td>0.000000</td>\n",
       "      <td>0.000000</td>\n",
       "      <td>0.000000</td>\n",
       "      <td>0.000000</td>\n",
       "      <td>0.000000</td>\n",
       "      <td>0.000000</td>\n",
       "    </tr>\n",
       "    <tr>\n",
       "      <th>50%</th>\n",
       "      <td>0.000000</td>\n",
       "      <td>0.000000</td>\n",
       "      <td>0.000000</td>\n",
       "      <td>1.000000</td>\n",
       "      <td>0.000000</td>\n",
       "      <td>0.000000</td>\n",
       "      <td>0.000000</td>\n",
       "      <td>0.000000</td>\n",
       "      <td>0.000000</td>\n",
       "      <td>0.000000</td>\n",
       "      <td>0.000000</td>\n",
       "    </tr>\n",
       "    <tr>\n",
       "      <th>75%</th>\n",
       "      <td>0.000000</td>\n",
       "      <td>0.000000</td>\n",
       "      <td>0.000000</td>\n",
       "      <td>1.000000</td>\n",
       "      <td>3.000000</td>\n",
       "      <td>0.000000</td>\n",
       "      <td>1.000000</td>\n",
       "      <td>0.000000</td>\n",
       "      <td>0.000000</td>\n",
       "      <td>0.000000</td>\n",
       "      <td>0.000000</td>\n",
       "    </tr>\n",
       "    <tr>\n",
       "      <th>max</th>\n",
       "      <td>1.000000</td>\n",
       "      <td>1.000000</td>\n",
       "      <td>1.000000</td>\n",
       "      <td>606.000000</td>\n",
       "      <td>729.000000</td>\n",
       "      <td>1.000000</td>\n",
       "      <td>1.000000</td>\n",
       "      <td>1.000000</td>\n",
       "      <td>1.000000</td>\n",
       "      <td>1.000000</td>\n",
       "      <td>9.000000</td>\n",
       "    </tr>\n",
       "  </tbody>\n",
       "</table>\n",
       "</div>"
      ],
      "text/plain": [
       "       opted_in_to_mailing_list  enabled_for_marketing_drip       adopted  \\\n",
       "count              12000.000000                12000.000000  12000.000000   \n",
       "mean                   0.249500                    0.149333      0.138000   \n",
       "std                    0.432742                    0.356432      0.344914   \n",
       "min                    0.000000                    0.000000      0.000000   \n",
       "25%                    0.000000                    0.000000      0.000000   \n",
       "50%                    0.000000                    0.000000      0.000000   \n",
       "75%                    0.000000                    0.000000      0.000000   \n",
       "max                    1.000000                    1.000000      1.000000   \n",
       "\n",
       "       login_counts  days_since_creation  GUEST_INVITE    ORG_INVITE  \\\n",
       "count  12000.000000         12000.000000  12000.000000  12000.000000   \n",
       "mean      17.326417            43.543083      0.180250      0.354500   \n",
       "std       64.287839           126.352426      0.384412      0.478381   \n",
       "min        0.000000             0.000000      0.000000      0.000000   \n",
       "25%        0.000000             0.000000      0.000000      0.000000   \n",
       "50%        1.000000             0.000000      0.000000      0.000000   \n",
       "75%        1.000000             3.000000      0.000000      1.000000   \n",
       "max      606.000000           729.000000      1.000000      1.000000   \n",
       "\n",
       "       PERSONAL_PROJECTS        SIGNUP  SIGNUP_GOOGLE_AUTH       cluster  \n",
       "count       12000.000000  12000.000000        12000.000000  12000.000000  \n",
       "mean            0.175917      0.173917            0.115417      0.904417  \n",
       "std             0.380765      0.379054            0.319537      2.353241  \n",
       "min             0.000000      0.000000            0.000000      0.000000  \n",
       "25%             0.000000      0.000000            0.000000      0.000000  \n",
       "50%             0.000000      0.000000            0.000000      0.000000  \n",
       "75%             0.000000      0.000000            0.000000      0.000000  \n",
       "max             1.000000      1.000000            1.000000      9.000000  "
      ]
     },
     "execution_count": 39,
     "metadata": {},
     "output_type": "execute_result"
    }
   ],
   "source": [
    "# on average, adopted users' most recent login is much later since their creation time. all other \n",
    "# metrics are very similar..\n",
    "\n",
    "model_input.describe()"
   ]
  }
 ],
 "metadata": {
  "kernelspec": {
   "display_name": "Python 3",
   "language": "python",
   "name": "python3"
  },
  "language_info": {
   "codemirror_mode": {
    "name": "ipython",
    "version": 3
   },
   "file_extension": ".py",
   "mimetype": "text/x-python",
   "name": "python",
   "nbconvert_exporter": "python",
   "pygments_lexer": "ipython3",
   "version": "3.6.3"
  }
 },
 "nbformat": 4,
 "nbformat_minor": 2
}
