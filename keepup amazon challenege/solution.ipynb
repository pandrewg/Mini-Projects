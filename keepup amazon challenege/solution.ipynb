{
 "cells": [
  {
   "cell_type": "code",
   "execution_count": 628,
   "metadata": {
    "collapsed": true
   },
   "outputs": [],
   "source": [
    "import numpy as np\n",
    "import pandas as pd\n",
    "import matplotlib.pyplot as plt\n",
    "import seaborn as sns\n",
    "\n",
    "sns.set_style('whitegrid')\n",
    "\n",
    "%matplotlib inline"
   ]
  },
  {
   "cell_type": "markdown",
   "metadata": {},
   "source": [
    "---\n",
    "## Restructuring the Data"
   ]
  },
  {
   "cell_type": "code",
   "execution_count": 629,
   "metadata": {
    "collapsed": true
   },
   "outputs": [],
   "source": [
    "data = open('./amazon-meta.txt',encoding='utf8').read().split('\\n')"
   ]
  },
  {
   "cell_type": "code",
   "execution_count": 630,
   "metadata": {},
   "outputs": [
    {
     "data": {
      "text/plain": [
       "['# Full information about Amazon Share the Love products',\n",
       " 'Total items: 548552',\n",
       " '',\n",
       " 'Id:   0',\n",
       " 'ASIN: 0771044445',\n",
       " '  discontinued product',\n",
       " '',\n",
       " 'Id:   1',\n",
       " 'ASIN: 0827229534',\n",
       " '  title: Patterns of Preaching: A Sermon Sampler',\n",
       " '  group: Book',\n",
       " '  salesrank: 396585',\n",
       " '  similar: 5  0804215715  156101074X  0687023955  0687074231  082721619X',\n",
       " '  categories: 2',\n",
       " '   |Books[283155]|Subjects[1000]|Religion & Spirituality[22]|Christianity[12290]|Clergy[12360]|Preaching[12368]',\n",
       " '   |Books[283155]|Subjects[1000]|Religion & Spirituality[22]|Christianity[12290]|Clergy[12360]|Sermons[12370]',\n",
       " '  reviews: total: 2  downloaded: 2  avg rating: 5',\n",
       " '    2000-7-28  cutomer: A2JW67OY8U6HHK  rating: 5  votes:  10  helpful:   9',\n",
       " '    2003-12-14  cutomer: A2VE83MZF98ITY  rating: 5  votes:   6  helpful:   5',\n",
       " '',\n",
       " 'Id:   2']"
      ]
     },
     "execution_count": 630,
     "metadata": {},
     "output_type": "execute_result"
    }
   ],
   "source": [
    "# different data points seem to be split in this flat list by an empty element: ''\n",
    "\n",
    "data[0:21]"
   ]
  },
  {
   "cell_type": "code",
   "execution_count": 631,
   "metadata": {
    "collapsed": true
   },
   "outputs": [],
   "source": [
    "dataseparated = []\n",
    "datapoint = []\n",
    "\n",
    "for val in data:\n",
    "    if val == '':\n",
    "        dataseparated.append(datapoint)\n",
    "        datapoint = []\n",
    "        continue\n",
    "    datapoint.append(val)\n",
    "\n",
    "dataseparated.remove(['# Full information about Amazon Share the Love products','Total items: 548552'])"
   ]
  },
  {
   "cell_type": "code",
   "execution_count": 632,
   "metadata": {
    "collapsed": true
   },
   "outputs": [],
   "source": [
    "# can't parallelize the list to a Spark RDD..java heap error (memory limit of driver?)"
   ]
  },
  {
   "cell_type": "code",
   "execution_count": 633,
   "metadata": {},
   "outputs": [
    {
     "data": {
      "text/plain": [
       "['Id:   1',\n",
       " 'ASIN: 0827229534',\n",
       " '  title: Patterns of Preaching: A Sermon Sampler',\n",
       " '  group: Book',\n",
       " '  salesrank: 396585',\n",
       " '  similar: 5  0804215715  156101074X  0687023955  0687074231  082721619X',\n",
       " '  categories: 2',\n",
       " '   |Books[283155]|Subjects[1000]|Religion & Spirituality[22]|Christianity[12290]|Clergy[12360]|Preaching[12368]',\n",
       " '   |Books[283155]|Subjects[1000]|Religion & Spirituality[22]|Christianity[12290]|Clergy[12360]|Sermons[12370]',\n",
       " '  reviews: total: 2  downloaded: 2  avg rating: 5',\n",
       " '    2000-7-28  cutomer: A2JW67OY8U6HHK  rating: 5  votes:  10  helpful:   9',\n",
       " '    2003-12-14  cutomer: A2VE83MZF98ITY  rating: 5  votes:   6  helpful:   5']"
      ]
     },
     "execution_count": 633,
     "metadata": {},
     "output_type": "execute_result"
    }
   ],
   "source": [
    "# each data point has a different number of features (different number of reviews, hierarchical categories, etc)\n",
    "# so we cannot create a multidimensional numpy array without first filling NaN values in a dataframe?\n",
    "\n",
    "dataseparated[1]"
   ]
  },
  {
   "cell_type": "code",
   "execution_count": 634,
   "metadata": {
    "collapsed": true
   },
   "outputs": [],
   "source": [
    "# directly calling pd.DataFrame() will mix up the columns; also very computationally expensive. need to do this manually\n",
    "\n",
    "df = pd.DataFrame()"
   ]
  },
  {
   "cell_type": "code",
   "execution_count": 635,
   "metadata": {
    "collapsed": true
   },
   "outputs": [],
   "source": [
    "def f(x):\n",
    "    if x == '  discontinued product':\n",
    "        return 'discontinued product'\n",
    "    else:\n",
    "        return x[9:]\n",
    "\n",
    "def g(x):\n",
    "    if x is np.NaN:\n",
    "        return np.NaN\n",
    "    else:\n",
    "        return x[9:]\n",
    "\n",
    "def h(x):\n",
    "    if x is np.NaN:\n",
    "        return np.NaN\n",
    "    else:\n",
    "        return float(x[13:])"
   ]
  },
  {
   "cell_type": "code",
   "execution_count": 636,
   "metadata": {
    "collapsed": true
   },
   "outputs": [],
   "source": [
    "# could simply do df.ID = range(len(ID)) since there are no anomalies in the ID, but this approach is better design/practice\n",
    "\n",
    "ID = []\n",
    "ASIN = []\n",
    "TITLE = []\n",
    "GROUP = []\n",
    "SALESRANK = []\n",
    "SIMILAR = []\n",
    "\n",
    "for dp in dataseparated[:-1]:\n",
    "    ID.append(dp[0])\n",
    "    ASIN.append(dp[1])\n",
    "    TITLE.append(dp[2])\n",
    "    if len(dp) <=3 :\n",
    "        GROUP.append(np.NaN)\n",
    "        continue\n",
    "    GROUP.append(dp[3])\n",
    "    \n",
    "for dp in dataseparated[:-1]:\n",
    "    if len(dp) <= 4 :\n",
    "        SALESRANK.append(np.NaN)\n",
    "        continue\n",
    "    SALESRANK.append(dp[4])\n",
    "    \n",
    "for dp in dataseparated[:-1]:\n",
    "    if len(dp)<=5:\n",
    "        SIMILAR.append(np.NaN)\n",
    "        continue\n",
    "    SIMILAR.append(int(dp[5][11:].split()[0]))\n",
    "    \n",
    "df['ID'] = ID\n",
    "df.ID = df.ID.apply(lambda x: x[6:]).astype(int)\n",
    "df['ASIN'] = ASIN\n",
    "df.ASIN = df.ASIN.apply(lambda x: x[6:])\n",
    "df['TITLE'] = TITLE\n",
    "df.TITLE = df.TITLE.apply(f)\n",
    "df['GROUP'] = GROUP\n",
    "df.GROUP = df.GROUP.apply(g)\n",
    "df['SALESRANK'] = SALESRANK\n",
    "df.SALESRANK = df.SALESRANK.apply(h)\n",
    "df['SIMILAR'] = SIMILAR"
   ]
  },
  {
   "cell_type": "code",
   "execution_count": 637,
   "metadata": {},
   "outputs": [
    {
     "data": {
      "text/plain": [
       "5.0"
      ]
     },
     "execution_count": 637,
     "metadata": {},
     "output_type": "execute_result"
    }
   ],
   "source": [
    "df.SIMILAR.max()"
   ]
  },
  {
   "cell_type": "code",
   "execution_count": 638,
   "metadata": {
    "collapsed": true
   },
   "outputs": [],
   "source": [
    "# max number of similar ASINs is 5. create a column for each, with NaN values for those w/ less than 5 similar products\n",
    "# can't use a single for loop because of the continue statements\n",
    "\n",
    "SIM1 = []\n",
    "SIM2 = []\n",
    "SIM3 = []\n",
    "SIM4 = []\n",
    "SIM5 = []\n",
    "\n",
    "for dp in dataseparated[:-1]:\n",
    "    if (len(dp)<=5) or (int(dp[5][11:].split()[0])<1):\n",
    "        SIM1.append(np.NaN)\n",
    "        continue\n",
    "    SIM1.append(dp[5][11:].split()[1])\n",
    "\n",
    "for dp in dataseparated[:-1]:\n",
    "    if (len(dp)<=5) or (int(dp[5][11:].split()[0])<2):\n",
    "        SIM2.append(np.NaN)\n",
    "        continue\n",
    "    SIM2.append(dp[5][11:].split()[2])\n",
    "    \n",
    "for dp in dataseparated[:-1]:\n",
    "    if (len(dp)<=5) or (int(dp[5][11:].split()[0])<3):\n",
    "        SIM3.append(np.NaN)\n",
    "        continue\n",
    "    SIM3.append(dp[5][11:].split()[3])\n",
    "    \n",
    "for dp in dataseparated[:-1]:\n",
    "    if (len(dp)<=5) or (int(dp[5][11:].split()[0])<4):\n",
    "        SIM4.append(np.NaN)\n",
    "        continue\n",
    "    SIM4.append(dp[5][11:].split()[4])\n",
    "    \n",
    "for dp in dataseparated[:-1]:\n",
    "    if (len(dp)<=5) or (int(dp[5][11:].split()[0])<5):\n",
    "        SIM5.append(np.NaN)\n",
    "        continue\n",
    "    SIM5.append(dp[5][11:].split()[5])\n",
    "    \n",
    "df['SIM1'] = SIM1\n",
    "df['SIM2'] = SIM2\n",
    "df['SIM3'] = SIM3\n",
    "df['SIM4'] = SIM4\n",
    "df['SIM5'] = SIM5"
   ]
  },
  {
   "cell_type": "code",
   "execution_count": 639,
   "metadata": {
    "collapsed": true
   },
   "outputs": [],
   "source": [
    "CATEGORIES = []\n",
    "\n",
    "for dp in dataseparated[:-1]:\n",
    "    if len(dp)<=7:\n",
    "        CATEGORIES.append(np.NaN)\n",
    "        continue\n",
    "    CATEGORIES.append(int(dp[6].split()[1]))\n",
    "        \n",
    "df['CATEGORIES'] = CATEGORIES"
   ]
  },
  {
   "cell_type": "code",
   "execution_count": 640,
   "metadata": {
    "collapsed": true
   },
   "outputs": [],
   "source": [
    "# list of lists containing categories for each data point. difficult to structure because of different sizes...fill with NaN\n",
    "# so the internal lists are all the same size?\n",
    "# we don't need to actually structure all of the category data.. just focus on answering what the questions is asking\n",
    "\n",
    "CATS = []\n",
    "\n",
    "for dp in dataseparated:\n",
    "    if len(dp) < 7:\n",
    "        CATS.append([np.NaN])\n",
    "        continue\n",
    "    CATS.append(dp[7:7+int(dp[6].split()[1])])"
   ]
  },
  {
   "cell_type": "code",
   "execution_count": 641,
   "metadata": {
    "collapsed": true
   },
   "outputs": [],
   "source": [
    "for dp in CATS:\n",
    "    while(len(dp)<116):\n",
    "        dp.append(np.NaN)\n",
    "        \n",
    "CATS_df = pd.DataFrame(CATS)"
   ]
  },
  {
   "cell_type": "code",
   "execution_count": 642,
   "metadata": {
    "collapsed": true
   },
   "outputs": [],
   "source": [
    "REVIEWS = []\n",
    "\n",
    "for dp in dataseparated[:-1]:\n",
    "    if len(dp) < 7:\n",
    "        REVIEWS.append(np.NaN)\n",
    "        continue\n",
    "    REVIEWS.append(int(dp[7+int(dp[6].split()[1])].split()[2]))\n",
    "    \n",
    "df['REVIEWS_COUNT'] = REVIEWS"
   ]
  },
  {
   "cell_type": "code",
   "execution_count": 643,
   "metadata": {
    "collapsed": true
   },
   "outputs": [],
   "source": [
    "RATING = []\n",
    "\n",
    "for dp in dataseparated[:-1]:\n",
    "    if len(dp) < 7:\n",
    "        RATING.append(np.NaN)\n",
    "        continue\n",
    "    RATING.append(float(dp[7+int(dp[6].split()[1])].split()[7]))\n",
    "    \n",
    "df['AVG_RATING'] = RATING"
   ]
  },
  {
   "cell_type": "code",
   "execution_count": 644,
   "metadata": {
    "collapsed": true
   },
   "outputs": [],
   "source": [
    "# similar to CATS..may or may not further structure the data\n",
    "\n",
    "REVIEWS1 = []\n",
    "\n",
    "for dp in dataseparated:\n",
    "    if len(dp) < 7:\n",
    "        REVIEWS1.append([np.NaN])\n",
    "        continue\n",
    "    REVIEWS1.append(dp[8+int(dp[6].split()[1]):\\\n",
    "                 8+int(dp[6].split()[1])+int(dp[7+int(dp[6].split()[1])].split()[2])])"
   ]
  },
  {
   "cell_type": "code",
   "execution_count": 645,
   "metadata": {},
   "outputs": [
    {
     "data": {
      "text/html": [
       "<div>\n",
       "<style>\n",
       "    .dataframe thead tr:only-child th {\n",
       "        text-align: right;\n",
       "    }\n",
       "\n",
       "    .dataframe thead th {\n",
       "        text-align: left;\n",
       "    }\n",
       "\n",
       "    .dataframe tbody tr th {\n",
       "        vertical-align: top;\n",
       "    }\n",
       "</style>\n",
       "<table border=\"1\" class=\"dataframe\">\n",
       "  <thead>\n",
       "    <tr style=\"text-align: right;\">\n",
       "      <th></th>\n",
       "      <th>ID</th>\n",
       "      <th>ASIN</th>\n",
       "      <th>TITLE</th>\n",
       "      <th>GROUP</th>\n",
       "      <th>SALESRANK</th>\n",
       "      <th>SIMILAR</th>\n",
       "      <th>SIM1</th>\n",
       "      <th>SIM2</th>\n",
       "      <th>SIM3</th>\n",
       "      <th>SIM4</th>\n",
       "      <th>SIM5</th>\n",
       "      <th>CATEGORIES</th>\n",
       "      <th>REVIEWS_COUNT</th>\n",
       "      <th>AVG_RATING</th>\n",
       "    </tr>\n",
       "  </thead>\n",
       "  <tbody>\n",
       "    <tr>\n",
       "      <th>0</th>\n",
       "      <td>0</td>\n",
       "      <td>0771044445</td>\n",
       "      <td>discontinued product</td>\n",
       "      <td>NaN</td>\n",
       "      <td>NaN</td>\n",
       "      <td>NaN</td>\n",
       "      <td>NaN</td>\n",
       "      <td>NaN</td>\n",
       "      <td>NaN</td>\n",
       "      <td>NaN</td>\n",
       "      <td>NaN</td>\n",
       "      <td>NaN</td>\n",
       "      <td>NaN</td>\n",
       "      <td>NaN</td>\n",
       "    </tr>\n",
       "    <tr>\n",
       "      <th>1</th>\n",
       "      <td>1</td>\n",
       "      <td>0827229534</td>\n",
       "      <td>Patterns of Preaching: A Sermon Sampler</td>\n",
       "      <td>Book</td>\n",
       "      <td>396585.0</td>\n",
       "      <td>5.0</td>\n",
       "      <td>0804215715</td>\n",
       "      <td>156101074X</td>\n",
       "      <td>0687023955</td>\n",
       "      <td>0687074231</td>\n",
       "      <td>082721619X</td>\n",
       "      <td>2.0</td>\n",
       "      <td>2.0</td>\n",
       "      <td>5.0</td>\n",
       "    </tr>\n",
       "    <tr>\n",
       "      <th>2</th>\n",
       "      <td>2</td>\n",
       "      <td>0738700797</td>\n",
       "      <td>Candlemas: Feast of Flames</td>\n",
       "      <td>Book</td>\n",
       "      <td>168596.0</td>\n",
       "      <td>5.0</td>\n",
       "      <td>0738700827</td>\n",
       "      <td>1567184960</td>\n",
       "      <td>1567182836</td>\n",
       "      <td>0738700525</td>\n",
       "      <td>0738700940</td>\n",
       "      <td>2.0</td>\n",
       "      <td>12.0</td>\n",
       "      <td>4.5</td>\n",
       "    </tr>\n",
       "    <tr>\n",
       "      <th>3</th>\n",
       "      <td>3</td>\n",
       "      <td>0486287785</td>\n",
       "      <td>World War II Allied Fighter Planes Trading Cards</td>\n",
       "      <td>Book</td>\n",
       "      <td>1270652.0</td>\n",
       "      <td>0.0</td>\n",
       "      <td>NaN</td>\n",
       "      <td>NaN</td>\n",
       "      <td>NaN</td>\n",
       "      <td>NaN</td>\n",
       "      <td>NaN</td>\n",
       "      <td>1.0</td>\n",
       "      <td>1.0</td>\n",
       "      <td>5.0</td>\n",
       "    </tr>\n",
       "    <tr>\n",
       "      <th>4</th>\n",
       "      <td>4</td>\n",
       "      <td>0842328327</td>\n",
       "      <td>Life Application Bible Commentary: 1 and 2 Tim...</td>\n",
       "      <td>Book</td>\n",
       "      <td>631289.0</td>\n",
       "      <td>5.0</td>\n",
       "      <td>0842328130</td>\n",
       "      <td>0830818138</td>\n",
       "      <td>0842330313</td>\n",
       "      <td>0842328610</td>\n",
       "      <td>0842328572</td>\n",
       "      <td>5.0</td>\n",
       "      <td>1.0</td>\n",
       "      <td>4.0</td>\n",
       "    </tr>\n",
       "  </tbody>\n",
       "</table>\n",
       "</div>"
      ],
      "text/plain": [
       "   ID        ASIN                                              TITLE GROUP  \\\n",
       "0   0  0771044445                               discontinued product   NaN   \n",
       "1   1  0827229534            Patterns of Preaching: A Sermon Sampler  Book   \n",
       "2   2  0738700797                         Candlemas: Feast of Flames  Book   \n",
       "3   3  0486287785   World War II Allied Fighter Planes Trading Cards  Book   \n",
       "4   4  0842328327  Life Application Bible Commentary: 1 and 2 Tim...  Book   \n",
       "\n",
       "   SALESRANK  SIMILAR        SIM1        SIM2        SIM3        SIM4  \\\n",
       "0        NaN      NaN         NaN         NaN         NaN         NaN   \n",
       "1   396585.0      5.0  0804215715  156101074X  0687023955  0687074231   \n",
       "2   168596.0      5.0  0738700827  1567184960  1567182836  0738700525   \n",
       "3  1270652.0      0.0         NaN         NaN         NaN         NaN   \n",
       "4   631289.0      5.0  0842328130  0830818138  0842330313  0842328610   \n",
       "\n",
       "         SIM5  CATEGORIES  REVIEWS_COUNT  AVG_RATING  \n",
       "0         NaN         NaN            NaN         NaN  \n",
       "1  082721619X         2.0            2.0         5.0  \n",
       "2  0738700940         2.0           12.0         4.5  \n",
       "3         NaN         1.0            1.0         5.0  \n",
       "4  0842328572         5.0            1.0         4.0  "
      ]
     },
     "execution_count": 645,
     "metadata": {},
     "output_type": "execute_result"
    }
   ],
   "source": [
    "df.head()"
   ]
  },
  {
   "cell_type": "markdown",
   "metadata": {},
   "source": [
    "---\n",
    "## Exploratory Analysis"
   ]
  },
  {
   "cell_type": "markdown",
   "metadata": {},
   "source": [
    "__1. Trustworthiness of ratings__\n",
    "\n",
    "Ratings are susceptible to manipulation, bias etc. What can you say (quantitatively\n",
    "speaking) about the ratings in this dataset?"
   ]
  },
  {
   "cell_type": "code",
   "execution_count": 646,
   "metadata": {},
   "outputs": [
    {
     "data": {
      "text/plain": [
       "count    542684.000000\n",
       "mean         14.339818\n",
       "std          74.768369\n",
       "min           0.000000\n",
       "25%           0.000000\n",
       "50%           2.000000\n",
       "75%           8.000000\n",
       "max        5545.000000\n",
       "Name: REVIEWS_COUNT, dtype: float64"
      ]
     },
     "execution_count": 646,
     "metadata": {},
     "output_type": "execute_result"
    }
   ],
   "source": [
    "# on average, there are about 14 reviews per item. this is enough that, on average, it is unlikely that items' reviews are \n",
    "# susceptible to bias/manipulation by single parties. however, there is quite a bit of variance in the review count,\n",
    "# so it seems that this depends a bit more on the specific item in question\n",
    "\n",
    "df.REVIEWS_COUNT.describe()"
   ]
  },
  {
   "cell_type": "code",
   "execution_count": 647,
   "metadata": {
    "collapsed": true
   },
   "outputs": [],
   "source": [
    "reviews_count_means = []\n",
    "\n",
    "for rating in np.sort(df.AVG_RATING.unique()):\n",
    "    if np.isnan(rating):\n",
    "        continue\n",
    "    reviews_count_means.append(df[df.AVG_RATING==rating].REVIEWS_COUNT.mean())"
   ]
  },
  {
   "cell_type": "code",
   "execution_count": 648,
   "metadata": {},
   "outputs": [
    {
     "data": {
      "text/plain": [
       "Text(0.5,0,'Rating')"
      ]
     },
     "execution_count": 648,
     "metadata": {},
     "output_type": "execute_result"
    },
    {
     "data": {
      "image/png": "[encoded data removed]",
      "text/plain": [
       "<matplotlib.figure.Figure at 0x159cf6e7c18>"
      ]
     },
     "metadata": {},
     "output_type": "display_data"
    }
   ],
   "source": [
    "# leave out NaN rating and 0 reviews\n",
    "\n",
    "# the distribution looks somewhat bimodal--i.e. items with extreme ratings (1 or 5) have not had very many reviews..these are \n",
    "# more susceptible to bias/manipulation. there are not enough reviews for the ratings to be statistically reliable\n",
    "\n",
    "# there are two general \"peaks\" -- a low rating peak at 1.5 and a high rating peak at around 4. These ratings are more \n",
    "# robust as their review counts tend to be higher. (I assume that people tend not to rate items at these \"in-between\"\n",
    "# values. it is only after many ratings that the average ends up being around these points)\n",
    "\n",
    "fig, ax = plt.subplots(1,1,figsize=(9,6))\n",
    "\n",
    "ax.plot(np.sort(df.AVG_RATING.unique())[1:-1],reviews_count_means[1:])\n",
    "ax.set_ylabel('Average review count',fontsize=16)\n",
    "ax.set_xlabel('Rating',fontsize=16)"
   ]
  },
  {
   "cell_type": "code",
   "execution_count": 649,
   "metadata": {},
   "outputs": [
    {
     "data": {
      "text/plain": [
       "Text(0,0.5,'Review Count')"
      ]
     },
     "execution_count": 649,
     "metadata": {},
     "output_type": "execute_result"
    },
    {
     "data": {
      "image/png": "[encoded data removed]",
      "text/plain": [
       "<matplotlib.figure.Figure at 0x159cf6e7748>"
      ]
     },
     "metadata": {},
     "output_type": "display_data"
    }
   ],
   "source": [
    "# this pattern seems especially true for items with very low ratings (1 or 1.5). these items have not been reviewed by\n",
    "# many users, and their overall average rating is \"manipulated\" by the small sample of reviewers to be low\n",
    "\n",
    "# in general, we tend to be able to have more confidence in the \"in-between\" reviews because of their greater review counts\n",
    "\n",
    "# there do exist, however, some outliers which have a considerable review count yet also achieve an extreme ratings.\n",
    "# (these are the top/left and top/right points)\n",
    "\n",
    "fig, ax = plt.subplots(1,1,figsize=(9,6))\n",
    "\n",
    "ax.scatter(df.AVG_RATING,df.REVIEWS_COUNT,alpha=0.2)\n",
    "ax.set_xlabel('Rating',fontsize=16)\n",
    "ax.set_ylabel('Review Count',fontsize=16)"
   ]
  },
  {
   "cell_type": "code",
   "execution_count": 704,
   "metadata": {},
   "outputs": [
    {
     "data": {
      "text/html": [
       "<div>\n",
       "<style>\n",
       "    .dataframe thead tr:only-child th {\n",
       "        text-align: right;\n",
       "    }\n",
       "\n",
       "    .dataframe thead th {\n",
       "        text-align: left;\n",
       "    }\n",
       "\n",
       "    .dataframe tbody tr th {\n",
       "        vertical-align: top;\n",
       "    }\n",
       "</style>\n",
       "<table border=\"1\" class=\"dataframe\">\n",
       "  <thead>\n",
       "    <tr style=\"text-align: right;\">\n",
       "      <th></th>\n",
       "      <th>REVIEWS_COUNT</th>\n",
       "      <th>AVG_RATING</th>\n",
       "    </tr>\n",
       "    <tr>\n",
       "      <th>GROUP</th>\n",
       "      <th></th>\n",
       "      <th></th>\n",
       "    </tr>\n",
       "  </thead>\n",
       "  <tbody>\n",
       "    <tr>\n",
       "      <th>Baby Product</th>\n",
       "      <td>3.000000</td>\n",
       "      <td>4.500000</td>\n",
       "    </tr>\n",
       "    <tr>\n",
       "      <th>Book</th>\n",
       "      <td>11.961508</td>\n",
       "      <td>3.051148</td>\n",
       "    </tr>\n",
       "    <tr>\n",
       "      <th>CE</th>\n",
       "      <td>1.250000</td>\n",
       "      <td>1.750000</td>\n",
       "    </tr>\n",
       "    <tr>\n",
       "      <th>DVD</th>\n",
       "      <td>42.077466</td>\n",
       "      <td>3.670996</td>\n",
       "    </tr>\n",
       "    <tr>\n",
       "      <th>Music</th>\n",
       "      <td>13.685905</td>\n",
       "      <td>3.635529</td>\n",
       "    </tr>\n",
       "    <tr>\n",
       "      <th>Software</th>\n",
       "      <td>2.600000</td>\n",
       "      <td>4.500000</td>\n",
       "    </tr>\n",
       "    <tr>\n",
       "      <th>Sports</th>\n",
       "      <td>5.000000</td>\n",
       "      <td>4.000000</td>\n",
       "    </tr>\n",
       "    <tr>\n",
       "      <th>Toy</th>\n",
       "      <td>4.625000</td>\n",
       "      <td>3.812500</td>\n",
       "    </tr>\n",
       "    <tr>\n",
       "      <th>Video</th>\n",
       "      <td>31.702193</td>\n",
       "      <td>3.563105</td>\n",
       "    </tr>\n",
       "    <tr>\n",
       "      <th>Video Games</th>\n",
       "      <td>3.000000</td>\n",
       "      <td>2.500000</td>\n",
       "    </tr>\n",
       "  </tbody>\n",
       "</table>\n",
       "</div>"
      ],
      "text/plain": [
       "              REVIEWS_COUNT  AVG_RATING\n",
       "GROUP                                  \n",
       "Baby Product       3.000000    4.500000\n",
       "Book              11.961508    3.051148\n",
       "CE                 1.250000    1.750000\n",
       "DVD               42.077466    3.670996\n",
       "Music             13.685905    3.635529\n",
       "Software           2.600000    4.500000\n",
       "Sports             5.000000    4.000000\n",
       "Toy                4.625000    3.812500\n",
       "Video             31.702193    3.563105\n",
       "Video Games        3.000000    2.500000"
      ]
     },
     "execution_count": 704,
     "metadata": {},
     "output_type": "execute_result"
    }
   ],
   "source": [
    "# depending on the group a product belongs to, it may have a greater or lesser tendency to be thoroughly reviewed.\n",
    "# due to this, different groups probably have more reliable average ratings. (e.g. a DVD product rating will probably be \n",
    "# more reliable than a Software product rating)\n",
    "\n",
    "\n",
    "\n",
    "df.groupby('GROUP').mean()[['REVIEWS_COUNT','AVG_RATING']]"
   ]
  },
  {
   "cell_type": "code",
   "execution_count": 709,
   "metadata": {},
   "outputs": [
    {
     "data": {
      "text/plain": [
       "[('Book', 4.5),\n",
       " ('Music', 4.164011659486407),\n",
       " ('DVD', 3.2),\n",
       " ('Video', 4.054802040483656),\n",
       " ('Toy', 4.3720047689922),\n",
       " ('Video Games', 4.461538461538462),\n",
       " ('Software', 4.0),\n",
       " ('Baby Product', 4.513513513513513),\n",
       " ('CE', 4.110301662220398),\n",
       " ('Sports', 2.5)]"
      ]
     },
     "execution_count": 709,
     "metadata": {},
     "output_type": "execute_result"
    }
   ],
   "source": [
    "# weighted average ratings by group..books and video games tend to be rated higher than sports and DVDs\n",
    "\n",
    "ratings_by_group = []\n",
    "\n",
    "for group in np.sort(df.GROUP.unique()[1:]):\n",
    "    weighted_avg = (df[df.GROUP==group].AVG_RATING*df[df.GROUP==group].REVIEWS_COUNT).sum()\\\n",
    "    /df[df.GROUP==group].REVIEWS_COUNT.sum()\n",
    "    \n",
    "    ratings_by_group.append(weighted_avg)\n",
    "    \n",
    "list(zip(df.GROUP.unique()[1:],ratings_by_group))"
   ]
  },
  {
   "cell_type": "markdown",
   "metadata": {},
   "source": [
    "__2. Category bloat__\n",
    "\n",
    "Consider the product group named 'Books'. Each product in this group is associated with\n",
    "categories. Naturally, with categorization, there are tradeoffs between how broad or\n",
    "specific the categories must be.\n",
    "\n",
    "\n",
    "__For this dataset, quantify the following:__\n",
    "\n",
    "a. Is there redundancy in the categorization? How can it be identified/removed?\n",
    "\n",
    "b. Is is possible to reduce the number of categories drastically (say to 10% of existing\n",
    "categories) by sacrificing relatively few category entries (say close to 10%)?"
   ]
  },
  {
   "cell_type": "code",
   "execution_count": 650,
   "metadata": {},
   "outputs": [
    {
     "name": "stdout",
     "output_type": "stream",
     "text": [
      "3.6597350855394715\n",
      "2.427499620161403\n"
     ]
    }
   ],
   "source": [
    "# on average, individual books are placed into between 3 and 4 categories. there does seem to be a bit of redundancy\n",
    "# there is also a notable amount of variance around this figure..many books are placed into even more redundant categories\n",
    "\n",
    "print(df[df.GROUP=='Book'].CATEGORIES.mean())\n",
    "print(df[df.GROUP=='Book'].CATEGORIES.std())"
   ]
  },
  {
   "cell_type": "code",
   "execution_count": 651,
   "metadata": {},
   "outputs": [
    {
     "data": {
      "text/plain": [
       "12854"
      ]
     },
     "execution_count": 651,
     "metadata": {},
     "output_type": "execute_result"
    }
   ],
   "source": [
    "# number of unique book categories.\n",
    "# we want to reduce this to about 10% of its current size, i.e. reduce this number to around 1,280... (by about 11,500)\n",
    "\n",
    "len(pd.unique(CATS_df[:-1][df.GROUP=='Book'].values.ravel()))"
   ]
  },
  {
   "cell_type": "code",
   "execution_count": 652,
   "metadata": {},
   "outputs": [
    {
     "data": {
      "text/plain": [
       "1440329"
      ]
     },
     "execution_count": 652,
     "metadata": {},
     "output_type": "execute_result"
    }
   ],
   "source": [
    "# number of category entries\n",
    "# ...while reducing the number of entries by only about 10%. i.e. reduce this number to around 1,300,000\n",
    "\n",
    "CATS_df[:-1][df.GROUP=='Book'].notnull().sum().sum()"
   ]
  },
  {
   "cell_type": "code",
   "execution_count": 653,
   "metadata": {
    "collapsed": true
   },
   "outputs": [],
   "source": [
    "value_counts = BOOKS_df.stack().value_counts()"
   ]
  },
  {
   "cell_type": "code",
   "execution_count": 719,
   "metadata": {},
   "outputs": [
    {
     "data": {
      "text/plain": [
       "   |Books[283155]|Subjects[1000]|Computers & Internet[5]|Hardware[549652]|Microprocessors & System Design[3723]|Intel[3732]    1\n",
       "   |Books[283155]|Subjects[1000]|Horror[49]|Authors, A-Z[5439]|( H )[6918]|Howard, Robert[7203]                                1\n",
       "   |Books[283155]|Subjects[1000]|Romance[23]|Authors, A-Z[12831]|( K )[13084]|Kendrick, Sharon[466416]                         1\n",
       "   |Books[283155]|Subjects[1000]|History[9]|Ancient[4873]|Series[465334]|Loeb Classics[465336]                                 1\n",
       "   |Books[283155]|Subjects[1000]|Horror[49]|Authors, A-Z[5439]|( J )[7280]|James, Henry[7314]                                  1\n",
       "dtype: int64"
      ]
     },
     "execution_count": 719,
     "metadata": {},
     "output_type": "execute_result"
    }
   ],
   "source": [
    "# there are many categories which only contain 1 entry.. these are redundant and should be removed first if we desire to \n",
    "# lower the category count as much as possible while removing as few data points as possible. \n",
    "\n",
    "# since value_counts is ordered, we can splice this list to remove the categories which appears on the least entries\n",
    "# we take the sum of the to-be-removed value counts to see how many entries we would lose\n",
    "\n",
    "value_counts.sort_values(ascending=True)[0:5]"
   ]
  },
  {
   "cell_type": "code",
   "execution_count": 716,
   "metadata": {},
   "outputs": [
    {
     "name": "stdout",
     "output_type": "stream",
     "text": [
      "0.1032722384955104\n",
      "0.25991909133343705\n"
     ]
    }
   ],
   "source": [
    "# to achieve only 10% reduction in entries, we need to keep about 26% of original categories\n",
    "\n",
    "# note - we can re-arrange all this so we instead input the desired reduction/preservation and output the \n",
    "# % threshold..this is slightly lazy/sloppy design\n",
    "\n",
    "cat_count_threshold = int(len(value_counts)*.26)\n",
    "\n",
    "print(value_counts[cat_count_threshold:].sum()/CATS_df[:-1][df.GROUP=='Book'].notnull().sum().sum())\n",
    "print(cat_count_threshold/len(pd.unique(CATS_df[:-1][df.GROUP=='Book'].values.ravel())))"
   ]
  },
  {
   "cell_type": "code",
   "execution_count": 718,
   "metadata": {},
   "outputs": [
    {
     "name": "stdout",
     "output_type": "stream",
     "text": [
      "0.2825090656370871\n",
      "0.09996888128209118\n"
     ]
    }
   ],
   "source": [
    "# we need to remove about 28% of entries, in order to reduce categories to 10% of original categories\n",
    "\n",
    "cat_count_threshold = int(len(value_counts)*.10)\n",
    "\n",
    "print(value_counts[cat_count_threshold:].sum()/CATS_df[:-1][df.GROUP=='Book'].notnull().sum().sum())\n",
    "print(cat_count_threshold/len(pd.unique(CATS_df[:-1][df.GROUP=='Book'].values.ravel())))"
   ]
  },
  {
   "cell_type": "code",
   "execution_count": 657,
   "metadata": {
    "collapsed": true
   },
   "outputs": [],
   "source": [
    "# the target of 10% reduction in entries for a 90% reduction in categories is not feasible, as shown by cells above"
   ]
  },
  {
   "cell_type": "markdown",
   "metadata": {},
   "source": [
    "---"
   ]
  },
  {
   "cell_type": "markdown",
   "metadata": {},
   "source": [
    "__1. Algorithm thinking__\n",
    "\n",
    "How would you build the product categorization from scratch, using similar/co-purchased\n",
    "information? "
   ]
  },
  {
   "cell_type": "code",
   "execution_count": 724,
   "metadata": {
    "collapsed": true
   },
   "outputs": [],
   "source": [
    "# using the given groups, i would count the number of occurences of each unique co-purchased ASIN and compile a data table\n",
    "# of those which occur most frequently. for a given ASIN that occures very frequently, i would assign it a category.\n",
    "# then, i would iteratively repeat the process within the datapoints which contain that ASIN to find other \n",
    "# 'very-frequent' occurences which i would assign to a sub-cateogry. i would repeat this process to a desired extent\n",
    "# such that i have groupings (defined subsets) of datapoints to a desired level of depth and breadth. depth is achieved\n",
    "# through the iterative process of adding sub-categories, whereas breadth is achieved by creating new categories\n",
    "# within a level by moving down the list of frequently-occuring ASINs. since this is hierarchical, we can increase \n",
    "# breadth/depth at any level...to the extent to which we have available data"
   ]
  },
  {
   "cell_type": "markdown",
   "metadata": {},
   "source": [
    "__2. Product thinking__\n",
    "\n",
    "Now, put on your 'product thinking' hat.\n",
    "\n",
    "a. Is it a good idea to show users the categorization hierarchy for items?\n",
    "\n",
    "b. Is it a good idea to show users similar/co-purchased items?\n",
    "\n",
    "c. Is it a good idea to show users reviews and ratings for items?\n",
    "\n",
    "d. For each of the above, why? How will you establish the same?"
   ]
  },
  {
   "cell_type": "code",
   "execution_count": 720,
   "metadata": {
    "collapsed": true
   },
   "outputs": [],
   "source": [
    "# a\n",
    "\n",
    "# yes. if a user searches for a specific item and is presented with the categorization hierarchy for that item, he will\n",
    "# know what grouping (product subset) to explore to find similar products. quite often, users will use the web to \n",
    "# research and find products fit to their preferences. this is often not the first search made, and showing the \n",
    "# categorization hierarchy will increase the probability that the user will find a product he will purchase"
   ]
  },
  {
   "cell_type": "code",
   "execution_count": 721,
   "metadata": {
    "collapsed": true
   },
   "outputs": [],
   "source": [
    "# b\n",
    "\n",
    "# also yes. assuming that a user has already decided to purchase an item, showing similar and 'frequently-bought-together'\n",
    "# is about as targeted as you can get with respect to advertisement. not only is the similar product relevant to the user,\n",
    "# the user is currently about to purchase another product that is complimentary to the advertised item. this would be a very\n",
    "# directly relevant product advertised at a very appropriate time (from the buyer's perspective)"
   ]
  },
  {
   "cell_type": "code",
   "execution_count": 722,
   "metadata": {
    "collapsed": true
   },
   "outputs": [],
   "source": [
    "# c\n",
    "\n",
    "# this would depend on the reviews/ratings on the item. if an item has poor ratings/reviews, it is not a great idea to show the \n",
    "# customer the ratings/reviews, lest the information dissuades the customer from purchasing the item. on the other hand,\n",
    "# if any item has great ratings/reviews, it would seem to be a very good idea to show the customer the ratings/reviews. the\n",
    "# information will likely improve the likelihood that the customer will purchase the item.\n",
    "\n",
    "# however, there is a question of ethics with the above answer.. it may not be ethical to show the customer inconsistent\n",
    "# information, with the objective of maximizing sales. transparency and trust are important in business relations"
   ]
  },
  {
   "cell_type": "code",
   "execution_count": 723,
   "metadata": {
    "collapsed": true
   },
   "outputs": [],
   "source": [
    "# d\n",
    "\n",
    "# answered above"
   ]
  }
 ],
 "metadata": {
  "kernelspec": {
   "display_name": "Python 3",
   "language": "python",
   "name": "python3"
  },
  "language_info": {
   "codemirror_mode": {
    "name": "ipython",
    "version": 3
   },
   "file_extension": ".py",
   "mimetype": "text/x-python",
   "name": "python",
   "nbconvert_exporter": "python",
   "pygments_lexer": "ipython3",
   "version": "3.6.3"
  }
 },
 "nbformat": 4,
 "nbformat_minor": 2
}
