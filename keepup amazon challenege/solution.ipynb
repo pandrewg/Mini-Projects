{
 "cells": [
  {
   "cell_type": "code",
   "execution_count": 1,
   "metadata": {
    "collapsed": true
   },
   "outputs": [],
   "source": [
    "import numpy as np\n",
    "import pandas as pd\n",
    "import matplotlib.pyplot as plt\n",
    "import seaborn as sns\n",
    "\n",
    "sns.set_style('whitegrid')\n",
    "\n",
    "%matplotlib inline"
   ]
  },
  {
   "cell_type": "markdown",
   "metadata": {},
   "source": [
    "---\n",
    "## Restructuring the Data"
   ]
  },
  {
   "cell_type": "code",
   "execution_count": 2,
   "metadata": {
    "collapsed": true
   },
   "outputs": [],
   "source": [
    "data = open('./amazon-meta.txt',encoding='utf8').read().split('\\n')"
   ]
  },
  {
   "cell_type": "code",
   "execution_count": 3,
   "metadata": {},
   "outputs": [
    {
     "data": {
      "text/plain": [
       "['# Full information about Amazon Share the Love products',\n",
       " 'Total items: 548552',\n",
       " '',\n",
       " 'Id:   0',\n",
       " 'ASIN: 0771044445',\n",
       " '  discontinued product',\n",
       " '',\n",
       " 'Id:   1',\n",
       " 'ASIN: 0827229534',\n",
       " '  title: Patterns of Preaching: A Sermon Sampler',\n",
       " '  group: Book',\n",
       " '  salesrank: 396585',\n",
       " '  similar: 5  0804215715  156101074X  0687023955  0687074231  082721619X',\n",
       " '  categories: 2',\n",
       " '   |Books[283155]|Subjects[1000]|Religion & Spirituality[22]|Christianity[12290]|Clergy[12360]|Preaching[12368]',\n",
       " '   |Books[283155]|Subjects[1000]|Religion & Spirituality[22]|Christianity[12290]|Clergy[12360]|Sermons[12370]',\n",
       " '  reviews: total: 2  downloaded: 2  avg rating: 5',\n",
       " '    2000-7-28  cutomer: A2JW67OY8U6HHK  rating: 5  votes:  10  helpful:   9',\n",
       " '    2003-12-14  cutomer: A2VE83MZF98ITY  rating: 5  votes:   6  helpful:   5',\n",
       " '',\n",
       " 'Id:   2']"
      ]
     },
     "execution_count": 3,
     "metadata": {},
     "output_type": "execute_result"
    }
   ],
   "source": [
    "# different data points seem to be split in this flat list by an empty element: ''\n",
    "\n",
    "data[0:21]"
   ]
  },
  {
   "cell_type": "code",
   "execution_count": 4,
   "metadata": {
    "collapsed": true
   },
   "outputs": [],
   "source": [
    "dataseparated = []\n",
    "datapoint = []\n",
    "\n",
    "for val in data:\n",
    "    if val == '':\n",
    "        dataseparated.append(datapoint)\n",
    "        datapoint = []\n",
    "        continue\n",
    "    datapoint.append(val)\n",
    "\n",
    "dataseparated.remove(['# Full information about Amazon Share the Love products','Total items: 548552'])"
   ]
  },
  {
   "cell_type": "code",
   "execution_count": 5,
   "metadata": {
    "collapsed": true
   },
   "outputs": [],
   "source": [
    "# can't parallelize the list to a Spark RDD..java heap error (memory limit of driver?)"
   ]
  },
  {
   "cell_type": "code",
   "execution_count": 6,
   "metadata": {},
   "outputs": [
    {
     "data": {
      "text/plain": [
       "['Id:   1',\n",
       " 'ASIN: 0827229534',\n",
       " '  title: Patterns of Preaching: A Sermon Sampler',\n",
       " '  group: Book',\n",
       " '  salesrank: 396585',\n",
       " '  similar: 5  0804215715  156101074X  0687023955  0687074231  082721619X',\n",
       " '  categories: 2',\n",
       " '   |Books[283155]|Subjects[1000]|Religion & Spirituality[22]|Christianity[12290]|Clergy[12360]|Preaching[12368]',\n",
       " '   |Books[283155]|Subjects[1000]|Religion & Spirituality[22]|Christianity[12290]|Clergy[12360]|Sermons[12370]',\n",
       " '  reviews: total: 2  downloaded: 2  avg rating: 5',\n",
       " '    2000-7-28  cutomer: A2JW67OY8U6HHK  rating: 5  votes:  10  helpful:   9',\n",
       " '    2003-12-14  cutomer: A2VE83MZF98ITY  rating: 5  votes:   6  helpful:   5']"
      ]
     },
     "execution_count": 6,
     "metadata": {},
     "output_type": "execute_result"
    }
   ],
   "source": [
    "# each data point has a different number of features (different number of reviews, hierarchical categories, etc)\n",
    "# so we cannot create a multidimensional numpy array without first filling NaN values in a dataframe?\n",
    "\n",
    "dataseparated[1]"
   ]
  },
  {
   "cell_type": "code",
   "execution_count": 7,
   "metadata": {
    "collapsed": true
   },
   "outputs": [],
   "source": [
    "# directly calling pd.DataFrame() will mix up the columns; also very computationally expensive. need to do this manually\n",
    "\n",
    "df = pd.DataFrame()"
   ]
  },
  {
   "cell_type": "code",
   "execution_count": 8,
   "metadata": {
    "collapsed": true
   },
   "outputs": [],
   "source": [
    "def f(x):\n",
    "    if x == '  discontinued product':\n",
    "        return 'discontinued product'\n",
    "    else:\n",
    "        return x[9:]\n",
    "\n",
    "def g(x):\n",
    "    if x is np.NaN:\n",
    "        return np.NaN\n",
    "    else:\n",
    "        return x[9:]\n",
    "\n",
    "def h(x):\n",
    "    if x is np.NaN:\n",
    "        return np.NaN\n",
    "    else:\n",
    "        return float(x[13:])"
   ]
  },
  {
   "cell_type": "code",
   "execution_count": 9,
   "metadata": {
    "collapsed": true
   },
   "outputs": [],
   "source": [
    "# could simply do df.ID = range(len(ID)) since there are no anomalies in the ID, but this approach is better design/practice\n",
    "\n",
    "ID = []\n",
    "ASIN = []\n",
    "TITLE = []\n",
    "GROUP = []\n",
    "SALESRANK = []\n",
    "SIMILAR = []\n",
    "\n",
    "for dp in dataseparated[:-1]:\n",
    "    ID.append(dp[0])\n",
    "    ASIN.append(dp[1])\n",
    "    TITLE.append(dp[2])\n",
    "    if len(dp) <=3 :\n",
    "        GROUP.append(np.NaN)\n",
    "        continue\n",
    "    GROUP.append(dp[3])\n",
    "    \n",
    "for dp in dataseparated[:-1]:\n",
    "    if len(dp) <= 4 :\n",
    "        SALESRANK.append(np.NaN)\n",
    "        continue\n",
    "    SALESRANK.append(dp[4])\n",
    "    \n",
    "for dp in dataseparated[:-1]:\n",
    "    if len(dp)<=5:\n",
    "        SIMILAR.append(np.NaN)\n",
    "        continue\n",
    "    SIMILAR.append(int(dp[5][11:].split()[0]))\n",
    "    \n",
    "df['ID'] = ID\n",
    "df.ID = df.ID.apply(lambda x: x[6:]).astype(int)\n",
    "df['ASIN'] = ASIN\n",
    "df.ASIN = df.ASIN.apply(lambda x: x[6:])\n",
    "df['TITLE'] = TITLE\n",
    "df.TITLE = df.TITLE.apply(f)\n",
    "df['GROUP'] = GROUP\n",
    "df.GROUP = df.GROUP.apply(g)\n",
    "df['SALESRANK'] = SALESRANK\n",
    "df.SALESRANK = df.SALESRANK.apply(h)\n",
    "df['SIMILAR'] = SIMILAR"
   ]
  },
  {
   "cell_type": "code",
   "execution_count": 10,
   "metadata": {},
   "outputs": [
    {
     "data": {
      "text/plain": [
       "5.0"
      ]
     },
     "execution_count": 10,
     "metadata": {},
     "output_type": "execute_result"
    }
   ],
   "source": [
    "df.SIMILAR.max()"
   ]
  },
  {
   "cell_type": "code",
   "execution_count": 11,
   "metadata": {
    "collapsed": true
   },
   "outputs": [],
   "source": [
    "# max number of similar ASINs is 5. create a column for each, with NaN values for those w/ less than 5 similar products\n",
    "# can't use a single for loop because of the continue statements\n",
    "\n",
    "SIM1 = []\n",
    "SIM2 = []\n",
    "SIM3 = []\n",
    "SIM4 = []\n",
    "SIM5 = []\n",
    "\n",
    "for dp in dataseparated[:-1]:\n",
    "    if (len(dp)<=5) or (int(dp[5][11:].split()[0])<1):\n",
    "        SIM1.append(np.NaN)\n",
    "        continue\n",
    "    SIM1.append(dp[5][11:].split()[1])\n",
    "\n",
    "for dp in dataseparated[:-1]:\n",
    "    if (len(dp)<=5) or (int(dp[5][11:].split()[0])<2):\n",
    "        SIM2.append(np.NaN)\n",
    "        continue\n",
    "    SIM2.append(dp[5][11:].split()[2])\n",
    "    \n",
    "for dp in dataseparated[:-1]:\n",
    "    if (len(dp)<=5) or (int(dp[5][11:].split()[0])<3):\n",
    "        SIM3.append(np.NaN)\n",
    "        continue\n",
    "    SIM3.append(dp[5][11:].split()[3])\n",
    "    \n",
    "for dp in dataseparated[:-1]:\n",
    "    if (len(dp)<=5) or (int(dp[5][11:].split()[0])<4):\n",
    "        SIM4.append(np.NaN)\n",
    "        continue\n",
    "    SIM4.append(dp[5][11:].split()[4])\n",
    "    \n",
    "for dp in dataseparated[:-1]:\n",
    "    if (len(dp)<=5) or (int(dp[5][11:].split()[0])<5):\n",
    "        SIM5.append(np.NaN)\n",
    "        continue\n",
    "    SIM5.append(dp[5][11:].split()[5])\n",
    "    \n",
    "df['SIM1'] = SIM1\n",
    "df['SIM2'] = SIM2\n",
    "df['SIM3'] = SIM3\n",
    "df['SIM4'] = SIM4\n",
    "df['SIM5'] = SIM5"
   ]
  },
  {
   "cell_type": "code",
   "execution_count": 12,
   "metadata": {
    "collapsed": true
   },
   "outputs": [],
   "source": [
    "CATEGORIES = []\n",
    "\n",
    "for dp in dataseparated[:-1]:\n",
    "    if len(dp)<=7:\n",
    "        CATEGORIES.append(np.NaN)\n",
    "        continue\n",
    "    CATEGORIES.append(int(dp[6].split()[1]))\n",
    "        \n",
    "df['CATEGORIES'] = CATEGORIES"
   ]
  },
  {
   "cell_type": "code",
   "execution_count": 13,
   "metadata": {
    "collapsed": true
   },
   "outputs": [],
   "source": [
    "# list of lists containing categories for each data point. difficult to structure because of different sizes...fill with NaN\n",
    "# so the internal lists are all the same size?\n",
    "# we don't need to actually structure all of the categorical data.. just focus on answering what the questions is asking\n",
    "\n",
    "CATS = []\n",
    "\n",
    "for dp in dataseparated:\n",
    "    if len(dp) < 7:\n",
    "        CATS.append([np.NaN])\n",
    "        continue\n",
    "    CATS.append(dp[7:7+int(dp[6].split()[1])])"
   ]
  },
  {
   "cell_type": "code",
   "execution_count": 14,
   "metadata": {
    "collapsed": true
   },
   "outputs": [],
   "source": [
    "for dp in CATS:\n",
    "    while(len(dp)<116):\n",
    "        dp.append(np.NaN)\n",
    "        \n",
    "CATS_df = pd.DataFrame(CATS)"
   ]
  },
  {
   "cell_type": "code",
   "execution_count": 15,
   "metadata": {
    "collapsed": true
   },
   "outputs": [],
   "source": [
    "REVIEWS = []\n",
    "\n",
    "for dp in dataseparated[:-1]:\n",
    "    if len(dp) < 7:\n",
    "        REVIEWS.append(np.NaN)\n",
    "        continue\n",
    "    REVIEWS.append(int(dp[7+int(dp[6].split()[1])].split()[2]))\n",
    "    \n",
    "df['REVIEWS_COUNT'] = REVIEWS"
   ]
  },
  {
   "cell_type": "code",
   "execution_count": 16,
   "metadata": {
    "collapsed": true
   },
   "outputs": [],
   "source": [
    "RATING = []\n",
    "\n",
    "for dp in dataseparated[:-1]:\n",
    "    if len(dp) < 7:\n",
    "        RATING.append(np.NaN)\n",
    "        continue\n",
    "    RATING.append(float(dp[7+int(dp[6].split()[1])].split()[7]))\n",
    "    \n",
    "df['AVG_RATING'] = RATING"
   ]
  },
  {
   "cell_type": "code",
   "execution_count": 17,
   "metadata": {
    "collapsed": true
   },
   "outputs": [],
   "source": [
    "# similar to CATS..may or may not further structure the data\n",
    "\n",
    "REVIEWS1 = []\n",
    "\n",
    "for dp in dataseparated:\n",
    "    if len(dp) < 7:\n",
    "        REVIEWS1.append([np.NaN])\n",
    "        continue\n",
    "    REVIEWS1.append(dp[8+int(dp[6].split()[1]):\\\n",
    "                 8+int(dp[6].split()[1])+int(dp[7+int(dp[6].split()[1])].split()[2])])"
   ]
  },
  {
   "cell_type": "code",
   "execution_count": 18,
   "metadata": {},
   "outputs": [
    {
     "data": {
      "text/html": [
       "<div>\n",
       "<style>\n",
       "    .dataframe thead tr:only-child th {\n",
       "        text-align: right;\n",
       "    }\n",
       "\n",
       "    .dataframe thead th {\n",
       "        text-align: left;\n",
       "    }\n",
       "\n",
       "    .dataframe tbody tr th {\n",
       "        vertical-align: top;\n",
       "    }\n",
       "</style>\n",
       "<table border=\"1\" class=\"dataframe\">\n",
       "  <thead>\n",
       "    <tr style=\"text-align: right;\">\n",
       "      <th></th>\n",
       "      <th>ID</th>\n",
       "      <th>ASIN</th>\n",
       "      <th>TITLE</th>\n",
       "      <th>GROUP</th>\n",
       "      <th>SALESRANK</th>\n",
       "      <th>SIMILAR</th>\n",
       "      <th>SIM1</th>\n",
       "      <th>SIM2</th>\n",
       "      <th>SIM3</th>\n",
       "      <th>SIM4</th>\n",
       "      <th>SIM5</th>\n",
       "      <th>CATEGORIES</th>\n",
       "      <th>REVIEWS_COUNT</th>\n",
       "      <th>AVG_RATING</th>\n",
       "    </tr>\n",
       "  </thead>\n",
       "  <tbody>\n",
       "    <tr>\n",
       "      <th>0</th>\n",
       "      <td>0</td>\n",
       "      <td>0771044445</td>\n",
       "      <td>discontinued product</td>\n",
       "      <td>NaN</td>\n",
       "      <td>NaN</td>\n",
       "      <td>NaN</td>\n",
       "      <td>NaN</td>\n",
       "      <td>NaN</td>\n",
       "      <td>NaN</td>\n",
       "      <td>NaN</td>\n",
       "      <td>NaN</td>\n",
       "      <td>NaN</td>\n",
       "      <td>NaN</td>\n",
       "      <td>NaN</td>\n",
       "    </tr>\n",
       "    <tr>\n",
       "      <th>1</th>\n",
       "      <td>1</td>\n",
       "      <td>0827229534</td>\n",
       "      <td>Patterns of Preaching: A Sermon Sampler</td>\n",
       "      <td>Book</td>\n",
       "      <td>396585.0</td>\n",
       "      <td>5.0</td>\n",
       "      <td>0804215715</td>\n",
       "      <td>156101074X</td>\n",
       "      <td>0687023955</td>\n",
       "      <td>0687074231</td>\n",
       "      <td>082721619X</td>\n",
       "      <td>2.0</td>\n",
       "      <td>2.0</td>\n",
       "      <td>5.0</td>\n",
       "    </tr>\n",
       "    <tr>\n",
       "      <th>2</th>\n",
       "      <td>2</td>\n",
       "      <td>0738700797</td>\n",
       "      <td>Candlemas: Feast of Flames</td>\n",
       "      <td>Book</td>\n",
       "      <td>168596.0</td>\n",
       "      <td>5.0</td>\n",
       "      <td>0738700827</td>\n",
       "      <td>1567184960</td>\n",
       "      <td>1567182836</td>\n",
       "      <td>0738700525</td>\n",
       "      <td>0738700940</td>\n",
       "      <td>2.0</td>\n",
       "      <td>12.0</td>\n",
       "      <td>4.5</td>\n",
       "    </tr>\n",
       "    <tr>\n",
       "      <th>3</th>\n",
       "      <td>3</td>\n",
       "      <td>0486287785</td>\n",
       "      <td>World War II Allied Fighter Planes Trading Cards</td>\n",
       "      <td>Book</td>\n",
       "      <td>1270652.0</td>\n",
       "      <td>0.0</td>\n",
       "      <td>NaN</td>\n",
       "      <td>NaN</td>\n",
       "      <td>NaN</td>\n",
       "      <td>NaN</td>\n",
       "      <td>NaN</td>\n",
       "      <td>1.0</td>\n",
       "      <td>1.0</td>\n",
       "      <td>5.0</td>\n",
       "    </tr>\n",
       "    <tr>\n",
       "      <th>4</th>\n",
       "      <td>4</td>\n",
       "      <td>0842328327</td>\n",
       "      <td>Life Application Bible Commentary: 1 and 2 Tim...</td>\n",
       "      <td>Book</td>\n",
       "      <td>631289.0</td>\n",
       "      <td>5.0</td>\n",
       "      <td>0842328130</td>\n",
       "      <td>0830818138</td>\n",
       "      <td>0842330313</td>\n",
       "      <td>0842328610</td>\n",
       "      <td>0842328572</td>\n",
       "      <td>5.0</td>\n",
       "      <td>1.0</td>\n",
       "      <td>4.0</td>\n",
       "    </tr>\n",
       "  </tbody>\n",
       "</table>\n",
       "</div>"
      ],
      "text/plain": [
       "   ID        ASIN                                              TITLE GROUP  \\\n",
       "0   0  0771044445                               discontinued product   NaN   \n",
       "1   1  0827229534            Patterns of Preaching: A Sermon Sampler  Book   \n",
       "2   2  0738700797                         Candlemas: Feast of Flames  Book   \n",
       "3   3  0486287785   World War II Allied Fighter Planes Trading Cards  Book   \n",
       "4   4  0842328327  Life Application Bible Commentary: 1 and 2 Tim...  Book   \n",
       "\n",
       "   SALESRANK  SIMILAR        SIM1        SIM2        SIM3        SIM4  \\\n",
       "0        NaN      NaN         NaN         NaN         NaN         NaN   \n",
       "1   396585.0      5.0  0804215715  156101074X  0687023955  0687074231   \n",
       "2   168596.0      5.0  0738700827  1567184960  1567182836  0738700525   \n",
       "3  1270652.0      0.0         NaN         NaN         NaN         NaN   \n",
       "4   631289.0      5.0  0842328130  0830818138  0842330313  0842328610   \n",
       "\n",
       "         SIM5  CATEGORIES  REVIEWS_COUNT  AVG_RATING  \n",
       "0         NaN         NaN            NaN         NaN  \n",
       "1  082721619X         2.0            2.0         5.0  \n",
       "2  0738700940         2.0           12.0         4.5  \n",
       "3         NaN         1.0            1.0         5.0  \n",
       "4  0842328572         5.0            1.0         4.0  "
      ]
     },
     "execution_count": 18,
     "metadata": {},
     "output_type": "execute_result"
    }
   ],
   "source": [
    "df.head()"
   ]
  },
  {
   "cell_type": "code",
   "execution_count": 19,
   "metadata": {
    "collapsed": true
   },
   "outputs": [],
   "source": [
    "# dataframe to be used for analysis. removing these non-numerical columns increases clarity. keep GROUP \n",
    "\n",
    "df1 = df.drop(['ID','ASIN','TITLE','SIM1','SIM2','SIM3','SIM4','SIM5'],axis=1)"
   ]
  },
  {
   "cell_type": "markdown",
   "metadata": {},
   "source": [
    "---\n",
    "## Exploratory Analysis"
   ]
  },
  {
   "cell_type": "markdown",
   "metadata": {},
   "source": [
    "__1. Trustworthiness of ratings__\n",
    "\n",
    "Ratings are susceptible to manipulation, bias etc. What can you say (quantitatively\n",
    "speaking) about the ratings in this dataset?"
   ]
  },
  {
   "cell_type": "code",
   "execution_count": 20,
   "metadata": {},
   "outputs": [
    {
     "data": {
      "text/html": [
       "<div>\n",
       "<style>\n",
       "    .dataframe thead tr:only-child th {\n",
       "        text-align: right;\n",
       "    }\n",
       "\n",
       "    .dataframe thead th {\n",
       "        text-align: left;\n",
       "    }\n",
       "\n",
       "    .dataframe tbody tr th {\n",
       "        vertical-align: top;\n",
       "    }\n",
       "</style>\n",
       "<table border=\"1\" class=\"dataframe\">\n",
       "  <thead>\n",
       "    <tr style=\"text-align: right;\">\n",
       "      <th></th>\n",
       "      <th>SALESRANK</th>\n",
       "      <th>SIMILAR</th>\n",
       "      <th>CATEGORIES</th>\n",
       "      <th>REVIEWS_COUNT</th>\n",
       "      <th>AVG_RATING</th>\n",
       "    </tr>\n",
       "  </thead>\n",
       "  <tbody>\n",
       "    <tr>\n",
       "      <th>count</th>\n",
       "      <td>5.426840e+05</td>\n",
       "      <td>542684.000000</td>\n",
       "      <td>542684.000000</td>\n",
       "      <td>542684.000000</td>\n",
       "      <td>542684.000000</td>\n",
       "    </tr>\n",
       "    <tr>\n",
       "      <th>mean</th>\n",
       "      <td>4.893243e+05</td>\n",
       "      <td>3.296071</td>\n",
       "      <td>4.624605</td>\n",
       "      <td>14.339818</td>\n",
       "      <td>3.209534</td>\n",
       "    </tr>\n",
       "    <tr>\n",
       "      <th>std</th>\n",
       "      <td>5.677230e+05</td>\n",
       "      <td>2.287289</td>\n",
       "      <td>4.450647</td>\n",
       "      <td>74.768369</td>\n",
       "      <td>1.996296</td>\n",
       "    </tr>\n",
       "    <tr>\n",
       "      <th>min</th>\n",
       "      <td>-1.000000e+00</td>\n",
       "      <td>0.000000</td>\n",
       "      <td>0.000000</td>\n",
       "      <td>0.000000</td>\n",
       "      <td>0.000000</td>\n",
       "    </tr>\n",
       "    <tr>\n",
       "      <th>25%</th>\n",
       "      <td>9.074100e+04</td>\n",
       "      <td>0.000000</td>\n",
       "      <td>2.000000</td>\n",
       "      <td>0.000000</td>\n",
       "      <td>0.000000</td>\n",
       "    </tr>\n",
       "    <tr>\n",
       "      <th>50%</th>\n",
       "      <td>3.004900e+05</td>\n",
       "      <td>5.000000</td>\n",
       "      <td>4.000000</td>\n",
       "      <td>2.000000</td>\n",
       "      <td>4.000000</td>\n",
       "    </tr>\n",
       "    <tr>\n",
       "      <th>75%</th>\n",
       "      <td>6.720688e+05</td>\n",
       "      <td>5.000000</td>\n",
       "      <td>6.000000</td>\n",
       "      <td>8.000000</td>\n",
       "      <td>5.000000</td>\n",
       "    </tr>\n",
       "    <tr>\n",
       "      <th>max</th>\n",
       "      <td>3.798351e+06</td>\n",
       "      <td>5.000000</td>\n",
       "      <td>116.000000</td>\n",
       "      <td>5545.000000</td>\n",
       "      <td>5.000000</td>\n",
       "    </tr>\n",
       "  </tbody>\n",
       "</table>\n",
       "</div>"
      ],
      "text/plain": [
       "          SALESRANK        SIMILAR     CATEGORIES  REVIEWS_COUNT  \\\n",
       "count  5.426840e+05  542684.000000  542684.000000  542684.000000   \n",
       "mean   4.893243e+05       3.296071       4.624605      14.339818   \n",
       "std    5.677230e+05       2.287289       4.450647      74.768369   \n",
       "min   -1.000000e+00       0.000000       0.000000       0.000000   \n",
       "25%    9.074100e+04       0.000000       2.000000       0.000000   \n",
       "50%    3.004900e+05       5.000000       4.000000       2.000000   \n",
       "75%    6.720688e+05       5.000000       6.000000       8.000000   \n",
       "max    3.798351e+06       5.000000     116.000000    5545.000000   \n",
       "\n",
       "          AVG_RATING  \n",
       "count  542684.000000  \n",
       "mean        3.209534  \n",
       "std         1.996296  \n",
       "min         0.000000  \n",
       "25%         0.000000  \n",
       "50%         4.000000  \n",
       "75%         5.000000  \n",
       "max         5.000000  "
      ]
     },
     "execution_count": 20,
     "metadata": {},
     "output_type": "execute_result"
    }
   ],
   "source": [
    "df1.describe()"
   ]
  },
  {
   "cell_type": "code",
   "execution_count": 21,
   "metadata": {},
   "outputs": [
    {
     "data": {
      "text/plain": [
       "count    542684.000000\n",
       "mean         14.339818\n",
       "std          74.768369\n",
       "min           0.000000\n",
       "25%           0.000000\n",
       "50%           2.000000\n",
       "75%           8.000000\n",
       "max        5545.000000\n",
       "Name: REVIEWS_COUNT, dtype: float64"
      ]
     },
     "execution_count": 21,
     "metadata": {},
     "output_type": "execute_result"
    }
   ],
   "source": [
    "df1.REVIEWS_COUNT.describe()"
   ]
  },
  {
   "cell_type": "markdown",
   "metadata": {},
   "source": [
    "On average, there are about 14 reviews per item. This is enough that, on average, it is unlikely that items' reviews are susceptible to bias/manipulation by single parties. However, there is quite a bit of variance in the review count, so it seems that this depends a bit more on the specific item in question."
   ]
  },
  {
   "cell_type": "code",
   "execution_count": 22,
   "metadata": {},
   "outputs": [
    {
     "name": "stdout",
     "output_type": "stream",
     "text": [
      "0.8375796642797766\n"
     ]
    }
   ],
   "source": [
    "print(len(df[df.REVIEWS_COUNT<14.3])/len(df))"
   ]
  },
  {
   "cell_type": "markdown",
   "metadata": {},
   "source": [
    "Products with less-than-average review counts account for about 84% of the data set. This is highly skewed, indicating that there are few products which have very large review counts and thereby increasing the general average. For those products, the average reviews will be very reliable and robust against bias/manipulation."
   ]
  },
  {
   "cell_type": "code",
   "execution_count": 23,
   "metadata": {},
   "outputs": [
    {
     "data": {
      "text/plain": [
       "<matplotlib.axes._subplots.AxesSubplot at 0x1b4e71b03c8>"
      ]
     },
     "execution_count": 23,
     "metadata": {},
     "output_type": "execute_result"
    },
    {
     "data": {
      "image/png": "[encoded data removed]",
      "text/plain": [
       "<matplotlib.figure.Figure at 0x1b4f3aeb2e8>"
      ]
     },
     "metadata": {},
     "output_type": "display_data"
    }
   ],
   "source": [
    "df.REVIEWS_COUNT.hist(bins=80)"
   ]
  },
  {
   "cell_type": "markdown",
   "metadata": {},
   "source": [
    "Histogram is not useful, because the data is so skewed.."
   ]
  },
  {
   "cell_type": "code",
   "execution_count": 24,
   "metadata": {},
   "outputs": [
    {
     "data": {
      "text/plain": [
       "Text(0.5,0,'Review Counts of Products')"
      ]
     },
     "execution_count": 24,
     "metadata": {},
     "output_type": "execute_result"
    },
    {
     "data": {
      "image/png": "[encoded data removed]",
      "text/plain": [
       "<matplotlib.figure.Figure at 0x1b4eab58ef0>"
      ]
     },
     "metadata": {},
     "output_type": "display_data"
    }
   ],
   "source": [
    "pct = []\n",
    "cum = []\n",
    "\n",
    "for i in range(15):\n",
    "    pct.append(len(df[df.REVIEWS_COUNT==i])/len(df)*100)\n",
    "    \n",
    "    if i==0:\n",
    "        cum.append(pct[i])\n",
    "        continue\n",
    "    cum.append(pct[i]+cum[i-1])\n",
    "    \n",
    "fig, (ax1,ax2) = plt.subplots(1,2,figsize=(16,5)\n",
    "                      )\n",
    "ax1.plot(list(range(15)),pct)\n",
    "ax1.set_ylabel('% of total dataset',fontsize=14)\n",
    "ax1.set_xlabel('Review Counts of Products',fontsize=14)\n",
    "\n",
    "ax2.plot(list(range(15)),cum)\n",
    "ax2.set_ylabel('Cumulative % of total dataset',fontsize=14)\n",
    "ax2.set_xlabel('Review Counts of Products',fontsize=14)"
   ]
  },
  {
   "cell_type": "markdown",
   "metadata": {},
   "source": [
    "(left plot): Products with no review counts account for about a fourth of the data set. \n",
    "\n",
    "(right plot): Products with 2 reviews or fewer account for about half of the data set.\n",
    "\n",
    "2 reviews (or fewer) is a very unreliable threshold review count. With only this many reviews, the average reviews are highly susceptible to manipulation--and this account for half the products! At 4 reviews or fewer, the products account for about 65% of the dataset. 4 reviews is still fairly low, and a level that is very susceptible to manipulation. We study these products:"
   ]
  },
  {
   "cell_type": "code",
   "execution_count": 25,
   "metadata": {},
   "outputs": [],
   "source": [
    "weak_reviews = df[df.REVIEWS_COUNT<=4].copy()"
   ]
  },
  {
   "cell_type": "code",
   "execution_count": 26,
   "metadata": {},
   "outputs": [
    {
     "data": {
      "text/html": [
       "<div>\n",
       "<style>\n",
       "    .dataframe thead tr:only-child th {\n",
       "        text-align: right;\n",
       "    }\n",
       "\n",
       "    .dataframe thead th {\n",
       "        text-align: left;\n",
       "    }\n",
       "\n",
       "    .dataframe tbody tr th {\n",
       "        vertical-align: top;\n",
       "    }\n",
       "</style>\n",
       "<table border=\"1\" class=\"dataframe\">\n",
       "  <thead>\n",
       "    <tr style=\"text-align: right;\">\n",
       "      <th></th>\n",
       "      <th>ID</th>\n",
       "      <th>SALESRANK</th>\n",
       "      <th>SIMILAR</th>\n",
       "      <th>CATEGORIES</th>\n",
       "      <th>REVIEWS_COUNT</th>\n",
       "      <th>AVG_RATING</th>\n",
       "    </tr>\n",
       "  </thead>\n",
       "  <tbody>\n",
       "    <tr>\n",
       "      <th>count</th>\n",
       "      <td>349277.000000</td>\n",
       "      <td>3.492770e+05</td>\n",
       "      <td>349277.000000</td>\n",
       "      <td>349277.000000</td>\n",
       "      <td>349277.000000</td>\n",
       "      <td>349277.000000</td>\n",
       "    </tr>\n",
       "    <tr>\n",
       "      <th>mean</th>\n",
       "      <td>271679.747301</td>\n",
       "      <td>6.260824e+05</td>\n",
       "      <td>2.645410</td>\n",
       "      <td>4.009892</td>\n",
       "      <td>1.254895</td>\n",
       "      <td>2.632810</td>\n",
       "    </tr>\n",
       "    <tr>\n",
       "      <th>std</th>\n",
       "      <td>156282.656603</td>\n",
       "      <td>6.263137e+05</td>\n",
       "      <td>2.399287</td>\n",
       "      <td>3.713179</td>\n",
       "      <td>1.318628</td>\n",
       "      <td>2.246322</td>\n",
       "    </tr>\n",
       "    <tr>\n",
       "      <th>min</th>\n",
       "      <td>1.000000</td>\n",
       "      <td>-1.000000e+00</td>\n",
       "      <td>0.000000</td>\n",
       "      <td>0.000000</td>\n",
       "      <td>0.000000</td>\n",
       "      <td>0.000000</td>\n",
       "    </tr>\n",
       "    <tr>\n",
       "      <th>25%</th>\n",
       "      <td>136563.000000</td>\n",
       "      <td>1.787330e+05</td>\n",
       "      <td>0.000000</td>\n",
       "      <td>2.000000</td>\n",
       "      <td>0.000000</td>\n",
       "      <td>0.000000</td>\n",
       "    </tr>\n",
       "    <tr>\n",
       "      <th>50%</th>\n",
       "      <td>272665.000000</td>\n",
       "      <td>4.376430e+05</td>\n",
       "      <td>4.000000</td>\n",
       "      <td>3.000000</td>\n",
       "      <td>1.000000</td>\n",
       "      <td>4.000000</td>\n",
       "    </tr>\n",
       "    <tr>\n",
       "      <th>75%</th>\n",
       "      <td>406813.000000</td>\n",
       "      <td>8.635080e+05</td>\n",
       "      <td>5.000000</td>\n",
       "      <td>5.000000</td>\n",
       "      <td>2.000000</td>\n",
       "      <td>5.000000</td>\n",
       "    </tr>\n",
       "    <tr>\n",
       "      <th>max</th>\n",
       "      <td>548551.000000</td>\n",
       "      <td>3.798351e+06</td>\n",
       "      <td>5.000000</td>\n",
       "      <td>116.000000</td>\n",
       "      <td>4.000000</td>\n",
       "      <td>5.000000</td>\n",
       "    </tr>\n",
       "  </tbody>\n",
       "</table>\n",
       "</div>"
      ],
      "text/plain": [
       "                  ID     SALESRANK        SIMILAR     CATEGORIES  \\\n",
       "count  349277.000000  3.492770e+05  349277.000000  349277.000000   \n",
       "mean   271679.747301  6.260824e+05       2.645410       4.009892   \n",
       "std    156282.656603  6.263137e+05       2.399287       3.713179   \n",
       "min         1.000000 -1.000000e+00       0.000000       0.000000   \n",
       "25%    136563.000000  1.787330e+05       0.000000       2.000000   \n",
       "50%    272665.000000  4.376430e+05       4.000000       3.000000   \n",
       "75%    406813.000000  8.635080e+05       5.000000       5.000000   \n",
       "max    548551.000000  3.798351e+06       5.000000     116.000000   \n",
       "\n",
       "       REVIEWS_COUNT     AVG_RATING  \n",
       "count  349277.000000  349277.000000  \n",
       "mean        1.254895       2.632810  \n",
       "std         1.318628       2.246322  \n",
       "min         0.000000       0.000000  \n",
       "25%         0.000000       0.000000  \n",
       "50%         1.000000       4.000000  \n",
       "75%         2.000000       5.000000  \n",
       "max         4.000000       5.000000  "
      ]
     },
     "execution_count": 26,
     "metadata": {},
     "output_type": "execute_result"
    }
   ],
   "source": [
    "weak_reviews.describe()"
   ]
  },
  {
   "cell_type": "markdown",
   "metadata": {},
   "source": [
    "The average-average rating on these is a bit lower than on the entire dataset (2.6 vs 3.2) -- perhaps a greater tendency for bias towards lower ratings? (It's possible that good products are more likely to get reviewed, and thus have higher review counts, whereas bad products get less reviews.) Explored below:"
   ]
  },
  {
   "cell_type": "code",
   "execution_count": 27,
   "metadata": {},
   "outputs": [
    {
     "data": {
      "text/html": [
       "<div>\n",
       "<style>\n",
       "    .dataframe thead tr:only-child th {\n",
       "        text-align: right;\n",
       "    }\n",
       "\n",
       "    .dataframe thead th {\n",
       "        text-align: left;\n",
       "    }\n",
       "\n",
       "    .dataframe tbody tr th {\n",
       "        vertical-align: top;\n",
       "    }\n",
       "</style>\n",
       "<table border=\"1\" class=\"dataframe\">\n",
       "  <thead>\n",
       "    <tr style=\"text-align: right;\">\n",
       "      <th></th>\n",
       "      <th>SIMILAR</th>\n",
       "      <th>CATEGORIES</th>\n",
       "      <th>REVIEWS_COUNT</th>\n",
       "      <th>AVG_RATING</th>\n",
       "    </tr>\n",
       "    <tr>\n",
       "      <th>GROUP</th>\n",
       "      <th></th>\n",
       "      <th></th>\n",
       "      <th></th>\n",
       "      <th></th>\n",
       "    </tr>\n",
       "  </thead>\n",
       "  <tbody>\n",
       "    <tr>\n",
       "      <th>Baby Product</th>\n",
       "      <td>5.000000</td>\n",
       "      <td>5.000000</td>\n",
       "      <td>3.000000</td>\n",
       "      <td>4.500000</td>\n",
       "    </tr>\n",
       "    <tr>\n",
       "      <th>Book</th>\n",
       "      <td>2.818749</td>\n",
       "      <td>3.478045</td>\n",
       "      <td>1.181815</td>\n",
       "      <td>2.521211</td>\n",
       "    </tr>\n",
       "    <tr>\n",
       "      <th>CE</th>\n",
       "      <td>0.000000</td>\n",
       "      <td>4.500000</td>\n",
       "      <td>1.250000</td>\n",
       "      <td>1.750000</td>\n",
       "    </tr>\n",
       "    <tr>\n",
       "      <th>DVD</th>\n",
       "      <td>3.588963</td>\n",
       "      <td>8.799080</td>\n",
       "      <td>1.851253</td>\n",
       "      <td>3.028544</td>\n",
       "    </tr>\n",
       "    <tr>\n",
       "      <th>Music</th>\n",
       "      <td>1.920783</td>\n",
       "      <td>5.568463</td>\n",
       "      <td>1.476647</td>\n",
       "      <td>3.049415</td>\n",
       "    </tr>\n",
       "    <tr>\n",
       "      <th>Software</th>\n",
       "      <td>2.000000</td>\n",
       "      <td>6.000000</td>\n",
       "      <td>2.000000</td>\n",
       "      <td>4.375000</td>\n",
       "    </tr>\n",
       "    <tr>\n",
       "      <th>Toy</th>\n",
       "      <td>4.000000</td>\n",
       "      <td>7.400000</td>\n",
       "      <td>1.600000</td>\n",
       "      <td>3.600000</td>\n",
       "    </tr>\n",
       "    <tr>\n",
       "      <th>Video</th>\n",
       "      <td>1.855376</td>\n",
       "      <td>5.714734</td>\n",
       "      <td>1.483098</td>\n",
       "      <td>2.859188</td>\n",
       "    </tr>\n",
       "    <tr>\n",
       "      <th>Video Games</th>\n",
       "      <td>5.000000</td>\n",
       "      <td>8.000000</td>\n",
       "      <td>3.000000</td>\n",
       "      <td>2.500000</td>\n",
       "    </tr>\n",
       "  </tbody>\n",
       "</table>\n",
       "</div>"
      ],
      "text/plain": [
       "               SIMILAR  CATEGORIES  REVIEWS_COUNT  AVG_RATING\n",
       "GROUP                                                        \n",
       "Baby Product  5.000000    5.000000       3.000000    4.500000\n",
       "Book          2.818749    3.478045       1.181815    2.521211\n",
       "CE            0.000000    4.500000       1.250000    1.750000\n",
       "DVD           3.588963    8.799080       1.851253    3.028544\n",
       "Music         1.920783    5.568463       1.476647    3.049415\n",
       "Software      2.000000    6.000000       2.000000    4.375000\n",
       "Toy           4.000000    7.400000       1.600000    3.600000\n",
       "Video         1.855376    5.714734       1.483098    2.859188\n",
       "Video Games   5.000000    8.000000       3.000000    2.500000"
      ]
     },
     "execution_count": 27,
     "metadata": {},
     "output_type": "execute_result"
    }
   ],
   "source": [
    "weak_reviews.groupby('GROUP').mean()[['SIMILAR','CATEGORIES','REVIEWS_COUNT','AVG_RATING']]"
   ]
  },
  {
   "cell_type": "markdown",
   "metadata": {},
   "source": [
    "The average ratings within this subset seem to vary quite a bit between groups. \"It's possible that good products are more likely to get reviewed, and thus have higher review counts, whereas bad products get less reviews\" does not seem to be true--there is greater dependence on the type of product."
   ]
  },
  {
   "cell_type": "code",
   "execution_count": 28,
   "metadata": {},
   "outputs": [
    {
     "data": {
      "text/plain": [
       "<function matplotlib.pyplot.tight_layout>"
      ]
     },
     "execution_count": 28,
     "metadata": {},
     "output_type": "execute_result"
    },
    {
     "data": {
      "image/png": "[encoded data removed]",
      "text/plain": [
       "<matplotlib.figure.Figure at 0x1b4f877d588>"
      ]
     },
     "metadata": {},
     "output_type": "display_data"
    }
   ],
   "source": [
    "fig = plt.figure(figsize=(14,8))\n",
    "k=0\n",
    "for i in ['SALESRANK','SIMILAR','CATEGORIES','AVG_RATING']:\n",
    "    ax = fig.add_subplot(2,2,1+k)\n",
    "    ax.scatter(df1.REVIEWS_COUNT,df1[i],color='k',alpha=0.1)\n",
    "    ax.set_xlabel('REVIEWS_COUNT',fontsize=14)\n",
    "    ax.set_ylabel(i,fontsize=14)\n",
    "    k+=1\n",
    "    \n",
    "plt.tight_layout"
   ]
  },
  {
   "cell_type": "markdown",
   "metadata": {},
   "source": [
    "In the plots above, the sales rank and categorical counts subplots are of particular interest. With increasing sales rank and category count on products, there is a decreasing trend of review counts. Re-plotting for clarity:"
   ]
  },
  {
   "cell_type": "code",
   "execution_count": 29,
   "metadata": {},
   "outputs": [
    {
     "data": {
      "text/plain": [
       "Text(0.5,0,'Salesrank')"
      ]
     },
     "execution_count": 29,
     "metadata": {},
     "output_type": "execute_result"
    },
    {
     "data": {
      "image/png": "[encoded data removed]",
      "text/plain": [
       "<matplotlib.figure.Figure at 0x1b4fabe6048>"
      ]
     },
     "metadata": {},
     "output_type": "display_data"
    }
   ],
   "source": [
    "fig, (ax1,ax2) = plt.subplots(1,2,figsize=(16,5))\n",
    "\n",
    "ax1.scatter(df1.CATEGORIES,df1.REVIEWS_COUNT,facecolor='k',alpha=0.1)\n",
    "ax1.set_xlabel('Category Count',fontsize=14)\n",
    "ax1.set_ylabel('Reviews Count',fontsize=14)\n",
    "\n",
    "ax2.scatter(df1.SALESRANK,df1.REVIEWS_COUNT,facecolor='k',alpha=0.1)\n",
    "ax2.set_xlabel('Salesrank',fontsize=14)"
   ]
  },
  {
   "cell_type": "markdown",
   "metadata": {},
   "source": [
    "Salesrank is not a variable in control of the product managers (it is a result of the products' popularities on the market). __So, it seems that if we want to increase the reliability of the reviews on our products via increasing the review counts, we should aim to decrease the counts of categories that each product belongs in.__ This will not necessarily eliminate the problem -- many products belonging to few categories will still have few reviews -- but will increase the overall reliability of reviews.\n",
    "\n",
    "(Although, the question of correlation vs. causation still remains. Why is it that products belonging to many categories have so few reviews? Do reviews of products get recorded within specific categorical hierarchies? Need more domain knowledge to better address the question.)"
   ]
  },
  {
   "cell_type": "code",
   "execution_count": 30,
   "metadata": {
    "collapsed": true
   },
   "outputs": [],
   "source": [
    "reviews_count_means = []\n",
    "\n",
    "for rating in np.sort(df.AVG_RATING.unique()):\n",
    "    if np.isnan(rating):\n",
    "        continue\n",
    "    reviews_count_means.append(df[df.AVG_RATING==rating].REVIEWS_COUNT.mean())"
   ]
  },
  {
   "cell_type": "code",
   "execution_count": 31,
   "metadata": {},
   "outputs": [
    {
     "data": {
      "text/plain": [
       "Text(0.5,0,'Rating')"
      ]
     },
     "execution_count": 31,
     "metadata": {},
     "output_type": "execute_result"
    },
    {
     "data": {
      "image/png": "[encoded data removed]",
      "text/plain": [
       "<matplotlib.figure.Figure at 0x1b4fe289ba8>"
      ]
     },
     "metadata": {},
     "output_type": "display_data"
    }
   ],
   "source": [
    "# leave out NaN rating and 0 reviews\n",
    "\n",
    "fig, ax = plt.subplots(1,1,figsize=(9,6))\n",
    "\n",
    "ax.plot(np.sort(df.AVG_RATING.unique())[1:-1],reviews_count_means[1:])\n",
    "ax.set_ylabel('Average review count',fontsize=16)\n",
    "ax.set_xlabel('Rating',fontsize=16)"
   ]
  },
  {
   "cell_type": "markdown",
   "metadata": {},
   "source": [
    "The distribution looks somewhat bimodal--i.e. items with extreme ratings or median ratings (1, 2, or 5) tend not to have very many reviews..These are  more susceptible to bias/manipulation. There are not enough reviews for the ratings to be statistically reliable.\n",
    "\n",
    "There are two general \"peaks\" -- a low rating peak at 1.5 and a high rating peak at around 4. These ratings are more robust as their review counts tend to be higher. (I assume that people tend not to rate items at these \"in-between\" values. It is only after many ratings that the average ends up being around these points)"
   ]
  },
  {
   "cell_type": "code",
   "execution_count": 32,
   "metadata": {},
   "outputs": [
    {
     "data": {
      "text/plain": [
       "Text(0,0.5,'Review Count')"
      ]
     },
     "execution_count": 32,
     "metadata": {},
     "output_type": "execute_result"
    },
    {
     "data": {
      "image/png": "[encoded data removed]",
      "text/plain": [
       "<matplotlib.figure.Figure at 0x1b4fe31bef0>"
      ]
     },
     "metadata": {},
     "output_type": "display_data"
    }
   ],
   "source": [
    "fig, ax = plt.subplots(1,1,figsize=(9,6))\n",
    "\n",
    "ax.scatter(df.AVG_RATING,df.REVIEWS_COUNT,alpha=0.2)\n",
    "ax.set_xlabel('Rating',fontsize=16)\n",
    "ax.set_ylabel('Review Count',fontsize=16)"
   ]
  },
  {
   "cell_type": "markdown",
   "metadata": {},
   "source": [
    "This pattern seems especially true for items with very low ratings (1 or 1.5). these items have not been reviewed by many users, and their overall average rating is \"manipulated\" by the small sample of reviewers to be low.\n",
    "\n",
    "In general, we tend to be able to have more confidence in the \"in-between\" reviews because of their greater review counts.\n",
    "\n",
    "There do exist, however, some outliers which have a considerable review count yet also achieve an extreme ratings (these are the top/left and top/right points)."
   ]
  },
  {
   "cell_type": "code",
   "execution_count": 33,
   "metadata": {},
   "outputs": [
    {
     "data": {
      "text/html": [
       "<div>\n",
       "<style>\n",
       "    .dataframe thead tr:only-child th {\n",
       "        text-align: right;\n",
       "    }\n",
       "\n",
       "    .dataframe thead th {\n",
       "        text-align: left;\n",
       "    }\n",
       "\n",
       "    .dataframe tbody tr th {\n",
       "        vertical-align: top;\n",
       "    }\n",
       "</style>\n",
       "<table border=\"1\" class=\"dataframe\">\n",
       "  <thead>\n",
       "    <tr style=\"text-align: right;\">\n",
       "      <th></th>\n",
       "      <th>REVIEWS_COUNT</th>\n",
       "      <th>AVG_RATING</th>\n",
       "    </tr>\n",
       "    <tr>\n",
       "      <th>GROUP</th>\n",
       "      <th></th>\n",
       "      <th></th>\n",
       "    </tr>\n",
       "  </thead>\n",
       "  <tbody>\n",
       "    <tr>\n",
       "      <th>Baby Product</th>\n",
       "      <td>3.000000</td>\n",
       "      <td>4.500000</td>\n",
       "    </tr>\n",
       "    <tr>\n",
       "      <th>Book</th>\n",
       "      <td>11.961508</td>\n",
       "      <td>3.051148</td>\n",
       "    </tr>\n",
       "    <tr>\n",
       "      <th>CE</th>\n",
       "      <td>1.250000</td>\n",
       "      <td>1.750000</td>\n",
       "    </tr>\n",
       "    <tr>\n",
       "      <th>DVD</th>\n",
       "      <td>42.077466</td>\n",
       "      <td>3.670996</td>\n",
       "    </tr>\n",
       "    <tr>\n",
       "      <th>Music</th>\n",
       "      <td>13.685905</td>\n",
       "      <td>3.635529</td>\n",
       "    </tr>\n",
       "    <tr>\n",
       "      <th>Software</th>\n",
       "      <td>2.600000</td>\n",
       "      <td>4.500000</td>\n",
       "    </tr>\n",
       "    <tr>\n",
       "      <th>Sports</th>\n",
       "      <td>5.000000</td>\n",
       "      <td>4.000000</td>\n",
       "    </tr>\n",
       "    <tr>\n",
       "      <th>Toy</th>\n",
       "      <td>4.625000</td>\n",
       "      <td>3.812500</td>\n",
       "    </tr>\n",
       "    <tr>\n",
       "      <th>Video</th>\n",
       "      <td>31.702193</td>\n",
       "      <td>3.563105</td>\n",
       "    </tr>\n",
       "    <tr>\n",
       "      <th>Video Games</th>\n",
       "      <td>3.000000</td>\n",
       "      <td>2.500000</td>\n",
       "    </tr>\n",
       "  </tbody>\n",
       "</table>\n",
       "</div>"
      ],
      "text/plain": [
       "              REVIEWS_COUNT  AVG_RATING\n",
       "GROUP                                  \n",
       "Baby Product       3.000000    4.500000\n",
       "Book              11.961508    3.051148\n",
       "CE                 1.250000    1.750000\n",
       "DVD               42.077466    3.670996\n",
       "Music             13.685905    3.635529\n",
       "Software           2.600000    4.500000\n",
       "Sports             5.000000    4.000000\n",
       "Toy                4.625000    3.812500\n",
       "Video             31.702193    3.563105\n",
       "Video Games        3.000000    2.500000"
      ]
     },
     "execution_count": 33,
     "metadata": {},
     "output_type": "execute_result"
    }
   ],
   "source": [
    "df.groupby('GROUP').mean()[['REVIEWS_COUNT','AVG_RATING']]"
   ]
  },
  {
   "cell_type": "markdown",
   "metadata": {},
   "source": [
    "Depending on the group a product belongs to, it may have a greater or lesser tendency to be thoroughly reviewed. Due to this, different groups probably have more reliable average ratings (e.g. a DVD product rating will probably be more reliable than a Software product rating)."
   ]
  },
  {
   "cell_type": "markdown",
   "metadata": {},
   "source": [
    "Lastly, we try some simple clustering to see if we can find some patterns relating to low review counts:"
   ]
  },
  {
   "cell_type": "code",
   "execution_count": 34,
   "metadata": {},
   "outputs": [],
   "source": [
    "df1 = df1.dropna()\n",
    "group_dummies = pd.get_dummies(df1.GROUP)\n",
    "\n",
    "# columns that we have seen are of interest\n",
    "\n",
    "numerical = df1[['CATEGORIES','REVIEWS_COUNT','AVG_RATING']]\n",
    "model_input = numerical.merge(group_dummies,left_index=True,right_index=True)"
   ]
  },
  {
   "cell_type": "code",
   "execution_count": 35,
   "metadata": {
    "collapsed": true
   },
   "outputs": [],
   "source": [
    "from sklearn.cluster import KMeans"
   ]
  },
  {
   "cell_type": "code",
   "execution_count": 36,
   "metadata": {},
   "outputs": [],
   "source": [
    "# choosing 15 clusters fairly arbitrarily. would use a more analytical approach (decrease in sum of squares?) in practice\n",
    "\n",
    "KM = KMeans(n_clusters=15).fit(model_input)"
   ]
  },
  {
   "cell_type": "code",
   "execution_count": 37,
   "metadata": {},
   "outputs": [],
   "source": [
    "df1['CLUSTER'] = KM.labels_"
   ]
  },
  {
   "cell_type": "code",
   "execution_count": 38,
   "metadata": {},
   "outputs": [
    {
     "data": {
      "text/html": [
       "<div>\n",
       "<style>\n",
       "    .dataframe thead tr:only-child th {\n",
       "        text-align: right;\n",
       "    }\n",
       "\n",
       "    .dataframe thead th {\n",
       "        text-align: left;\n",
       "    }\n",
       "\n",
       "    .dataframe tbody tr th {\n",
       "        vertical-align: top;\n",
       "    }\n",
       "</style>\n",
       "<table border=\"1\" class=\"dataframe\">\n",
       "  <thead>\n",
       "    <tr style=\"text-align: right;\">\n",
       "      <th></th>\n",
       "      <th>SALESRANK</th>\n",
       "      <th>SIMILAR</th>\n",
       "      <th>CATEGORIES</th>\n",
       "      <th>REVIEWS_COUNT</th>\n",
       "      <th>AVG_RATING</th>\n",
       "    </tr>\n",
       "    <tr>\n",
       "      <th>CLUSTER</th>\n",
       "      <th></th>\n",
       "      <th></th>\n",
       "      <th></th>\n",
       "      <th></th>\n",
       "      <th></th>\n",
       "    </tr>\n",
       "  </thead>\n",
       "  <tbody>\n",
       "    <tr>\n",
       "      <th>0</th>\n",
       "      <td>564048.101804</td>\n",
       "      <td>2.931115</td>\n",
       "      <td>4.122005</td>\n",
       "      <td>2.310388</td>\n",
       "      <td>2.950094</td>\n",
       "    </tr>\n",
       "    <tr>\n",
       "      <th>12</th>\n",
       "      <td>214359.369348</td>\n",
       "      <td>4.621009</td>\n",
       "      <td>6.009532</td>\n",
       "      <td>17.820880</td>\n",
       "      <td>4.238529</td>\n",
       "    </tr>\n",
       "    <tr>\n",
       "      <th>8</th>\n",
       "      <td>177994.939407</td>\n",
       "      <td>4.846136</td>\n",
       "      <td>6.877210</td>\n",
       "      <td>48.772528</td>\n",
       "      <td>4.183501</td>\n",
       "    </tr>\n",
       "    <tr>\n",
       "      <th>3</th>\n",
       "      <td>166309.473986</td>\n",
       "      <td>4.888514</td>\n",
       "      <td>7.803829</td>\n",
       "      <td>97.358784</td>\n",
       "      <td>4.173930</td>\n",
       "    </tr>\n",
       "    <tr>\n",
       "      <th>9</th>\n",
       "      <td>164704.594347</td>\n",
       "      <td>4.865361</td>\n",
       "      <td>8.879246</td>\n",
       "      <td>167.172328</td>\n",
       "      <td>4.139474</td>\n",
       "    </tr>\n",
       "    <tr>\n",
       "      <th>2</th>\n",
       "      <td>192453.263906</td>\n",
       "      <td>4.865747</td>\n",
       "      <td>9.094521</td>\n",
       "      <td>259.624843</td>\n",
       "      <td>4.122543</td>\n",
       "    </tr>\n",
       "    <tr>\n",
       "      <th>11</th>\n",
       "      <td>171291.326897</td>\n",
       "      <td>4.896804</td>\n",
       "      <td>8.938748</td>\n",
       "      <td>384.430759</td>\n",
       "      <td>4.101531</td>\n",
       "    </tr>\n",
       "    <tr>\n",
       "      <th>13</th>\n",
       "      <td>190799.230576</td>\n",
       "      <td>4.849624</td>\n",
       "      <td>8.948622</td>\n",
       "      <td>556.339599</td>\n",
       "      <td>4.151003</td>\n",
       "    </tr>\n",
       "    <tr>\n",
       "      <th>10</th>\n",
       "      <td>181890.263403</td>\n",
       "      <td>4.883450</td>\n",
       "      <td>8.862471</td>\n",
       "      <td>759.666667</td>\n",
       "      <td>3.991841</td>\n",
       "    </tr>\n",
       "    <tr>\n",
       "      <th>6</th>\n",
       "      <td>202354.233202</td>\n",
       "      <td>4.901186</td>\n",
       "      <td>6.162055</td>\n",
       "      <td>1012.996047</td>\n",
       "      <td>4.021739</td>\n",
       "    </tr>\n",
       "    <tr>\n",
       "      <th>5</th>\n",
       "      <td>213572.994350</td>\n",
       "      <td>4.887006</td>\n",
       "      <td>7.514124</td>\n",
       "      <td>1321.406780</td>\n",
       "      <td>4.115819</td>\n",
       "    </tr>\n",
       "    <tr>\n",
       "      <th>1</th>\n",
       "      <td>170480.623656</td>\n",
       "      <td>4.946237</td>\n",
       "      <td>10.182796</td>\n",
       "      <td>1865.344086</td>\n",
       "      <td>4.005376</td>\n",
       "    </tr>\n",
       "    <tr>\n",
       "      <th>7</th>\n",
       "      <td>235448.437500</td>\n",
       "      <td>4.921875</td>\n",
       "      <td>9.375000</td>\n",
       "      <td>2577.609375</td>\n",
       "      <td>4.273438</td>\n",
       "    </tr>\n",
       "    <tr>\n",
       "      <th>14</th>\n",
       "      <td>5455.454545</td>\n",
       "      <td>5.000000</td>\n",
       "      <td>11.727273</td>\n",
       "      <td>3377.727273</td>\n",
       "      <td>4.000000</td>\n",
       "    </tr>\n",
       "    <tr>\n",
       "      <th>4</th>\n",
       "      <td>209195.350000</td>\n",
       "      <td>5.000000</td>\n",
       "      <td>8.150000</td>\n",
       "      <td>5098.300000</td>\n",
       "      <td>4.900000</td>\n",
       "    </tr>\n",
       "  </tbody>\n",
       "</table>\n",
       "</div>"
      ],
      "text/plain": [
       "             SALESRANK   SIMILAR  CATEGORIES  REVIEWS_COUNT  AVG_RATING\n",
       "CLUSTER                                                                \n",
       "0        564048.101804  2.931115    4.122005       2.310388    2.950094\n",
       "12       214359.369348  4.621009    6.009532      17.820880    4.238529\n",
       "8        177994.939407  4.846136    6.877210      48.772528    4.183501\n",
       "3        166309.473986  4.888514    7.803829      97.358784    4.173930\n",
       "9        164704.594347  4.865361    8.879246     167.172328    4.139474\n",
       "2        192453.263906  4.865747    9.094521     259.624843    4.122543\n",
       "11       171291.326897  4.896804    8.938748     384.430759    4.101531\n",
       "13       190799.230576  4.849624    8.948622     556.339599    4.151003\n",
       "10       181890.263403  4.883450    8.862471     759.666667    3.991841\n",
       "6        202354.233202  4.901186    6.162055    1012.996047    4.021739\n",
       "5        213572.994350  4.887006    7.514124    1321.406780    4.115819\n",
       "1        170480.623656  4.946237   10.182796    1865.344086    4.005376\n",
       "7        235448.437500  4.921875    9.375000    2577.609375    4.273438\n",
       "14         5455.454545  5.000000   11.727273    3377.727273    4.000000\n",
       "4        209195.350000  5.000000    8.150000    5098.300000    4.900000"
      ]
     },
     "execution_count": 38,
     "metadata": {},
     "output_type": "execute_result"
    }
   ],
   "source": [
    "# cluster 0 has relatively very few review counts. again, the avg-average rating is also noticeably lower than the products\n",
    "# which have more reviews\n",
    "\n",
    "df1.groupby('CLUSTER').mean().sort_values('REVIEWS_COUNT')"
   ]
  },
  {
   "cell_type": "code",
   "execution_count": 39,
   "metadata": {},
   "outputs": [
    {
     "data": {
      "text/html": [
       "<div>\n",
       "<style>\n",
       "    .dataframe thead tr:only-child th {\n",
       "        text-align: right;\n",
       "    }\n",
       "\n",
       "    .dataframe thead th {\n",
       "        text-align: left;\n",
       "    }\n",
       "\n",
       "    .dataframe tbody tr th {\n",
       "        vertical-align: top;\n",
       "    }\n",
       "</style>\n",
       "<table border=\"1\" class=\"dataframe\">\n",
       "  <thead>\n",
       "    <tr style=\"text-align: right;\">\n",
       "      <th></th>\n",
       "      <th>GROUP</th>\n",
       "      <th>SALESRANK</th>\n",
       "      <th>SIMILAR</th>\n",
       "      <th>CATEGORIES</th>\n",
       "      <th>REVIEWS_COUNT</th>\n",
       "      <th>AVG_RATING</th>\n",
       "    </tr>\n",
       "    <tr>\n",
       "      <th>CLUSTER</th>\n",
       "      <th></th>\n",
       "      <th></th>\n",
       "      <th></th>\n",
       "      <th></th>\n",
       "      <th></th>\n",
       "      <th></th>\n",
       "    </tr>\n",
       "  </thead>\n",
       "  <tbody>\n",
       "    <tr>\n",
       "      <th>14</th>\n",
       "      <td>11</td>\n",
       "      <td>11</td>\n",
       "      <td>11</td>\n",
       "      <td>11</td>\n",
       "      <td>11</td>\n",
       "      <td>11</td>\n",
       "    </tr>\n",
       "    <tr>\n",
       "      <th>4</th>\n",
       "      <td>20</td>\n",
       "      <td>20</td>\n",
       "      <td>20</td>\n",
       "      <td>20</td>\n",
       "      <td>20</td>\n",
       "      <td>20</td>\n",
       "    </tr>\n",
       "    <tr>\n",
       "      <th>7</th>\n",
       "      <td>64</td>\n",
       "      <td>64</td>\n",
       "      <td>64</td>\n",
       "      <td>64</td>\n",
       "      <td>64</td>\n",
       "      <td>64</td>\n",
       "    </tr>\n",
       "    <tr>\n",
       "      <th>1</th>\n",
       "      <td>93</td>\n",
       "      <td>93</td>\n",
       "      <td>93</td>\n",
       "      <td>93</td>\n",
       "      <td>93</td>\n",
       "      <td>93</td>\n",
       "    </tr>\n",
       "    <tr>\n",
       "      <th>5</th>\n",
       "      <td>177</td>\n",
       "      <td>177</td>\n",
       "      <td>177</td>\n",
       "      <td>177</td>\n",
       "      <td>177</td>\n",
       "      <td>177</td>\n",
       "    </tr>\n",
       "    <tr>\n",
       "      <th>6</th>\n",
       "      <td>253</td>\n",
       "      <td>253</td>\n",
       "      <td>253</td>\n",
       "      <td>253</td>\n",
       "      <td>253</td>\n",
       "      <td>253</td>\n",
       "    </tr>\n",
       "    <tr>\n",
       "      <th>10</th>\n",
       "      <td>429</td>\n",
       "      <td>429</td>\n",
       "      <td>429</td>\n",
       "      <td>429</td>\n",
       "      <td>429</td>\n",
       "      <td>429</td>\n",
       "    </tr>\n",
       "    <tr>\n",
       "      <th>13</th>\n",
       "      <td>798</td>\n",
       "      <td>798</td>\n",
       "      <td>798</td>\n",
       "      <td>798</td>\n",
       "      <td>798</td>\n",
       "      <td>798</td>\n",
       "    </tr>\n",
       "    <tr>\n",
       "      <th>11</th>\n",
       "      <td>1502</td>\n",
       "      <td>1502</td>\n",
       "      <td>1502</td>\n",
       "      <td>1502</td>\n",
       "      <td>1502</td>\n",
       "      <td>1502</td>\n",
       "    </tr>\n",
       "    <tr>\n",
       "      <th>2</th>\n",
       "      <td>2391</td>\n",
       "      <td>2391</td>\n",
       "      <td>2391</td>\n",
       "      <td>2391</td>\n",
       "      <td>2391</td>\n",
       "      <td>2391</td>\n",
       "    </tr>\n",
       "    <tr>\n",
       "      <th>9</th>\n",
       "      <td>4033</td>\n",
       "      <td>4033</td>\n",
       "      <td>4033</td>\n",
       "      <td>4033</td>\n",
       "      <td>4033</td>\n",
       "      <td>4033</td>\n",
       "    </tr>\n",
       "    <tr>\n",
       "      <th>3</th>\n",
       "      <td>8880</td>\n",
       "      <td>8880</td>\n",
       "      <td>8880</td>\n",
       "      <td>8880</td>\n",
       "      <td>8880</td>\n",
       "      <td>8880</td>\n",
       "    </tr>\n",
       "    <tr>\n",
       "      <th>8</th>\n",
       "      <td>21207</td>\n",
       "      <td>21207</td>\n",
       "      <td>21207</td>\n",
       "      <td>21207</td>\n",
       "      <td>21207</td>\n",
       "      <td>21207</td>\n",
       "    </tr>\n",
       "    <tr>\n",
       "      <th>12</th>\n",
       "      <td>71656</td>\n",
       "      <td>71656</td>\n",
       "      <td>71656</td>\n",
       "      <td>71656</td>\n",
       "      <td>71656</td>\n",
       "      <td>71656</td>\n",
       "    </tr>\n",
       "    <tr>\n",
       "      <th>0</th>\n",
       "      <td>431170</td>\n",
       "      <td>431170</td>\n",
       "      <td>431170</td>\n",
       "      <td>431170</td>\n",
       "      <td>431170</td>\n",
       "      <td>431170</td>\n",
       "    </tr>\n",
       "  </tbody>\n",
       "</table>\n",
       "</div>"
      ],
      "text/plain": [
       "          GROUP  SALESRANK  SIMILAR  CATEGORIES  REVIEWS_COUNT  AVG_RATING\n",
       "CLUSTER                                                                   \n",
       "14           11         11       11          11             11          11\n",
       "4            20         20       20          20             20          20\n",
       "7            64         64       64          64             64          64\n",
       "1            93         93       93          93             93          93\n",
       "5           177        177      177         177            177         177\n",
       "6           253        253      253         253            253         253\n",
       "10          429        429      429         429            429         429\n",
       "13          798        798      798         798            798         798\n",
       "11         1502       1502     1502        1502           1502        1502\n",
       "2          2391       2391     2391        2391           2391        2391\n",
       "9          4033       4033     4033        4033           4033        4033\n",
       "3          8880       8880     8880        8880           8880        8880\n",
       "8         21207      21207    21207       21207          21207       21207\n",
       "12        71656      71656    71656       71656          71656       71656\n",
       "0        431170     431170   431170      431170         431170      431170"
      ]
     },
     "execution_count": 39,
     "metadata": {},
     "output_type": "execute_result"
    }
   ],
   "source": [
    "# yet, cluster 0 has the greatest count of products. we explore cluster 0\n",
    "\n",
    "clus0 = df1[df1.CLUSTER==0]\n",
    "df1.groupby('CLUSTER').count().sort_values('REVIEWS_COUNT')\n"
   ]
  },
  {
   "cell_type": "code",
   "execution_count": 40,
   "metadata": {},
   "outputs": [
    {
     "data": {
      "text/plain": [
       "[(0.7252120939626007, 'Book'),\n",
       " (0.19006272526921744, 'Music'),\n",
       " (0.036536916511266226, 'DVD'),\n",
       " (0.0481514103972109, 'Video'),\n",
       " (1.474154388189075e-05, 'Toy'),\n",
       " (1.8426929852363438e-06, 'Video Games'),\n",
       " (9.213464926181719e-06, 'Software'),\n",
       " (1.8426929852363438e-06, 'Baby Product'),\n",
       " (7.370771940945375e-06, 'CE'),\n",
       " (1.8426929852363438e-06, 'Sports')]"
      ]
     },
     "execution_count": 40,
     "metadata": {},
     "output_type": "execute_result"
    }
   ],
   "source": [
    "g_pcts = []\n",
    "groups = []\n",
    "\n",
    "for group in df1.GROUP.unique():\n",
    "    g_pcts.append(len(df1[df1.GROUP==group])/len(df1))\n",
    "    groups.append(group)\n",
    "\n",
    "list(zip(g_pcts,groups))"
   ]
  },
  {
   "cell_type": "code",
   "execution_count": 41,
   "metadata": {},
   "outputs": [
    {
     "data": {
      "text/plain": [
       "[(0.7596470069810052, 'Book'),\n",
       " (0.18215553030127327, 'Music'),\n",
       " (0.02194725978152469, 'DVD'),\n",
       " (0.036206136790593035, 'Video'),\n",
       " (1.6234895748776586e-05, 'Toy'),\n",
       " (2.3192708212537976e-06, 'Video Games'),\n",
       " (1.159635410626899e-05, 'Software'),\n",
       " (2.3192708212537976e-06, 'Baby Product'),\n",
       " (9.27708328501519e-06, 'CE'),\n",
       " (2.3192708212537976e-06, 'Sports')]"
      ]
     },
     "execution_count": 41,
     "metadata": {},
     "output_type": "execute_result"
    }
   ],
   "source": [
    "g_pcts = []\n",
    "groups = []\n",
    "\n",
    "for group in clus0.GROUP.unique():\n",
    "    g_pcts.append(len(clus0[clus0.GROUP==group])/len(clus0))\n",
    "    groups.append(group)\n",
    "\n",
    "list(zip(g_pcts,groups))"
   ]
  },
  {
   "cell_type": "markdown",
   "metadata": {},
   "source": [
    "Within the \"bad subset\" cluster 0 which has much fewer review counts on average, the distribution of the products types between groups is actually about the same as in the entire data set. It doesn't seem like any one product group is susceptible to low review counts."
   ]
  },
  {
   "cell_type": "markdown",
   "metadata": {},
   "source": [
    "---\n",
    "#### (Aside -- this is not directly relevant to question of product review reliability.)"
   ]
  },
  {
   "cell_type": "code",
   "execution_count": 42,
   "metadata": {},
   "outputs": [
    {
     "data": {
      "text/plain": [
       "[('Book', 4.5),\n",
       " ('Music', 4.164011659486407),\n",
       " ('DVD', 3.2),\n",
       " ('Video', 4.054802040483656),\n",
       " ('Toy', 4.3720047689922),\n",
       " ('Video Games', 4.461538461538462),\n",
       " ('Software', 4.0),\n",
       " ('Baby Product', 4.513513513513513),\n",
       " ('CE', 4.110301662220398),\n",
       " ('Sports', 2.5)]"
      ]
     },
     "execution_count": 42,
     "metadata": {},
     "output_type": "execute_result"
    }
   ],
   "source": [
    "# weighted average ratings by group..books and video games tend to be rated higher than sports and DVDs\n",
    "\n",
    "ratings_by_group = []\n",
    "\n",
    "for group in np.sort(df.GROUP.unique()[1:]):\n",
    "    weighted_avg = (df[df.GROUP==group].AVG_RATING*df[df.GROUP==group].REVIEWS_COUNT).sum()\\\n",
    "    /df[df.GROUP==group].REVIEWS_COUNT.sum()\n",
    "    \n",
    "    ratings_by_group.append(weighted_avg)\n",
    "    \n",
    "list(zip(df.GROUP.unique()[1:],ratings_by_group))"
   ]
  },
  {
   "cell_type": "code",
   "execution_count": 43,
   "metadata": {},
   "outputs": [
    {
     "data": {
      "text/plain": [
       "<function matplotlib.pyplot.tight_layout>"
      ]
     },
     "execution_count": 43,
     "metadata": {},
     "output_type": "execute_result"
    },
    {
     "data": {
      "image/png": "[encoded data removed]",
      "text/plain": [
       "<matplotlib.figure.Figure at 0x1b4f8669390>"
      ]
     },
     "metadata": {},
     "output_type": "display_data"
    }
   ],
   "source": [
    "fig = plt.figure(figsize=(14,8))\n",
    "\n",
    "for i in range(4):\n",
    "    ax = fig.add_subplot(2,2,1+i)\n",
    "    ax.scatter(df1.AVG_RATING,df1[df1.columns[1+i]],color='k',alpha=0.1)\n",
    "    ax.set_xlabel('AVG_RATING',fontsize=14)\n",
    "    ax.set_ylabel(df1.columns[1+i],fontsize=14)\n",
    "    \n",
    "plt.tight_layout"
   ]
  },
  {
   "cell_type": "markdown",
   "metadata": {},
   "source": [
    "\n",
    "It seems that products with higher average ratings tend to have higher sales ranks, category counts, and review counts. Products with an average rating of 0 (i.e. no ratings, since products cannot be rated 0 stars) seem to be in a class of themselves -- the products with 0 average ratings on the categories and sales rank plots break the positive correlation trend.\n",
    "\n",
    "There does not seem to be any relationship between the average rating of a product and the number of similar products listed with it.\n",
    "\n",
    "---"
   ]
  },
  {
   "cell_type": "markdown",
   "metadata": {},
   "source": [
    "__2. Category bloat__\n",
    "\n",
    "Consider the product group named 'Books'. Each product in this group is associated with\n",
    "categories. Naturally, with categorization, there are tradeoffs between how broad or\n",
    "specific the categories must be.\n",
    "\n",
    "\n",
    "__For this dataset, quantify the following:__\n",
    "\n",
    "a. Is there redundancy in the categorization? How can it be identified/removed?\n",
    "\n",
    "b. Is is possible to reduce the number of categories drastically (say to 10% of existing\n",
    "categories) by sacrificing relatively few category entries (say close to 10%)?"
   ]
  },
  {
   "cell_type": "code",
   "execution_count": 44,
   "metadata": {},
   "outputs": [
    {
     "name": "stdout",
     "output_type": "stream",
     "text": [
      "3.6597350855394715\n",
      "2.427499620161403\n"
     ]
    }
   ],
   "source": [
    "# on average, individual books are placed into between 3 and 4 categories. there does seem to be a bit of redundancy\n",
    "# there is also a notable amount of variance around this figure..many books are placed into even more redundant categories\n",
    "\n",
    "print(df[df.GROUP=='Book'].CATEGORIES.mean())\n",
    "print(df[df.GROUP=='Book'].CATEGORIES.std())"
   ]
  },
  {
   "cell_type": "code",
   "execution_count": 45,
   "metadata": {},
   "outputs": [
    {
     "data": {
      "text/plain": [
       "12854"
      ]
     },
     "execution_count": 45,
     "metadata": {},
     "output_type": "execute_result"
    }
   ],
   "source": [
    "# number of unique book categories.\n",
    "# we want to reduce this to about 10% of its current size, i.e. reduce this number to around 1,280... (by about 11,500)\n",
    "\n",
    "len(pd.unique(CATS_df[:-1][df.GROUP=='Book'].values.ravel()))"
   ]
  },
  {
   "cell_type": "code",
   "execution_count": 46,
   "metadata": {},
   "outputs": [
    {
     "data": {
      "text/plain": [
       "1440329"
      ]
     },
     "execution_count": 46,
     "metadata": {},
     "output_type": "execute_result"
    }
   ],
   "source": [
    "# number of category entries\n",
    "# ...while reducing the number of entries by only about 10%. i.e. reduce this number to around 1,300,000\n",
    "\n",
    "CATS_df[:-1][df.GROUP=='Book'].notnull().sum().sum()"
   ]
  },
  {
   "cell_type": "code",
   "execution_count": 47,
   "metadata": {
    "collapsed": true
   },
   "outputs": [],
   "source": [
    "BOOKS_df = CATS_df[:-1][df.GROUP=='Book']"
   ]
  },
  {
   "cell_type": "code",
   "execution_count": 48,
   "metadata": {
    "collapsed": true
   },
   "outputs": [],
   "source": [
    "value_counts = BOOKS_df.stack().value_counts()"
   ]
  },
  {
   "cell_type": "code",
   "execution_count": 49,
   "metadata": {},
   "outputs": [
    {
     "data": {
      "text/plain": [
       "   |Books[283155]|Specialty Stores[504360]|Foreign Language Books[3118571]|More Languages[3198801]|Polish[3151661]      1\n",
       "   |Books[283155]|Subjects[1000]|Law[10777]|One-L[173482]|Annotations & Citations[227140]                               1\n",
       "   |Books[283155]|Subjects[1000]|Children's Books[4]|Series[3302]|Historical[3343]|Portraits of Little Women[281862]    1\n",
       "   |Books[283155]|Subjects[1000]|Literature & Fiction[17]|Authors, A-Z[70021]|( C )[70024]|Cullen, Countee[70194]       1\n",
       "   |Books[283155]|Subjects[1000]|Mystery & Thrillers[18]|Authors, A-Z[69300]|( R )[69318]|Rubino, Jane[69622]           1\n",
       "dtype: int64"
      ]
     },
     "execution_count": 49,
     "metadata": {},
     "output_type": "execute_result"
    }
   ],
   "source": [
    "# there are many categories which only contain 1 entry.. these are redundant and should be removed first if we desire to \n",
    "# lower the category count as much as possible while removing as few data points as possible. \n",
    "\n",
    "# since value_counts is ordered, we can splice this list to remove the categories which appears on the least entries\n",
    "# we take the sum of the to-be-removed value counts to see how many entries we would lose\n",
    "\n",
    "value_counts.sort_values(ascending=True)[0:5]"
   ]
  },
  {
   "cell_type": "code",
   "execution_count": 50,
   "metadata": {},
   "outputs": [
    {
     "name": "stdout",
     "output_type": "stream",
     "text": [
      "0.1032722384955104\n",
      "0.25991909133343705\n"
     ]
    }
   ],
   "source": [
    "# to achieve only 10% reduction in entries, we need to keep about 26% of original categories\n",
    "\n",
    "# note - we can re-arrange all this so we instead input the desired reduction/preservation and output the \n",
    "# % threshold..this is slightly lazy/sloppy design\n",
    "\n",
    "cat_count_threshold = int(len(value_counts)*.26)\n",
    "\n",
    "print(value_counts[cat_count_threshold:].sum()/CATS_df[:-1][df.GROUP=='Book'].notnull().sum().sum())\n",
    "print(cat_count_threshold/len(pd.unique(CATS_df[:-1][df.GROUP=='Book'].values.ravel())))"
   ]
  },
  {
   "cell_type": "code",
   "execution_count": 51,
   "metadata": {},
   "outputs": [
    {
     "name": "stdout",
     "output_type": "stream",
     "text": [
      "0.2825090656370871\n",
      "0.09996888128209118\n"
     ]
    }
   ],
   "source": [
    "# we need to remove about 28% of entries, in order to reduce categories to 10% of original categories\n",
    "\n",
    "cat_count_threshold = int(len(value_counts)*.10)\n",
    "\n",
    "print(value_counts[cat_count_threshold:].sum()/CATS_df[:-1][df.GROUP=='Book'].notnull().sum().sum())\n",
    "print(cat_count_threshold/len(pd.unique(CATS_df[:-1][df.GROUP=='Book'].values.ravel())))"
   ]
  },
  {
   "cell_type": "code",
   "execution_count": 52,
   "metadata": {
    "collapsed": true
   },
   "outputs": [],
   "source": [
    "# the target of 10% reduction in entries for a 90% reduction in categories is not feasible, as shown by cells above"
   ]
  },
  {
   "cell_type": "markdown",
   "metadata": {},
   "source": [
    "---"
   ]
  },
  {
   "cell_type": "markdown",
   "metadata": {},
   "source": [
    "__1. Algorithm thinking__\n",
    "\n",
    "How would you build the product categorization from scratch, using similar/co-purchased\n",
    "information? "
   ]
  },
  {
   "cell_type": "code",
   "execution_count": 53,
   "metadata": {
    "collapsed": true
   },
   "outputs": [],
   "source": [
    "# using the given groups, i would count the number of occurences of each unique co-purchased ASIN and compile a data table\n",
    "# of those which occur most frequently. for a given ASIN that occures very frequently, i would assign it a category.\n",
    "# then, i would iteratively repeat the process within the datapoints which contain that ASIN to find other \n",
    "# 'very-frequent' occurences which i would assign to a sub-cateogry. i would repeat this process to a desired extent\n",
    "# such that i have groupings (defined subsets) of datapoints to a desired level of depth and breadth. depth is achieved\n",
    "# through the iterative process of adding sub-categories, whereas breadth is achieved by creating new categories\n",
    "# within a level by moving down the list of frequently-occuring ASINs. since this is hierarchical, we can increase \n",
    "# breadth/depth at any level...to the extent to which we have available data"
   ]
  },
  {
   "cell_type": "markdown",
   "metadata": {},
   "source": [
    "__2. Product thinking__\n",
    "\n",
    "Now, put on your 'product thinking' hat."
   ]
  },
  {
   "cell_type": "markdown",
   "metadata": {
    "collapsed": true
   },
   "source": [
    "__a. Is it a good idea to show users the categorization hierarchy for items?__\n"
   ]
  },
  {
   "cell_type": "markdown",
   "metadata": {},
   "source": [
    "Yes. If a user searches for a specific item and is presented with the categorization hierarchy for that item, he will know what grouping (product subset) to explore to find similar products. quite often, users will use the web to research and find products fit to their preferences. This is often not the first search made, and showing the categorization hierarchy will increase the probability that the user will find a product he will purchase."
   ]
  },
  {
   "cell_type": "markdown",
   "metadata": {},
   "source": [
    "__b. Is it a good idea to show users similar/co-purchased items?__"
   ]
  },
  {
   "cell_type": "markdown",
   "metadata": {
    "collapsed": true
   },
   "source": [
    "Also yes. Assuming that a user has already decided to purchase an item, showing similar and 'frequently-bought-together' is about as targeted as you can get with respect to advertisement. Not only is the similar product relevant to the user, the user is currently about to purchase another product that is complimentary to the advertised item. This would be a very directly relevant product advertised at a very appropriate time (from the buyer's perspective)."
   ]
  },
  {
   "cell_type": "markdown",
   "metadata": {},
   "source": [
    "__c. Is it a good idea to show users reviews and ratings for items?__"
   ]
  },
  {
   "cell_type": "markdown",
   "metadata": {
    "collapsed": true
   },
   "source": [
    "This would depend on the reviews/ratings on the item. If an item has poor ratings/reviews, it is not a great idea to show the \n",
    "customer the ratings/reviews, lest the information dissuades the customer from purchasing the item. On the other hand,\n",
    "if any item has great ratings/reviews, it would seem to be a very good idea to show the customer the ratings/reviews. The\n",
    "information will likely improve the likelihood that the customer will purchase the item.\n",
    "\n",
    "However, there is a question of ethics with the above answer.. It may not be ethical to show the customer inconsistent\n",
    "information, with the objective of maximizing sales. Transparency and trust are important in business relations"
   ]
  },
  {
   "cell_type": "markdown",
   "metadata": {},
   "source": [
    "__d. For each of the above, why? How will you establish the same?__"
   ]
  },
  {
   "cell_type": "markdown",
   "metadata": {
    "collapsed": true
   },
   "source": [
    "answered above"
   ]
  }
 ],
 "metadata": {
  "kernelspec": {
   "display_name": "Python 3",
   "language": "python",
   "name": "python3"
  },
  "language_info": {
   "codemirror_mode": {
    "name": "ipython",
    "version": 3
   },
   "file_extension": ".py",
   "mimetype": "text/x-python",
   "name": "python",
   "nbconvert_exporter": "python",
   "pygments_lexer": "ipython3",
   "version": "3.6.3"
  }
 },
 "nbformat": 4,
 "nbformat_minor": 2
}
