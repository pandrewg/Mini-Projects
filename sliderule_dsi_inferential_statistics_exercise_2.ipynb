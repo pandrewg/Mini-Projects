{
 "cells": [
  {
   "cell_type": "markdown",
   "metadata": {},
   "source": [
    "# Examining Racial Discrimination in the US Job Market\n",
    "\n",
    "### Background\n",
    "Racial discrimination continues to be pervasive in cultures throughout the world. Researchers examined the level of racial discrimination in the United States labor market by randomly assigning identical résumés to black-sounding or white-sounding names and observing the impact on requests for interviews from employers.\n",
    "\n",
    "### Data\n",
    "In the dataset provided, each row represents a resume. The 'race' column has two values, 'b' and 'w', indicating black-sounding and white-sounding. The column 'call' has two values, 1 and 0, indicating whether the resume received a call from employers or not.\n",
    "\n",
    "Note that the 'b' and 'w' values in race are assigned randomly to the resumes when presented to the employer."
   ]
  },
  {
   "cell_type": "markdown",
   "metadata": {},
   "source": [
    "<div class=\"span5 alert alert-info\">\n",
    "### Exercises\n",
    "You will perform a statistical analysis to establish whether race has a significant impact on the rate of callbacks for resumes.\n",
    "\n",
    "Answer the following questions **in this notebook below and submit to your Github account**. \n",
    "\n",
    "   1. What test is appropriate for this problem? Does CLT apply?\n",
    "   2. What are the null and alternate hypotheses?\n",
    "   3. Compute margin of error, confidence interval, and p-value.\n",
    "   4. Write a story describing the statistical significance in the context or the original problem.\n",
    "   5. Does your analysis mean that race/name is the most important factor in callback success? Why or why not? If not, how would you amend your analysis?\n",
    "\n",
    "You can include written notes in notebook cells using Markdown: \n",
    "   - In the control panel at the top, choose Cell > Cell Type > Markdown\n",
    "   - Markdown syntax: http://nestacms.com/docs/creating-content/markdown-cheat-sheet\n",
    "\n",
    "\n",
    "#### Resources\n",
    "+ Experiment information and data source: http://www.povertyactionlab.org/evaluation/discrimination-job-market-united-states\n",
    "+ Scipy statistical methods: http://docs.scipy.org/doc/scipy/reference/stats.html \n",
    "+ Markdown syntax: http://nestacms.com/docs/creating-content/markdown-cheat-sheet\n",
    "</div>\n",
    "****"
   ]
  },
  {
   "cell_type": "code",
   "execution_count": 72,
   "metadata": {
    "collapsed": true
   },
   "outputs": [],
   "source": [
    "import pandas as pd\n",
    "import numpy as np\n",
    "import scipy as sp\n",
    "from scipy import stats"
   ]
  },
  {
   "cell_type": "code",
   "execution_count": 33,
   "metadata": {
    "collapsed": false
   },
   "outputs": [],
   "source": [
    "data = pd.io.stata.read_stata('data/us_job_market_discrimination.dta')"
   ]
  },
  {
   "cell_type": "code",
   "execution_count": 34,
   "metadata": {
    "collapsed": false
   },
   "outputs": [
    {
     "data": {
      "text/plain": [
       "157.0"
      ]
     },
     "execution_count": 34,
     "metadata": {},
     "output_type": "execute_result"
    }
   ],
   "source": [
    "# number of callbacks for black-sounding names\n",
    "sum(data[data.race=='b'].call)"
   ]
  },
  {
   "cell_type": "code",
   "execution_count": 36,
   "metadata": {
    "collapsed": false
   },
   "outputs": [
    {
     "data": {
      "text/plain": [
       "4870"
      ]
     },
     "execution_count": 36,
     "metadata": {},
     "output_type": "execute_result"
    }
   ],
   "source": [
    "len(data)"
   ]
  },
  {
   "cell_type": "code",
   "execution_count": 37,
   "metadata": {
    "collapsed": true
   },
   "outputs": [],
   "source": [
    "#1\n",
    "#a two-sample t-test is most appropriate for this problem. we do not know the population SD so we use a t-test;\n",
    "#we are testing between black and white resumes so we must use a two-sample test\n",
    "#the sample is sufficiently big and the observations are independent, so we can apply the CLT\n",
    "#we will use the sample sum as the test statistic: ~N(n*mu, SD*sqrt(n))\n",
    "\n",
    "#2\n",
    "#null hypothesis: there is no difference between callback frequency between black and white sounding names\n",
    "#alternative hypothesis: under some level of significance, there is a difference in callback frequency"
   ]
  },
  {
   "cell_type": "code",
   "execution_count": 45,
   "metadata": {
    "collapsed": false
   },
   "outputs": [],
   "source": [
    "#3 \n",
    "import matplotlib.pyplot as plt\n",
    "import math\n",
    "%matplotlib inline\n"
   ]
  },
  {
   "cell_type": "code",
   "execution_count": 56,
   "metadata": {
    "collapsed": false
   },
   "outputs": [
    {
     "name": "stdout",
     "output_type": "stream",
     "text": [
      "2435\n",
      "2435\n"
     ]
    }
   ],
   "source": [
    "print(len(data[data['race']=='b']['call']))\n",
    "print(len(data[data['race']=='w']['call']))\n",
    "#since the number of resumes sent out is the same for white and black, we do not need to normalize. we can\n",
    "#directly compare the sample sums"
   ]
  },
  {
   "cell_type": "code",
   "execution_count": 69,
   "metadata": {
    "collapsed": false
   },
   "outputs": [
    {
     "name": "stdout",
     "output_type": "stream",
     "text": [
      "margin of error white: 29.14807368145442\n",
      "95% CI white: [205.85192710085653, 264.1480744637654]\n"
     ]
    }
   ],
   "source": [
    "#white resumes\n",
    "CI_white = [0,0]\n",
    "n_mu_white = len(data[data['race']=='w']['call'])*data[data['race']=='w']['call'].mean()\n",
    "margin_white = data[data['race']=='w']['call'].std()*2*math.sqrt(len(data[data['race']=='w']['call']))\n",
    "CI_white[0] = n_mu_white - margin_white\n",
    "CI_white[1] = n_mu_white + margin_white\n",
    "print('margin of error white: ' + str(margin_white))\n",
    "print('95% CI white: ' + str(CI_white))\n",
    "#this confidence interval is the 95% C.I. for the number of interview calls we would expect for the\n",
    "#number of white resumes sent out in this experiment, i.e. 2435"
   ]
  },
  {
   "cell_type": "code",
   "execution_count": 71,
   "metadata": {
    "collapsed": false
   },
   "outputs": [
    {
     "name": "stdout",
     "output_type": "stream",
     "text": [
      "margin of error black: 24.243498234569714\n",
      "95% CI black: [132.75650097566876, 181.24349744480816]\n"
     ]
    }
   ],
   "source": [
    "#black resumes\n",
    "CI_black = [0,0]\n",
    "n_mu_black = len(data[data['race']=='b']['call'])*data[data['race']=='b']['call'].mean()\n",
    "margin_black = data[data['race']=='b']['call'].std()*2*math.sqrt(len(data[data['race']=='b']['call']))\n",
    "CI_black[0] = n_mu_black - margin_black\n",
    "CI_black[1] = n_mu_black + margin_black\n",
    "print('margin of error black: ' + str(margin_black))\n",
    "print('95% CI black: ' + str(CI_black))\n",
    "#this confidence interval is the 95% C.I. for the number of interview calls we would expect for the\n",
    "#number of black resumes sent out in this experiment, i.e. 2435"
   ]
  },
  {
   "cell_type": "code",
   "execution_count": 75,
   "metadata": {
    "collapsed": false
   },
   "outputs": [
    {
     "data": {
      "text/plain": [
       "Ttest_indResult(statistic=-4.1147052908617514, pvalue=3.9408021031288859e-05)"
      ]
     },
     "execution_count": 75,
     "metadata": {},
     "output_type": "execute_result"
    }
   ],
   "source": [
    "sp.stats.ttest_ind(data[data['race']=='b']['call'],data[data['race']=='w']['call'])\n",
    "\n",
    "#the pvalue suggests that there is significant evidence to assume there is a difference in the means of the sample sums\n"
   ]
  },
  {
   "cell_type": "code",
   "execution_count": null,
   "metadata": {
    "collapsed": true
   },
   "outputs": [],
   "source": [
    "#4\n",
    "\n",
    "#when we compare the total callbacks between the white resumes and black resumes, there is significant evidence\n",
    "#to suggest that there is an underlying bias to favor resumes with white-sounding names. if there were truly no bias\n",
    "#between the callback frequency between white resumes and black resumes, the probability that we would observe the\n",
    "#given dataset or any dataset with a more skewed result is extremely small--less than .01% "
   ]
  },
  {
   "cell_type": "code",
   "execution_count": null,
   "metadata": {
    "collapsed": true
   },
   "outputs": [],
   "source": [
    "#5\n",
    "\n",
    "#we have not done enough analysis to conclude that race is the prominent factor affecting callback decisions. from our\n",
    "#analysis we can conclude that race is a significant factor, but we would need to run similar tests over \n",
    "#other variables to explore any remaining biases. we would simply group resumes by category for whatever variable\n",
    "#is of interest. (e.g. what we did here was test for white/black categories of the race variable)"
   ]
  },
  {
   "cell_type": "code",
   "execution_count": null,
   "metadata": {
    "collapsed": true
   },
   "outputs": [],
   "source": []
  },
  {
   "cell_type": "code",
   "execution_count": null,
   "metadata": {
    "collapsed": true
   },
   "outputs": [],
   "source": []
  },
  {
   "cell_type": "code",
   "execution_count": null,
   "metadata": {
    "collapsed": true
   },
   "outputs": [],
   "source": []
  }
 ],
 "metadata": {
  "kernelspec": {
   "display_name": "Python 3",
   "language": "python",
   "name": "python3"
  },
  "language_info": {
   "codemirror_mode": {
    "name": "ipython",
    "version": 3
   },
   "file_extension": ".py",
   "mimetype": "text/x-python",
   "name": "python",
   "nbconvert_exporter": "python",
   "pygments_lexer": "ipython3",
   "version": "3.6.0"
  }
 },
 "nbformat": 4,
 "nbformat_minor": 0
}
